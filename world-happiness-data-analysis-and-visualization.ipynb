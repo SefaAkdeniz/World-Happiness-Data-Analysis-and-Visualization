{
 "cells": [
  {
   "cell_type": "markdown",
   "metadata": {},
   "source": [
    "# World Happiness Data Analysis and Visualization"
   ]
  },
  {
   "cell_type": "markdown",
   "metadata": {},
   "source": [
    "### Used Libraries\n",
    "1. NumPy (Numerical Python)\n",
    "2. Pandas\n",
    "3. Matplotlib\n",
    "4. Seaborn\n",
    "5. Plotly\n",
    "6. Missingno"
   ]
  },
  {
   "cell_type": "code",
   "execution_count": 1,
   "metadata": {
    "_cell_guid": "b1076dfc-b9ad-4769-8c92-a6c4dae69d19",
    "_uuid": "8f2839f25d086af736a60e9eeb907d3b93b6e0e5"
   },
   "outputs": [
    {
     "data": {
      "text/html": [
       "        <script type=\"text/javascript\">\n",
       "        window.PlotlyConfig = {MathJaxConfig: 'local'};\n",
       "        if (window.MathJax) {MathJax.Hub.Config({SVG: {font: \"STIX-Web\"}});}\n",
       "        if (typeof require !== 'undefined') {\n",
       "        require.undef(\"plotly\");\n",
       "        requirejs.config({\n",
       "            paths: {\n",
       "                'plotly': ['https://cdn.plot.ly/plotly-latest.min']\n",
       "            }\n",
       "        });\n",
       "        require(['plotly'], function(Plotly) {\n",
       "            window._Plotly = Plotly;\n",
       "        });\n",
       "        }\n",
       "        </script>\n",
       "        "
      ]
     },
     "metadata": {},
     "output_type": "display_data"
    },
    {
     "name": "stdout",
     "output_type": "stream",
     "text": [
      "/kaggle/input/world-happiness/2017.csv\n",
      "/kaggle/input/world-happiness/2016.csv\n",
      "/kaggle/input/world-happiness/2015.csv\n"
     ]
    }
   ],
   "source": [
    "import numpy as np # linear algebra\n",
    "import pandas as pd # data processing, CSV file I/O (e.g. pd.read_csv)\n",
    "\n",
    "# visualization tools\n",
    "import matplotlib.pyplot as plt\n",
    "from wordcloud import WordCloud\n",
    "import seaborn as sns\n",
    "import plotly.graph_objects as go\n",
    "import plotly.express as px\n",
    "from plotly.offline import init_notebook_mode, iplot\n",
    "init_notebook_mode(connected=True)\n",
    "\n",
    "import os\n",
    "for dirname, _, filenames in os.walk('/kaggle/input'):\n",
    "    for filename in filenames:\n",
    "        print(os.path.join(dirname, filename))"
   ]
  },
  {
   "cell_type": "markdown",
   "metadata": {},
   "source": [
    "### Content:\n",
    "1. Missingo - Missing Data\n",
    "2. Data Cleaning\n",
    "3. Seaborn - Heatmap\n",
    "4. Seaborn - Bar Plot\n",
    "5. Plotly - Line and Scatter Plot\n",
    "6. Plotly - Radar Chart\n",
    "7. Plotly - Box Plot\n",
    "8. Plotly - 3D Scatter Plot"
   ]
  },
  {
   "cell_type": "markdown",
   "metadata": {},
   "source": [
    "### Reading Data"
   ]
  },
  {
   "cell_type": "code",
   "execution_count": 2,
   "metadata": {},
   "outputs": [],
   "source": [
    "df2015 = pd.read_csv(\"../input/world-happiness/2015.csv\")\n",
    "df2016 = pd.read_csv(\"../input/world-happiness/2016.csv\")\n",
    "df2017 = pd.read_csv(\"../input/world-happiness/2017.csv\")"
   ]
  },
  {
   "cell_type": "code",
   "execution_count": 3,
   "metadata": {},
   "outputs": [
    {
     "data": {
      "text/html": [
       "<div>\n",
       "<style scoped>\n",
       "    .dataframe tbody tr th:only-of-type {\n",
       "        vertical-align: middle;\n",
       "    }\n",
       "\n",
       "    .dataframe tbody tr th {\n",
       "        vertical-align: top;\n",
       "    }\n",
       "\n",
       "    .dataframe thead th {\n",
       "        text-align: right;\n",
       "    }\n",
       "</style>\n",
       "<table border=\"1\" class=\"dataframe\">\n",
       "  <thead>\n",
       "    <tr style=\"text-align: right;\">\n",
       "      <th></th>\n",
       "      <th>Country</th>\n",
       "      <th>Happiness.Rank</th>\n",
       "      <th>Happiness.Score</th>\n",
       "      <th>Whisker.high</th>\n",
       "      <th>Whisker.low</th>\n",
       "      <th>Economy..GDP.per.Capita.</th>\n",
       "      <th>Family</th>\n",
       "      <th>Health..Life.Expectancy.</th>\n",
       "      <th>Freedom</th>\n",
       "      <th>Generosity</th>\n",
       "      <th>Trust..Government.Corruption.</th>\n",
       "      <th>Dystopia.Residual</th>\n",
       "    </tr>\n",
       "  </thead>\n",
       "  <tbody>\n",
       "    <tr>\n",
       "      <td>83</td>\n",
       "      <td>Morocco</td>\n",
       "      <td>84</td>\n",
       "      <td>5.235</td>\n",
       "      <td>5.318341</td>\n",
       "      <td>5.151659</td>\n",
       "      <td>0.878115</td>\n",
       "      <td>0.774864</td>\n",
       "      <td>0.597711</td>\n",
       "      <td>0.408158</td>\n",
       "      <td>0.032210</td>\n",
       "      <td>0.087763</td>\n",
       "      <td>2.456189</td>\n",
       "    </tr>\n",
       "    <tr>\n",
       "      <td>93</td>\n",
       "      <td>Vietnam</td>\n",
       "      <td>94</td>\n",
       "      <td>5.074</td>\n",
       "      <td>5.147281</td>\n",
       "      <td>5.000719</td>\n",
       "      <td>0.788548</td>\n",
       "      <td>1.277491</td>\n",
       "      <td>0.652169</td>\n",
       "      <td>0.571056</td>\n",
       "      <td>0.234968</td>\n",
       "      <td>0.087633</td>\n",
       "      <td>1.462319</td>\n",
       "    </tr>\n",
       "    <tr>\n",
       "      <td>14</td>\n",
       "      <td>Ireland</td>\n",
       "      <td>15</td>\n",
       "      <td>6.977</td>\n",
       "      <td>7.043352</td>\n",
       "      <td>6.910649</td>\n",
       "      <td>1.535707</td>\n",
       "      <td>1.558231</td>\n",
       "      <td>0.809783</td>\n",
       "      <td>0.573110</td>\n",
       "      <td>0.427858</td>\n",
       "      <td>0.298388</td>\n",
       "      <td>1.773869</td>\n",
       "    </tr>\n",
       "    <tr>\n",
       "      <td>153</td>\n",
       "      <td>Burundi</td>\n",
       "      <td>154</td>\n",
       "      <td>2.905</td>\n",
       "      <td>3.074690</td>\n",
       "      <td>2.735310</td>\n",
       "      <td>0.091623</td>\n",
       "      <td>0.629794</td>\n",
       "      <td>0.151611</td>\n",
       "      <td>0.059901</td>\n",
       "      <td>0.204435</td>\n",
       "      <td>0.084148</td>\n",
       "      <td>1.683024</td>\n",
       "    </tr>\n",
       "    <tr>\n",
       "      <td>149</td>\n",
       "      <td>Togo</td>\n",
       "      <td>150</td>\n",
       "      <td>3.495</td>\n",
       "      <td>3.594038</td>\n",
       "      <td>3.395962</td>\n",
       "      <td>0.305445</td>\n",
       "      <td>0.431883</td>\n",
       "      <td>0.247106</td>\n",
       "      <td>0.380426</td>\n",
       "      <td>0.196896</td>\n",
       "      <td>0.095665</td>\n",
       "      <td>1.837229</td>\n",
       "    </tr>\n",
       "  </tbody>\n",
       "</table>\n",
       "</div>"
      ],
      "text/plain": [
       "     Country  Happiness.Rank  Happiness.Score  Whisker.high  Whisker.low  \\\n",
       "83   Morocco              84            5.235      5.318341     5.151659   \n",
       "93   Vietnam              94            5.074      5.147281     5.000719   \n",
       "14   Ireland              15            6.977      7.043352     6.910649   \n",
       "153  Burundi             154            2.905      3.074690     2.735310   \n",
       "149     Togo             150            3.495      3.594038     3.395962   \n",
       "\n",
       "     Economy..GDP.per.Capita.    Family  Health..Life.Expectancy.   Freedom  \\\n",
       "83                   0.878115  0.774864                  0.597711  0.408158   \n",
       "93                   0.788548  1.277491                  0.652169  0.571056   \n",
       "14                   1.535707  1.558231                  0.809783  0.573110   \n",
       "153                  0.091623  0.629794                  0.151611  0.059901   \n",
       "149                  0.305445  0.431883                  0.247106  0.380426   \n",
       "\n",
       "     Generosity  Trust..Government.Corruption.  Dystopia.Residual  \n",
       "83     0.032210                       0.087763           2.456189  \n",
       "93     0.234968                       0.087633           1.462319  \n",
       "14     0.427858                       0.298388           1.773869  \n",
       "153    0.204435                       0.084148           1.683024  \n",
       "149    0.196896                       0.095665           1.837229  "
      ]
     },
     "execution_count": 3,
     "metadata": {},
     "output_type": "execute_result"
    }
   ],
   "source": [
    "df2017.sample(5)"
   ]
  },
  {
   "cell_type": "code",
   "execution_count": 4,
   "metadata": {},
   "outputs": [
    {
     "name": "stdout",
     "output_type": "stream",
     "text": [
      "<class 'pandas.core.frame.DataFrame'>\n",
      "RangeIndex: 155 entries, 0 to 154\n",
      "Data columns (total 12 columns):\n",
      "Country                          155 non-null object\n",
      "Happiness.Rank                   155 non-null int64\n",
      "Happiness.Score                  155 non-null float64\n",
      "Whisker.high                     155 non-null float64\n",
      "Whisker.low                      155 non-null float64\n",
      "Economy..GDP.per.Capita.         155 non-null float64\n",
      "Family                           155 non-null float64\n",
      "Health..Life.Expectancy.         155 non-null float64\n",
      "Freedom                          155 non-null float64\n",
      "Generosity                       155 non-null float64\n",
      "Trust..Government.Corruption.    155 non-null float64\n",
      "Dystopia.Residual                155 non-null float64\n",
      "dtypes: float64(10), int64(1), object(1)\n",
      "memory usage: 14.7+ KB\n"
     ]
    }
   ],
   "source": [
    "df2017.info()"
   ]
  },
  {
   "cell_type": "code",
   "execution_count": 5,
   "metadata": {},
   "outputs": [
    {
     "data": {
      "text/plain": [
       "Country                          0\n",
       "Happiness.Rank                   0\n",
       "Happiness.Score                  0\n",
       "Whisker.high                     0\n",
       "Whisker.low                      0\n",
       "Economy..GDP.per.Capita.         0\n",
       "Family                           0\n",
       "Health..Life.Expectancy.         0\n",
       "Freedom                          0\n",
       "Generosity                       0\n",
       "Trust..Government.Corruption.    0\n",
       "Dystopia.Residual                0\n",
       "dtype: int64"
      ]
     },
     "execution_count": 5,
     "metadata": {},
     "output_type": "execute_result"
    }
   ],
   "source": [
    "df2017.isnull().sum()"
   ]
  },
  {
   "cell_type": "markdown",
   "metadata": {},
   "source": [
    "# Missingno - Missing Data"
   ]
  },
  {
   "cell_type": "code",
   "execution_count": 6,
   "metadata": {},
   "outputs": [
    {
     "data": {
      "image/png": "[encoded data removed]",
      "text/plain": [
       "<Figure size 1800x720 with 2 Axes>"
      ]
     },
     "metadata": {
      "needs_background": "light"
     },
     "output_type": "display_data"
    }
   ],
   "source": [
    "import missingno as msno\n",
    "msno.matrix(df2017)\n",
    "plt.show()"
   ]
  },
  {
   "cell_type": "markdown",
   "metadata": {},
   "source": [
    "# Data Cleaning"
   ]
  },
  {
   "cell_type": "code",
   "execution_count": 7,
   "metadata": {},
   "outputs": [
    {
     "data": {
      "text/plain": [
       "Index(['Country', 'Happiness.Rank', 'Happiness.Score', 'Whisker.high',\n",
       "       'Whisker.low', 'Economy..GDP.per.Capita.', 'Family',\n",
       "       'Health..Life.Expectancy.', 'Freedom', 'Generosity',\n",
       "       'Trust..Government.Corruption.', 'Dystopia.Residual'],\n",
       "      dtype='object')"
      ]
     },
     "execution_count": 7,
     "metadata": {},
     "output_type": "execute_result"
    }
   ],
   "source": [
    "df2017.columns"
   ]
  },
  {
   "cell_type": "code",
   "execution_count": 8,
   "metadata": {},
   "outputs": [],
   "source": [
    "df2017.columns=[each.replace(\".\",\"\") for each in df2017.columns]\n",
    "df2016.columns=[each.replace(\" \",\"\") for each in df2016.columns]\n",
    "df2015.columns=[each.replace(\" \",\"\") for each in df2015.columns]"
   ]
  },
  {
   "cell_type": "code",
   "execution_count": 9,
   "metadata": {},
   "outputs": [
    {
     "data": {
      "text/plain": [
       "Index(['Country', 'HappinessRank', 'HappinessScore', 'Whiskerhigh',\n",
       "       'Whiskerlow', 'EconomyGDPperCapita', 'Family', 'HealthLifeExpectancy',\n",
       "       'Freedom', 'Generosity', 'TrustGovernmentCorruption',\n",
       "       'DystopiaResidual'],\n",
       "      dtype='object')"
      ]
     },
     "execution_count": 9,
     "metadata": {},
     "output_type": "execute_result"
    }
   ],
   "source": [
    "df2017.columns"
   ]
  },
  {
   "cell_type": "markdown",
   "metadata": {},
   "source": [
    "# Seaborn - Heatmap\n",
    "### Relationship between columns\n",
    "* 01 --> Direct proportion\n",
    "* 00 --> No relationship\n",
    "* -1 --> İnverse proportion"
   ]
  },
  {
   "cell_type": "code",
   "execution_count": 10,
   "metadata": {},
   "outputs": [
    {
     "data": {
      "image/png": "[encoded data removed]",
      "text/plain": [
       "<Figure size 1800x1080 with 2 Axes>"
      ]
     },
     "metadata": {
      "needs_background": "light"
     },
     "output_type": "display_data"
    }
   ],
   "source": [
    "f,ax = plt.subplots(figsize=(25, 15))\n",
    "sns.heatmap(df2017.corr(), annot=True, linewidths=0.5,linecolor=\"red\", fmt= '.1f',ax=ax)\n",
    "plt.show()"
   ]
  },
  {
   "cell_type": "markdown",
   "metadata": {},
   "source": [
    "# Seaborn - Bar Plot"
   ]
  },
  {
   "cell_type": "code",
   "execution_count": 11,
   "metadata": {},
   "outputs": [
    {
     "data": {
      "image/png": "[encoded data removed]",
      "text/plain": [
       "<Figure size 1800x720 with 1 Axes>"
      ]
     },
     "metadata": {
      "needs_background": "light"
     },
     "output_type": "display_data"
    }
   ],
   "source": [
    "plt.figure(figsize=(25,10))\n",
    "sns.barplot(x=df2017.Country, y=df2017.HappinessScore)\n",
    "plt.xticks(rotation= 90)\n",
    "plt.xlabel('Country')\n",
    "plt.ylabel('Count')\n",
    "plt.show()"
   ]
  },
  {
   "cell_type": "markdown",
   "metadata": {},
   "source": [
    "# Plotly - Line and Scatter Plot ( Interactive )"
   ]
  },
  {
   "cell_type": "code",
   "execution_count": 12,
   "metadata": {},
   "outputs": [
    {
     "data": {
      "application/vnd.plotly.v1+json": {
       "config": {
        "plotlyServerURL": "https://plot.ly"
       },
       "data": [
        {
         "mode": "lines+markers",
         "name": "2017",
         "type": "scatter",
         "x": [
          1,
          2,
          3,
          4,
          5,
          6,
          7,
          8,
          9,
          10,
          11,
          12,
          13,
          14,
          15,
          16,
          17,
          18,
          19,
          20,
          21,
          22,
          23,
          24,
          25,
          26,
          27,
          28,
          29,
          30,
          31,
          32,
          33,
          34,
          35,
          36,
          37,
          38,
          39,
          40,
          41,
          42,
          43,
          44,
          45,
          46,
          47,
          48,
          49,
          50,
          51,
          52,
          53,
          54,
          55,
          56,
          57,
          58,
          59,
          60,
          61,
          62,
          63,
          64,
          65,
          66,
          67,
          68,
          69,
          70,
          71,
          72,
          73,
          74,
          75,
          76,
          77,
          78,
          79,
          80,
          81,
          82,
          83,
          84,
          85,
          86,
          87,
          88,
          89,
          90,
          91,
          92,
          93,
          94,
          95,
          96,
          97,
          98,
          99,
          100,
          101,
          102,
          103,
          104,
          105,
          106,
          107,
          108,
          109,
          110,
          111,
          112,
          113,
          114,
          115,
          116,
          117,
          118,
          119,
          120,
          121,
          122,
          123,
          124,
          125,
          126,
          127,
          128,
          129,
          130,
          131,
          132,
          133,
          134,
          135,
          136,
          137,
          138,
          139,
          140,
          141,
          142,
          143,
          144,
          145,
          146,
          147,
          148,
          149,
          150,
          151,
          152,
          153,
          154,
          155
         ],
         "y": [
          1.6164631843566901,
          1.48238301277161,
          1.480633020401,
          1.5649795532226598,
          1.44357192516327,
          1.50394463539124,
          1.47920441627502,
          1.40570604801178,
          1.49438726902008,
          1.4844149351120002,
          1.3753824234008798,
          1.10970628261566,
          1.4870972633361799,
          1.54625928401947,
          1.5357066392898602,
          1.48792338371277,
          1.4637807607650801,
          1.74194359779358,
          1.44163393974304,
          1.25278460979462,
          1.6263433694839498,
          1.1073532104492199,
          1.35268235206604,
          1.18529546260834,
          1.1531838178634601,
          1.69227766990662,
          1.34327983856201,
          1.2175596952438401,
          0.872001945972443,
          1.23374843597412,
          1.43092346191406,
          1.12786877155304,
          1.4336265325546298,
          1.38439786434174,
          1.8707656860351598,
          1.07062232494354,
          1.53062355518341,
          1.36135590076447,
          1.63295245170593,
          1.32539355754852,
          1.4884122610092199,
          1.29121541976929,
          0.737299203872681,
          1.00082039833069,
          0.9097844958305359,
          1.29178786277771,
          0.786441087722778,
          1.3950666189193701,
          1.28177809715271,
          0.907975316047668,
          1.41691517829895,
          1.3145823478698702,
          1.09186446666718,
          1.26074862480164,
          1.40167844295502,
          0.7288706302642819,
          1.21768391132355,
          0.833756566047668,
          1.1307767629623402,
          1.2845562696456898,
          1.3469113111496,
          1.3412059545516999,
          1.0352252721786501,
          1.1893955469131499,
          1.3559380769729599,
          1.3208793401718102,
          1.15655755996704,
          1.1018030643463101,
          1.1982743740081798,
          0.932537317276001,
          1.55167484283447,
          0.85769921541214,
          1.06931757926941,
          0.9910123944282528,
          1.2860119342803997,
          0.925579309463501,
          1.22255623340607,
          0.951484382152557,
          1.08116579055786,
          0.7268835306167599,
          0.995538592338562,
          1.12843120098114,
          1.12112903594971,
          0.8781145811080929,
          1.1536017656326298,
          1.07937383651733,
          1.28948748111725,
          1.07498753070831,
          1.3151752948761002,
          0.982409417629242,
          0.730573117733002,
          1.06457793712616,
          0.0226431842893362,
          0.7885475754737851,
          0.783756256103516,
          0.524713635444641,
          0.885416388511658,
          0.5962200760841371,
          0.479820191860199,
          1.0272358655929599,
          1.05469870567322,
          1.00726580619812,
          0.716249227523804,
          0.989701807498932,
          1.1614590883255,
          0.36842092871666,
          0.564305365085602,
          1.15687310695648,
          0.996192753314972,
          0.586682975292206,
          0.964434325695038,
          0.560479462146759,
          0.23430564999580397,
          0.36711055040359497,
          0.479309022426605,
          0.6364067792892459,
          1.1027104854583702,
          1.1982102394104,
          0.339233845472336,
          1.00985014438629,
          0.900596737861633,
          0.7922212481498722,
          0.6484572887420649,
          0.8089642524719242,
          0.950612664222717,
          0.0921023488044739,
          0.476180493831635,
          0.6030489206314089,
          0.6017650961875921,
          0.6595166921615601,
          0.667224824428558,
          0.89465194940567,
          0.381430715322495,
          0.35022771358490007,
          0.16192533075809498,
          0.233442038297653,
          0.43801298737525896,
          0.37584653496742204,
          0.521021246910095,
          0.8584281802177429,
          0.401477217674255,
          1.12209415435791,
          0.43108540773391707,
          0.305808693170547,
          0.368610262870789,
          0.5916834473609921,
          0.39724862575531,
          0.11904179304838199,
          0.24454993009567302,
          0.30544471740722695,
          0.368745893239975,
          0.777153134346008,
          0.511135876178741,
          0.09162256866693501,
          0.0
         ]
        },
        {
         "mode": "lines+markers",
         "name": "2016",
         "type": "scatter",
         "x": [
          1,
          2,
          3,
          4,
          5,
          6,
          7,
          8,
          9,
          10,
          11,
          12,
          13,
          14,
          15,
          16,
          17,
          18,
          19,
          20,
          21,
          22,
          23,
          24,
          25,
          26,
          27,
          28,
          29,
          30,
          31,
          32,
          33,
          34,
          34,
          36,
          37,
          38,
          39,
          40,
          41,
          42,
          43,
          44,
          45,
          46,
          47,
          48,
          49,
          50,
          51,
          52,
          53,
          54,
          55,
          56,
          57,
          57,
          59,
          60,
          61,
          62,
          63,
          64,
          65,
          66,
          67,
          68,
          69,
          70,
          71,
          72,
          73,
          74,
          75,
          76,
          77,
          78,
          79,
          80,
          81,
          82,
          83,
          84,
          85,
          86,
          87,
          88,
          89,
          90,
          91,
          92,
          93,
          94,
          95,
          96,
          97,
          98,
          99,
          100,
          101,
          102,
          103,
          104,
          105,
          106,
          107,
          108,
          109,
          110,
          111,
          112,
          113,
          114,
          115,
          116,
          117,
          118,
          119,
          120,
          121,
          122,
          123,
          124,
          125,
          126,
          127,
          128,
          129,
          130,
          131,
          132,
          133,
          134,
          135,
          136,
          137,
          138,
          139,
          140,
          141,
          142,
          143,
          144,
          145,
          145,
          147,
          148,
          149,
          150,
          151,
          152,
          153,
          154,
          155,
          156,
          157
         ],
         "y": [
          1.4417799999999998,
          1.5273299999999999,
          1.42666,
          1.57744,
          1.40598,
          1.44015,
          1.46468,
          1.36066,
          1.4444299999999999,
          1.45181,
          1.33766,
          1.45038,
          1.50796,
          1.06879,
          1.35943,
          1.44787,
          1.08754,
          1.42539,
          1.4834100000000001,
          1.6975200000000001,
          1.1150799999999998,
          1.64555,
          1.40283,
          1.2167,
          1.18306,
          1.15137,
          1.30915,
          1.57352,
          1.18157,
          1.30782,
          1.0303200000000001,
          1.39488,
          1.0893,
          1.48953,
          1.39729,
          1.82427,
          1.34253,
          1.05266,
          0.83454,
          1.09686,
          1.61714,
          1.44024,
          1.32572,
          1.1336700000000002,
          1.27973,
          0.8737,
          1.25142,
          0.69384,
          0.7359100000000001,
          1.35495,
          0.97306,
          0.87616,
          1.3800700000000001,
          1.22943,
          0.69177,
          1.2322799999999998,
          1.24585,
          1.35948,
          0.79422,
          1.2692,
          1.1306200000000002,
          1.31141,
          1.2994700000000001,
          0.9960200000000001,
          1.08017,
          1.14372,
          1.0668799999999998,
          1.2178799999999999,
          1.31857,
          0.8937299999999999,
          1.1697,
          1.2796399999999999,
          0.89333,
          1.18649,
          1.5107,
          0.0,
          0.90145,
          1.1649200000000002,
          0.95104,
          0.9967299999999999,
          1.12373,
          0.81217,
          1.0278,
          0.8527,
          0.5604399999999999,
          1.03437,
          0.9338299999999999,
          1.07838,
          1.02787,
          0.8405799999999999,
          1.24142,
          0.68816,
          1.12268,
          1.27607,
          1.0193,
          0.74037,
          0.25558000000000003,
          0.97724,
          1.24886,
          0.48835,
          0.9885299999999999,
          0.68042,
          0.75216,
          0.69429,
          1.11758,
          0.61202,
          0.44626000000000005,
          0.67024,
          0.9553,
          0.54177,
          0.36485,
          1.07474,
          0.9328700000000001,
          0.5249699999999999,
          0.29283000000000003,
          1.02416,
          0.9731799999999999,
          0.74036,
          0.34112,
          0.95395,
          0.8608600000000001,
          0.52267,
          0.87287,
          0.63107,
          0.05661,
          0.8379200000000001,
          0.7710899999999999,
          0.44314,
          1.11306,
          0.6139100000000001,
          0.35041,
          0.08709,
          0.63069,
          1.15851,
          0.31292,
          0.34097,
          1.09426,
          0.27509,
          0.55507,
          0.55604,
          0.84731,
          0.1327,
          0.39394,
          0.42213999999999996,
          0.31995,
          0.34719,
          0.57939,
          0.27954,
          0.47155,
          0.10705999999999999,
          0.22415,
          0.32846,
          0.39499,
          0.38227,
          0.28123000000000004,
          0.7471899999999999,
          0.06831
         ]
        },
        {
         "mode": "lines+markers",
         "name": "2015",
         "type": "scatter",
         "x": [
          1,
          2,
          3,
          4,
          5,
          6,
          7,
          8,
          9,
          10,
          11,
          12,
          13,
          14,
          15,
          16,
          17,
          18,
          19,
          20,
          21,
          22,
          23,
          24,
          25,
          26,
          27,
          28,
          29,
          30,
          31,
          32,
          33,
          34,
          35,
          36,
          37,
          38,
          39,
          40,
          41,
          42,
          43,
          44,
          45,
          46,
          47,
          48,
          49,
          50,
          51,
          52,
          53,
          54,
          55,
          56,
          57,
          58,
          59,
          60,
          61,
          62,
          63,
          64,
          65,
          66,
          67,
          68,
          69,
          70,
          71,
          72,
          73,
          74,
          75,
          76,
          77,
          78,
          79,
          80,
          81,
          82,
          82,
          84,
          85,
          86,
          87,
          88,
          89,
          90,
          91,
          92,
          93,
          94,
          95,
          96,
          97,
          98,
          99,
          100,
          101,
          102,
          103,
          104,
          105,
          106,
          107,
          108,
          109,
          110,
          111,
          112,
          113,
          114,
          115,
          116,
          117,
          118,
          119,
          120,
          121,
          122,
          123,
          124,
          125,
          126,
          127,
          128,
          129,
          130,
          131,
          132,
          133,
          134,
          135,
          136,
          137,
          138,
          139,
          140,
          141,
          142,
          143,
          144,
          145,
          146,
          147,
          148,
          149,
          150,
          151,
          152,
          153,
          154,
          155,
          156,
          157,
          158
         ],
         "y": [
          1.3965100000000001,
          1.3023200000000001,
          1.32548,
          1.459,
          1.32629,
          1.29025,
          1.32944,
          1.33171,
          1.2501799999999998,
          1.33358,
          1.2285700000000002,
          0.95578,
          1.33723,
          1.02054,
          1.3945100000000001,
          0.98124,
          1.5639100000000001,
          1.33596,
          1.30782,
          1.42727,
          1.26637,
          1.36011,
          1.04424,
          1.52186,
          1.0635299999999999,
          1.32792,
          1.10715,
          1.69042,
          1.27778,
          1.05351,
          1.17898,
          1.06166,
          0.91861,
          0.9669,
          1.39541,
          1.23011,
          1.2074,
          1.29098,
          1.5542200000000002,
          0.99534,
          1.21183,
          0.76454,
          0.74553,
          0.63244,
          1.1689100000000001,
          1.27074,
          1.24461,
          0.8640200000000001,
          1.32376,
          1.25114,
          0.68133,
          0.59448,
          0.75985,
          1.1225399999999999,
          1.18498,
          1.14723,
          0.59325,
          0.9001899999999999,
          1.0319200000000002,
          1.12555,
          1.12486,
          1.08254,
          1.13145,
          1.13764,
          0.81038,
          1.2080600000000001,
          1.20813,
          0.93929,
          0.80148,
          0.95847,
          1.0076100000000001,
          1.38604,
          1.15174,
          0.8282700000000001,
          0.63216,
          1.06098,
          0.47428000000000003,
          0.65435,
          0.77042,
          1.02389,
          0.59543,
          0.9019799999999999,
          0.9743799999999999,
          0.89012,
          0.47038,
          1.04345,
          0.92053,
          1.15991,
          1.11312,
          0.70532,
          0.18847,
          0.7347899999999999,
          0.91851,
          0.08308,
          0.8786700000000001,
          0.8322299999999999,
          0.37545,
          0.8953700000000001,
          0.5906600000000001,
          0.82819,
          0.71206,
          1.15406,
          1.0256399999999999,
          1.12094,
          0.59532,
          0.39047,
          0.88113,
          0.59867,
          0.39753,
          1.0088,
          0.79907,
          0.98549,
          0.9204899999999999,
          0.5455800000000001,
          0.271,
          0.0712,
          0.64499,
          0.52107,
          0.26673,
          0.0,
          0.35996999999999996,
          0.19072999999999998,
          0.33024000000000003,
          0.45407,
          0.36471,
          0.44025,
          0.7682100000000001,
          0.99355,
          0.27108000000000004,
          0.7419,
          0.016040000000000002,
          0.83524,
          0.4225,
          1.01216,
          0.8818,
          0.5464899999999999,
          0.75778,
          0.26074,
          0.67866,
          0.23906,
          0.21101999999999999,
          0.36498,
          1.06024,
          0.0694,
          0.46038,
          0.2852,
          0.20824,
          0.0785,
          0.34193,
          0.17417,
          0.46534,
          0.25811999999999996,
          0.31982,
          0.22208000000000003,
          0.28665,
          0.6632,
          0.0153,
          0.20868
         ]
        }
       ],
       "layout": {
        "template": {
         "data": {
          "bar": [
           {
            "error_x": {
             "color": "#2a3f5f"
            },
            "error_y": {
             "color": "#2a3f5f"
            },
            "marker": {
             "line": {
              "color": "#E5ECF6",
              "width": 0.5
             }
            },
            "type": "bar"
           }
          ],
          "barpolar": [
           {
            "marker": {
             "line": {
              "color": "#E5ECF6",
              "width": 0.5
             }
            },
            "type": "barpolar"
           }
          ],
          "carpet": [
           {
            "aaxis": {
             "endlinecolor": "#2a3f5f",
             "gridcolor": "white",
             "linecolor": "white",
             "minorgridcolor": "white",
             "startlinecolor": "#2a3f5f"
            },
            "baxis": {
             "endlinecolor": "#2a3f5f",
             "gridcolor": "white",
             "linecolor": "white",
             "minorgridcolor": "white",
             "startlinecolor": "#2a3f5f"
            },
            "type": "carpet"
           }
          ],
          "choropleth": [
           {
            "colorbar": {
             "outlinewidth": 0,
             "ticks": ""
            },
            "type": "choropleth"
           }
          ],
          "contour": [
           {
            "colorbar": {
             "outlinewidth": 0,
             "ticks": ""
            },
            "colorscale": [
             [
              0.0,
              "#0d0887"
             ],
             [
              0.1111111111111111,
              "#46039f"
             ],
             [
              0.2222222222222222,
              "#7201a8"
             ],
             [
              0.3333333333333333,
              "#9c179e"
             ],
             [
              0.4444444444444444,
              "#bd3786"
             ],
             [
              0.5555555555555556,
              "#d8576b"
             ],
             [
              0.6666666666666666,
              "#ed7953"
             ],
             [
              0.7777777777777778,
              "#fb9f3a"
             ],
             [
              0.8888888888888888,
              "#fdca26"
             ],
             [
              1.0,
              "#f0f921"
             ]
            ],
            "type": "contour"
           }
          ],
          "contourcarpet": [
           {
            "colorbar": {
             "outlinewidth": 0,
             "ticks": ""
            },
            "type": "contourcarpet"
           }
          ],
          "heatmap": [
           {
            "colorbar": {
             "outlinewidth": 0,
             "ticks": ""
            },
            "colorscale": [
             [
              0.0,
              "#0d0887"
             ],
             [
              0.1111111111111111,
              "#46039f"
             ],
             [
              0.2222222222222222,
              "#7201a8"
             ],
             [
              0.3333333333333333,
              "#9c179e"
             ],
             [
              0.4444444444444444,
              "#bd3786"
             ],
             [
              0.5555555555555556,
              "#d8576b"
             ],
             [
              0.6666666666666666,
              "#ed7953"
             ],
             [
              0.7777777777777778,
              "#fb9f3a"
             ],
             [
              0.8888888888888888,
              "#fdca26"
             ],
             [
              1.0,
              "#f0f921"
             ]
            ],
            "type": "heatmap"
           }
          ],
          "heatmapgl": [
           {
            "colorbar": {
             "outlinewidth": 0,
             "ticks": ""
            },
            "colorscale": [
             [
              0.0,
              "#0d0887"
             ],
             [
              0.1111111111111111,
              "#46039f"
             ],
             [
              0.2222222222222222,
              "#7201a8"
             ],
             [
              0.3333333333333333,
              "#9c179e"
             ],
             [
              0.4444444444444444,
              "#bd3786"
             ],
             [
              0.5555555555555556,
              "#d8576b"
             ],
             [
              0.6666666666666666,
              "#ed7953"
             ],
             [
              0.7777777777777778,
              "#fb9f3a"
             ],
             [
              0.8888888888888888,
              "#fdca26"
             ],
             [
              1.0,
              "#f0f921"
             ]
            ],
            "type": "heatmapgl"
           }
          ],
          "histogram": [
           {
            "marker": {
             "colorbar": {
              "outlinewidth": 0,
              "ticks": ""
             }
            },
            "type": "histogram"
           }
          ],
          "histogram2d": [
           {
            "colorbar": {
             "outlinewidth": 0,
             "ticks": ""
            },
            "colorscale": [
             [
              0.0,
              "#0d0887"
             ],
             [
              0.1111111111111111,
              "#46039f"
             ],
             [
              0.2222222222222222,
              "#7201a8"
             ],
             [
              0.3333333333333333,
              "#9c179e"
             ],
             [
              0.4444444444444444,
              "#bd3786"
             ],
             [
              0.5555555555555556,
              "#d8576b"
             ],
             [
              0.6666666666666666,
              "#ed7953"
             ],
             [
              0.7777777777777778,
              "#fb9f3a"
             ],
             [
              0.8888888888888888,
              "#fdca26"
             ],
             [
              1.0,
              "#f0f921"
             ]
            ],
            "type": "histogram2d"
           }
          ],
          "histogram2dcontour": [
           {
            "colorbar": {
             "outlinewidth": 0,
             "ticks": ""
            },
            "colorscale": [
             [
              0.0,
              "#0d0887"
             ],
             [
              0.1111111111111111,
              "#46039f"
             ],
             [
              0.2222222222222222,
              "#7201a8"
             ],
             [
              0.3333333333333333,
              "#9c179e"
             ],
             [
              0.4444444444444444,
              "#bd3786"
             ],
             [
              0.5555555555555556,
              "#d8576b"
             ],
             [
              0.6666666666666666,
              "#ed7953"
             ],
             [
              0.7777777777777778,
              "#fb9f3a"
             ],
             [
              0.8888888888888888,
              "#fdca26"
             ],
             [
              1.0,
              "#f0f921"
             ]
            ],
            "type": "histogram2dcontour"
           }
          ],
          "mesh3d": [
           {
            "colorbar": {
             "outlinewidth": 0,
             "ticks": ""
            },
            "type": "mesh3d"
           }
          ],
          "parcoords": [
           {
            "line": {
             "colorbar": {
              "outlinewidth": 0,
              "ticks": ""
             }
            },
            "type": "parcoords"
           }
          ],
          "scatter": [
           {
            "marker": {
             "colorbar": {
              "outlinewidth": 0,
              "ticks": ""
             }
            },
            "type": "scatter"
           }
          ],
          "scatter3d": [
           {
            "line": {
             "colorbar": {
              "outlinewidth": 0,
              "ticks": ""
             }
            },
            "marker": {
             "colorbar": {
              "outlinewidth": 0,
              "ticks": ""
             }
            },
            "type": "scatter3d"
           }
          ],
          "scattercarpet": [
           {
            "marker": {
             "colorbar": {
              "outlinewidth": 0,
              "ticks": ""
             }
            },
            "type": "scattercarpet"
           }
          ],
          "scattergeo": [
           {
            "marker": {
             "colorbar": {
              "outlinewidth": 0,
              "ticks": ""
             }
            },
            "type": "scattergeo"
           }
          ],
          "scattergl": [
           {
            "marker": {
             "colorbar": {
              "outlinewidth": 0,
              "ticks": ""
             }
            },
            "type": "scattergl"
           }
          ],
          "scattermapbox": [
           {
            "marker": {
             "colorbar": {
              "outlinewidth": 0,
              "ticks": ""
             }
            },
            "type": "scattermapbox"
           }
          ],
          "scatterpolar": [
           {
            "marker": {
             "colorbar": {
              "outlinewidth": 0,
              "ticks": ""
             }
            },
            "type": "scatterpolar"
           }
          ],
          "scatterpolargl": [
           {
            "marker": {
             "colorbar": {
              "outlinewidth": 0,
              "ticks": ""
             }
            },
            "type": "scatterpolargl"
           }
          ],
          "scatterternary": [
           {
            "marker": {
             "colorbar": {
              "outlinewidth": 0,
              "ticks": ""
             }
            },
            "type": "scatterternary"
           }
          ],
          "surface": [
           {
            "colorbar": {
             "outlinewidth": 0,
             "ticks": ""
            },
            "colorscale": [
             [
              0.0,
              "#0d0887"
             ],
             [
              0.1111111111111111,
              "#46039f"
             ],
             [
              0.2222222222222222,
              "#7201a8"
             ],
             [
              0.3333333333333333,
              "#9c179e"
             ],
             [
              0.4444444444444444,
              "#bd3786"
             ],
             [
              0.5555555555555556,
              "#d8576b"
             ],
             [
              0.6666666666666666,
              "#ed7953"
             ],
             [
              0.7777777777777778,
              "#fb9f3a"
             ],
             [
              0.8888888888888888,
              "#fdca26"
             ],
             [
              1.0,
              "#f0f921"
             ]
            ],
            "type": "surface"
           }
          ],
          "table": [
           {
            "cells": {
             "fill": {
              "color": "#EBF0F8"
             },
             "line": {
              "color": "white"
             }
            },
            "header": {
             "fill": {
              "color": "#C8D4E3"
             },
             "line": {
              "color": "white"
             }
            },
            "type": "table"
           }
          ]
         },
         "layout": {
          "annotationdefaults": {
           "arrowcolor": "#2a3f5f",
           "arrowhead": 0,
           "arrowwidth": 1
          },
          "colorscale": {
           "diverging": [
            [
             0,
             "#8e0152"
            ],
            [
             0.1,
             "#c51b7d"
            ],
            [
             0.2,
             "#de77ae"
            ],
            [
             0.3,
             "#f1b6da"
            ],
            [
             0.4,
             "#fde0ef"
            ],
            [
             0.5,
             "#f7f7f7"
            ],
            [
             0.6,
             "#e6f5d0"
            ],
            [
             0.7,
             "#b8e186"
            ],
            [
             0.8,
             "#7fbc41"
            ],
            [
             0.9,
             "#4d9221"
            ],
            [
             1,
             "#276419"
            ]
           ],
           "sequential": [
            [
             0.0,
             "#0d0887"
            ],
            [
             0.1111111111111111,
             "#46039f"
            ],
            [
             0.2222222222222222,
             "#7201a8"
            ],
            [
             0.3333333333333333,
             "#9c179e"
            ],
            [
             0.4444444444444444,
             "#bd3786"
            ],
            [
             0.5555555555555556,
             "#d8576b"
            ],
            [
             0.6666666666666666,
             "#ed7953"
            ],
            [
             0.7777777777777778,
             "#fb9f3a"
            ],
            [
             0.8888888888888888,
             "#fdca26"
            ],
            [
             1.0,
             "#f0f921"
            ]
           ],
           "sequentialminus": [
            [
             0.0,
             "#0d0887"
            ],
            [
             0.1111111111111111,
             "#46039f"
            ],
            [
             0.2222222222222222,
             "#7201a8"
            ],
            [
             0.3333333333333333,
             "#9c179e"
            ],
            [
             0.4444444444444444,
             "#bd3786"
            ],
            [
             0.5555555555555556,
             "#d8576b"
            ],
            [
             0.6666666666666666,
             "#ed7953"
            ],
            [
             0.7777777777777778,
             "#fb9f3a"
            ],
            [
             0.8888888888888888,
             "#fdca26"
            ],
            [
             1.0,
             "#f0f921"
            ]
           ]
          },
          "colorway": [
           "#636efa",
           "#EF553B",
           "#00cc96",
           "#ab63fa",
           "#FFA15A",
           "#19d3f3",
           "#FF6692",
           "#B6E880",
           "#FF97FF",
           "#FECB52"
          ],
          "font": {
           "color": "#2a3f5f"
          },
          "geo": {
           "bgcolor": "white",
           "lakecolor": "white",
           "landcolor": "#E5ECF6",
           "showlakes": true,
           "showland": true,
           "subunitcolor": "white"
          },
          "hoverlabel": {
           "align": "left"
          },
          "hovermode": "closest",
          "mapbox": {
           "style": "light"
          },
          "paper_bgcolor": "white",
          "plot_bgcolor": "#E5ECF6",
          "polar": {
           "angularaxis": {
            "gridcolor": "white",
            "linecolor": "white",
            "ticks": ""
           },
           "bgcolor": "#E5ECF6",
           "radialaxis": {
            "gridcolor": "white",
            "linecolor": "white",
            "ticks": ""
           }
          },
          "scene": {
           "xaxis": {
            "backgroundcolor": "#E5ECF6",
            "gridcolor": "white",
            "gridwidth": 2,
            "linecolor": "white",
            "showbackground": true,
            "ticks": "",
            "zerolinecolor": "white"
           },
           "yaxis": {
            "backgroundcolor": "#E5ECF6",
            "gridcolor": "white",
            "gridwidth": 2,
            "linecolor": "white",
            "showbackground": true,
            "ticks": "",
            "zerolinecolor": "white"
           },
           "zaxis": {
            "backgroundcolor": "#E5ECF6",
            "gridcolor": "white",
            "gridwidth": 2,
            "linecolor": "white",
            "showbackground": true,
            "ticks": "",
            "zerolinecolor": "white"
           }
          },
          "shapedefaults": {
           "line": {
            "color": "#2a3f5f"
           }
          },
          "ternary": {
           "aaxis": {
            "gridcolor": "white",
            "linecolor": "white",
            "ticks": ""
           },
           "baxis": {
            "gridcolor": "white",
            "linecolor": "white",
            "ticks": ""
           },
           "bgcolor": "#E5ECF6",
           "caxis": {
            "gridcolor": "white",
            "linecolor": "white",
            "ticks": ""
           }
          },
          "title": {
           "x": 0.05
          },
          "xaxis": {
           "automargin": true,
           "gridcolor": "white",
           "linecolor": "white",
           "ticks": "",
           "zerolinecolor": "white",
           "zerolinewidth": 2
          },
          "yaxis": {
           "automargin": true,
           "gridcolor": "white",
           "linecolor": "white",
           "ticks": "",
           "zerolinecolor": "white",
           "zerolinewidth": 2
          }
         }
        }
       }
      },
      "text/html": [
       "<div>\n",
       "        \n",
       "        \n",
       "            <div id=\"0272798d-c489-44c9-b743-be20a0f9cffa\" class=\"plotly-graph-div\" style=\"height:525px; width:100%;\"></div>\n",
       "            <script type=\"text/javascript\">\n",
       "                require([\"plotly\"], function(Plotly) {\n",
       "                    window.PLOTLYENV=window.PLOTLYENV || {};\n",
       "                    \n",
       "                if (document.getElementById(\"0272798d-c489-44c9-b743-be20a0f9cffa\")) {\n",
       "                    Plotly.newPlot(\n",
       "                        '0272798d-c489-44c9-b743-be20a0f9cffa',\n",
       "                        [{\"mode\": \"lines+markers\", \"name\": \"2017\", \"type\": \"scatter\", \"x\": [1, 2, 3, 4, 5, 6, 7, 8, 9, 10, 11, 12, 13, 14, 15, 16, 17, 18, 19, 20, 21, 22, 23, 24, 25, 26, 27, 28, 29, 30, 31, 32, 33, 34, 35, 36, 37, 38, 39, 40, 41, 42, 43, 44, 45, 46, 47, 48, 49, 50, 51, 52, 53, 54, 55, 56, 57, 58, 59, 60, 61, 62, 63, 64, 65, 66, 67, 68, 69, 70, 71, 72, 73, 74, 75, 76, 77, 78, 79, 80, 81, 82, 83, 84, 85, 86, 87, 88, 89, 90, 91, 92, 93, 94, 95, 96, 97, 98, 99, 100, 101, 102, 103, 104, 105, 106, 107, 108, 109, 110, 111, 112, 113, 114, 115, 116, 117, 118, 119, 120, 121, 122, 123, 124, 125, 126, 127, 128, 129, 130, 131, 132, 133, 134, 135, 136, 137, 138, 139, 140, 141, 142, 143, 144, 145, 146, 147, 148, 149, 150, 151, 152, 153, 154, 155], \"y\": [1.6164631843566901, 1.48238301277161, 1.480633020401, 1.5649795532226598, 1.44357192516327, 1.50394463539124, 1.47920441627502, 1.40570604801178, 1.49438726902008, 1.4844149351120002, 1.3753824234008798, 1.10970628261566, 1.4870972633361799, 1.54625928401947, 1.5357066392898602, 1.48792338371277, 1.4637807607650801, 1.74194359779358, 1.44163393974304, 1.25278460979462, 1.6263433694839498, 1.1073532104492199, 1.35268235206604, 1.18529546260834, 1.1531838178634601, 1.69227766990662, 1.34327983856201, 1.2175596952438401, 0.872001945972443, 1.23374843597412, 1.43092346191406, 1.12786877155304, 1.4336265325546298, 1.38439786434174, 1.8707656860351598, 1.07062232494354, 1.53062355518341, 1.36135590076447, 1.63295245170593, 1.32539355754852, 1.4884122610092199, 1.29121541976929, 0.737299203872681, 1.00082039833069, 0.9097844958305359, 1.29178786277771, 0.786441087722778, 1.3950666189193701, 1.28177809715271, 0.907975316047668, 1.41691517829895, 1.3145823478698702, 1.09186446666718, 1.26074862480164, 1.40167844295502, 0.7288706302642819, 1.21768391132355, 0.833756566047668, 1.1307767629623402, 1.2845562696456898, 1.3469113111496, 1.3412059545516999, 1.0352252721786501, 1.1893955469131499, 1.3559380769729599, 1.3208793401718102, 1.15655755996704, 1.1018030643463101, 1.1982743740081798, 0.932537317276001, 1.55167484283447, 0.85769921541214, 1.06931757926941, 0.9910123944282528, 1.2860119342803997, 0.925579309463501, 1.22255623340607, 0.951484382152557, 1.08116579055786, 0.7268835306167599, 0.995538592338562, 1.12843120098114, 1.12112903594971, 0.8781145811080929, 1.1536017656326298, 1.07937383651733, 1.28948748111725, 1.07498753070831, 1.3151752948761002, 0.982409417629242, 0.730573117733002, 1.06457793712616, 0.0226431842893362, 0.7885475754737851, 0.783756256103516, 0.524713635444641, 0.885416388511658, 0.5962200760841371, 0.479820191860199, 1.0272358655929599, 1.05469870567322, 1.00726580619812, 0.716249227523804, 0.989701807498932, 1.1614590883255, 0.36842092871666, 0.564305365085602, 1.15687310695648, 0.996192753314972, 0.586682975292206, 0.964434325695038, 0.560479462146759, 0.23430564999580397, 0.36711055040359497, 0.479309022426605, 0.6364067792892459, 1.1027104854583702, 1.1982102394104, 0.339233845472336, 1.00985014438629, 0.900596737861633, 0.7922212481498722, 0.6484572887420649, 0.8089642524719242, 0.950612664222717, 0.0921023488044739, 0.476180493831635, 0.6030489206314089, 0.6017650961875921, 0.6595166921615601, 0.667224824428558, 0.89465194940567, 0.381430715322495, 0.35022771358490007, 0.16192533075809498, 0.233442038297653, 0.43801298737525896, 0.37584653496742204, 0.521021246910095, 0.8584281802177429, 0.401477217674255, 1.12209415435791, 0.43108540773391707, 0.305808693170547, 0.368610262870789, 0.5916834473609921, 0.39724862575531, 0.11904179304838199, 0.24454993009567302, 0.30544471740722695, 0.368745893239975, 0.777153134346008, 0.511135876178741, 0.09162256866693501, 0.0]}, {\"mode\": \"lines+markers\", \"name\": \"2016\", \"type\": \"scatter\", \"x\": [1, 2, 3, 4, 5, 6, 7, 8, 9, 10, 11, 12, 13, 14, 15, 16, 17, 18, 19, 20, 21, 22, 23, 24, 25, 26, 27, 28, 29, 30, 31, 32, 33, 34, 34, 36, 37, 38, 39, 40, 41, 42, 43, 44, 45, 46, 47, 48, 49, 50, 51, 52, 53, 54, 55, 56, 57, 57, 59, 60, 61, 62, 63, 64, 65, 66, 67, 68, 69, 70, 71, 72, 73, 74, 75, 76, 77, 78, 79, 80, 81, 82, 83, 84, 85, 86, 87, 88, 89, 90, 91, 92, 93, 94, 95, 96, 97, 98, 99, 100, 101, 102, 103, 104, 105, 106, 107, 108, 109, 110, 111, 112, 113, 114, 115, 116, 117, 118, 119, 120, 121, 122, 123, 124, 125, 126, 127, 128, 129, 130, 131, 132, 133, 134, 135, 136, 137, 138, 139, 140, 141, 142, 143, 144, 145, 145, 147, 148, 149, 150, 151, 152, 153, 154, 155, 156, 157], \"y\": [1.4417799999999998, 1.5273299999999999, 1.42666, 1.57744, 1.40598, 1.44015, 1.46468, 1.36066, 1.4444299999999999, 1.45181, 1.33766, 1.45038, 1.50796, 1.06879, 1.35943, 1.44787, 1.08754, 1.42539, 1.4834100000000001, 1.6975200000000001, 1.1150799999999998, 1.64555, 1.40283, 1.2167, 1.18306, 1.15137, 1.30915, 1.57352, 1.18157, 1.30782, 1.0303200000000001, 1.39488, 1.0893, 1.48953, 1.39729, 1.82427, 1.34253, 1.05266, 0.83454, 1.09686, 1.61714, 1.44024, 1.32572, 1.1336700000000002, 1.27973, 0.8737, 1.25142, 0.69384, 0.7359100000000001, 1.35495, 0.97306, 0.87616, 1.3800700000000001, 1.22943, 0.69177, 1.2322799999999998, 1.24585, 1.35948, 0.79422, 1.2692, 1.1306200000000002, 1.31141, 1.2994700000000001, 0.9960200000000001, 1.08017, 1.14372, 1.0668799999999998, 1.2178799999999999, 1.31857, 0.8937299999999999, 1.1697, 1.2796399999999999, 0.89333, 1.18649, 1.5107, 0.0, 0.90145, 1.1649200000000002, 0.95104, 0.9967299999999999, 1.12373, 0.81217, 1.0278, 0.8527, 0.5604399999999999, 1.03437, 0.9338299999999999, 1.07838, 1.02787, 0.8405799999999999, 1.24142, 0.68816, 1.12268, 1.27607, 1.0193, 0.74037, 0.25558000000000003, 0.97724, 1.24886, 0.48835, 0.9885299999999999, 0.68042, 0.75216, 0.69429, 1.11758, 0.61202, 0.44626000000000005, 0.67024, 0.9553, 0.54177, 0.36485, 1.07474, 0.9328700000000001, 0.5249699999999999, 0.29283000000000003, 1.02416, 0.9731799999999999, 0.74036, 0.34112, 0.95395, 0.8608600000000001, 0.52267, 0.87287, 0.63107, 0.05661, 0.8379200000000001, 0.7710899999999999, 0.44314, 1.11306, 0.6139100000000001, 0.35041, 0.08709, 0.63069, 1.15851, 0.31292, 0.34097, 1.09426, 0.27509, 0.55507, 0.55604, 0.84731, 0.1327, 0.39394, 0.42213999999999996, 0.31995, 0.34719, 0.57939, 0.27954, 0.47155, 0.10705999999999999, 0.22415, 0.32846, 0.39499, 0.38227, 0.28123000000000004, 0.7471899999999999, 0.06831]}, {\"mode\": \"lines+markers\", \"name\": \"2015\", \"type\": \"scatter\", \"x\": [1, 2, 3, 4, 5, 6, 7, 8, 9, 10, 11, 12, 13, 14, 15, 16, 17, 18, 19, 20, 21, 22, 23, 24, 25, 26, 27, 28, 29, 30, 31, 32, 33, 34, 35, 36, 37, 38, 39, 40, 41, 42, 43, 44, 45, 46, 47, 48, 49, 50, 51, 52, 53, 54, 55, 56, 57, 58, 59, 60, 61, 62, 63, 64, 65, 66, 67, 68, 69, 70, 71, 72, 73, 74, 75, 76, 77, 78, 79, 80, 81, 82, 82, 84, 85, 86, 87, 88, 89, 90, 91, 92, 93, 94, 95, 96, 97, 98, 99, 100, 101, 102, 103, 104, 105, 106, 107, 108, 109, 110, 111, 112, 113, 114, 115, 116, 117, 118, 119, 120, 121, 122, 123, 124, 125, 126, 127, 128, 129, 130, 131, 132, 133, 134, 135, 136, 137, 138, 139, 140, 141, 142, 143, 144, 145, 146, 147, 148, 149, 150, 151, 152, 153, 154, 155, 156, 157, 158], \"y\": [1.3965100000000001, 1.3023200000000001, 1.32548, 1.459, 1.32629, 1.29025, 1.32944, 1.33171, 1.2501799999999998, 1.33358, 1.2285700000000002, 0.95578, 1.33723, 1.02054, 1.3945100000000001, 0.98124, 1.5639100000000001, 1.33596, 1.30782, 1.42727, 1.26637, 1.36011, 1.04424, 1.52186, 1.0635299999999999, 1.32792, 1.10715, 1.69042, 1.27778, 1.05351, 1.17898, 1.06166, 0.91861, 0.9669, 1.39541, 1.23011, 1.2074, 1.29098, 1.5542200000000002, 0.99534, 1.21183, 0.76454, 0.74553, 0.63244, 1.1689100000000001, 1.27074, 1.24461, 0.8640200000000001, 1.32376, 1.25114, 0.68133, 0.59448, 0.75985, 1.1225399999999999, 1.18498, 1.14723, 0.59325, 0.9001899999999999, 1.0319200000000002, 1.12555, 1.12486, 1.08254, 1.13145, 1.13764, 0.81038, 1.2080600000000001, 1.20813, 0.93929, 0.80148, 0.95847, 1.0076100000000001, 1.38604, 1.15174, 0.8282700000000001, 0.63216, 1.06098, 0.47428000000000003, 0.65435, 0.77042, 1.02389, 0.59543, 0.9019799999999999, 0.9743799999999999, 0.89012, 0.47038, 1.04345, 0.92053, 1.15991, 1.11312, 0.70532, 0.18847, 0.7347899999999999, 0.91851, 0.08308, 0.8786700000000001, 0.8322299999999999, 0.37545, 0.8953700000000001, 0.5906600000000001, 0.82819, 0.71206, 1.15406, 1.0256399999999999, 1.12094, 0.59532, 0.39047, 0.88113, 0.59867, 0.39753, 1.0088, 0.79907, 0.98549, 0.9204899999999999, 0.5455800000000001, 0.271, 0.0712, 0.64499, 0.52107, 0.26673, 0.0, 0.35996999999999996, 0.19072999999999998, 0.33024000000000003, 0.45407, 0.36471, 0.44025, 0.7682100000000001, 0.99355, 0.27108000000000004, 0.7419, 0.016040000000000002, 0.83524, 0.4225, 1.01216, 0.8818, 0.5464899999999999, 0.75778, 0.26074, 0.67866, 0.23906, 0.21101999999999999, 0.36498, 1.06024, 0.0694, 0.46038, 0.2852, 0.20824, 0.0785, 0.34193, 0.17417, 0.46534, 0.25811999999999996, 0.31982, 0.22208000000000003, 0.28665, 0.6632, 0.0153, 0.20868]}],\n",
       "                        {\"template\": {\"data\": {\"bar\": [{\"error_x\": {\"color\": \"#2a3f5f\"}, \"error_y\": {\"color\": \"#2a3f5f\"}, \"marker\": {\"line\": {\"color\": \"#E5ECF6\", \"width\": 0.5}}, \"type\": \"bar\"}], \"barpolar\": [{\"marker\": {\"line\": {\"color\": \"#E5ECF6\", \"width\": 0.5}}, \"type\": \"barpolar\"}], \"carpet\": [{\"aaxis\": {\"endlinecolor\": \"#2a3f5f\", \"gridcolor\": \"white\", \"linecolor\": \"white\", \"minorgridcolor\": \"white\", \"startlinecolor\": \"#2a3f5f\"}, \"baxis\": {\"endlinecolor\": \"#2a3f5f\", \"gridcolor\": \"white\", \"linecolor\": \"white\", \"minorgridcolor\": \"white\", \"startlinecolor\": \"#2a3f5f\"}, \"type\": \"carpet\"}], \"choropleth\": [{\"colorbar\": {\"outlinewidth\": 0, \"ticks\": \"\"}, \"type\": \"choropleth\"}], \"contour\": [{\"colorbar\": {\"outlinewidth\": 0, \"ticks\": \"\"}, \"colorscale\": [[0.0, \"#0d0887\"], [0.1111111111111111, \"#46039f\"], [0.2222222222222222, \"#7201a8\"], [0.3333333333333333, \"#9c179e\"], [0.4444444444444444, \"#bd3786\"], [0.5555555555555556, \"#d8576b\"], [0.6666666666666666, \"#ed7953\"], [0.7777777777777778, \"#fb9f3a\"], [0.8888888888888888, \"#fdca26\"], [1.0, \"#f0f921\"]], \"type\": \"contour\"}], \"contourcarpet\": [{\"colorbar\": {\"outlinewidth\": 0, \"ticks\": \"\"}, \"type\": \"contourcarpet\"}], \"heatmap\": [{\"colorbar\": {\"outlinewidth\": 0, \"ticks\": \"\"}, \"colorscale\": [[0.0, \"#0d0887\"], [0.1111111111111111, \"#46039f\"], [0.2222222222222222, \"#7201a8\"], [0.3333333333333333, \"#9c179e\"], [0.4444444444444444, \"#bd3786\"], [0.5555555555555556, \"#d8576b\"], [0.6666666666666666, \"#ed7953\"], [0.7777777777777778, \"#fb9f3a\"], [0.8888888888888888, \"#fdca26\"], [1.0, \"#f0f921\"]], \"type\": \"heatmap\"}], \"heatmapgl\": [{\"colorbar\": {\"outlinewidth\": 0, \"ticks\": \"\"}, \"colorscale\": [[0.0, \"#0d0887\"], [0.1111111111111111, \"#46039f\"], [0.2222222222222222, \"#7201a8\"], [0.3333333333333333, \"#9c179e\"], [0.4444444444444444, \"#bd3786\"], [0.5555555555555556, \"#d8576b\"], [0.6666666666666666, \"#ed7953\"], [0.7777777777777778, \"#fb9f3a\"], [0.8888888888888888, \"#fdca26\"], [1.0, \"#f0f921\"]], \"type\": \"heatmapgl\"}], \"histogram\": [{\"marker\": {\"colorbar\": {\"outlinewidth\": 0, \"ticks\": \"\"}}, \"type\": \"histogram\"}], \"histogram2d\": [{\"colorbar\": {\"outlinewidth\": 0, \"ticks\": \"\"}, \"colorscale\": [[0.0, \"#0d0887\"], [0.1111111111111111, \"#46039f\"], [0.2222222222222222, \"#7201a8\"], [0.3333333333333333, \"#9c179e\"], [0.4444444444444444, \"#bd3786\"], [0.5555555555555556, \"#d8576b\"], [0.6666666666666666, \"#ed7953\"], [0.7777777777777778, \"#fb9f3a\"], [0.8888888888888888, \"#fdca26\"], [1.0, \"#f0f921\"]], \"type\": \"histogram2d\"}], \"histogram2dcontour\": [{\"colorbar\": {\"outlinewidth\": 0, \"ticks\": \"\"}, \"colorscale\": [[0.0, \"#0d0887\"], [0.1111111111111111, \"#46039f\"], [0.2222222222222222, \"#7201a8\"], [0.3333333333333333, \"#9c179e\"], [0.4444444444444444, \"#bd3786\"], [0.5555555555555556, \"#d8576b\"], [0.6666666666666666, \"#ed7953\"], [0.7777777777777778, \"#fb9f3a\"], [0.8888888888888888, \"#fdca26\"], [1.0, \"#f0f921\"]], \"type\": \"histogram2dcontour\"}], \"mesh3d\": [{\"colorbar\": {\"outlinewidth\": 0, \"ticks\": \"\"}, \"type\": \"mesh3d\"}], \"parcoords\": [{\"line\": {\"colorbar\": {\"outlinewidth\": 0, \"ticks\": \"\"}}, \"type\": \"parcoords\"}], \"scatter\": [{\"marker\": {\"colorbar\": {\"outlinewidth\": 0, \"ticks\": \"\"}}, \"type\": \"scatter\"}], \"scatter3d\": [{\"line\": {\"colorbar\": {\"outlinewidth\": 0, \"ticks\": \"\"}}, \"marker\": {\"colorbar\": {\"outlinewidth\": 0, \"ticks\": \"\"}}, \"type\": \"scatter3d\"}], \"scattercarpet\": [{\"marker\": {\"colorbar\": {\"outlinewidth\": 0, \"ticks\": \"\"}}, \"type\": \"scattercarpet\"}], \"scattergeo\": [{\"marker\": {\"colorbar\": {\"outlinewidth\": 0, \"ticks\": \"\"}}, \"type\": \"scattergeo\"}], \"scattergl\": [{\"marker\": {\"colorbar\": {\"outlinewidth\": 0, \"ticks\": \"\"}}, \"type\": \"scattergl\"}], \"scattermapbox\": [{\"marker\": {\"colorbar\": {\"outlinewidth\": 0, \"ticks\": \"\"}}, \"type\": \"scattermapbox\"}], \"scatterpolar\": [{\"marker\": {\"colorbar\": {\"outlinewidth\": 0, \"ticks\": \"\"}}, \"type\": \"scatterpolar\"}], \"scatterpolargl\": [{\"marker\": {\"colorbar\": {\"outlinewidth\": 0, \"ticks\": \"\"}}, \"type\": \"scatterpolargl\"}], \"scatterternary\": [{\"marker\": {\"colorbar\": {\"outlinewidth\": 0, \"ticks\": \"\"}}, \"type\": \"scatterternary\"}], \"surface\": [{\"colorbar\": {\"outlinewidth\": 0, \"ticks\": \"\"}, \"colorscale\": [[0.0, \"#0d0887\"], [0.1111111111111111, \"#46039f\"], [0.2222222222222222, \"#7201a8\"], [0.3333333333333333, \"#9c179e\"], [0.4444444444444444, \"#bd3786\"], [0.5555555555555556, \"#d8576b\"], [0.6666666666666666, \"#ed7953\"], [0.7777777777777778, \"#fb9f3a\"], [0.8888888888888888, \"#fdca26\"], [1.0, \"#f0f921\"]], \"type\": \"surface\"}], \"table\": [{\"cells\": {\"fill\": {\"color\": \"#EBF0F8\"}, \"line\": {\"color\": \"white\"}}, \"header\": {\"fill\": {\"color\": \"#C8D4E3\"}, \"line\": {\"color\": \"white\"}}, \"type\": \"table\"}]}, \"layout\": {\"annotationdefaults\": {\"arrowcolor\": \"#2a3f5f\", \"arrowhead\": 0, \"arrowwidth\": 1}, \"colorscale\": {\"diverging\": [[0, \"#8e0152\"], [0.1, \"#c51b7d\"], [0.2, \"#de77ae\"], [0.3, \"#f1b6da\"], [0.4, \"#fde0ef\"], [0.5, \"#f7f7f7\"], [0.6, \"#e6f5d0\"], [0.7, \"#b8e186\"], [0.8, \"#7fbc41\"], [0.9, \"#4d9221\"], [1, \"#276419\"]], \"sequential\": [[0.0, \"#0d0887\"], [0.1111111111111111, \"#46039f\"], [0.2222222222222222, \"#7201a8\"], [0.3333333333333333, \"#9c179e\"], [0.4444444444444444, \"#bd3786\"], [0.5555555555555556, \"#d8576b\"], [0.6666666666666666, \"#ed7953\"], [0.7777777777777778, \"#fb9f3a\"], [0.8888888888888888, \"#fdca26\"], [1.0, \"#f0f921\"]], \"sequentialminus\": [[0.0, \"#0d0887\"], [0.1111111111111111, \"#46039f\"], [0.2222222222222222, \"#7201a8\"], [0.3333333333333333, \"#9c179e\"], [0.4444444444444444, \"#bd3786\"], [0.5555555555555556, \"#d8576b\"], [0.6666666666666666, \"#ed7953\"], [0.7777777777777778, \"#fb9f3a\"], [0.8888888888888888, \"#fdca26\"], [1.0, \"#f0f921\"]]}, \"colorway\": [\"#636efa\", \"#EF553B\", \"#00cc96\", \"#ab63fa\", \"#FFA15A\", \"#19d3f3\", \"#FF6692\", \"#B6E880\", \"#FF97FF\", \"#FECB52\"], \"font\": {\"color\": \"#2a3f5f\"}, \"geo\": {\"bgcolor\": \"white\", \"lakecolor\": \"white\", \"landcolor\": \"#E5ECF6\", \"showlakes\": true, \"showland\": true, \"subunitcolor\": \"white\"}, \"hoverlabel\": {\"align\": \"left\"}, \"hovermode\": \"closest\", \"mapbox\": {\"style\": \"light\"}, \"paper_bgcolor\": \"white\", \"plot_bgcolor\": \"#E5ECF6\", \"polar\": {\"angularaxis\": {\"gridcolor\": \"white\", \"linecolor\": \"white\", \"ticks\": \"\"}, \"bgcolor\": \"#E5ECF6\", \"radialaxis\": {\"gridcolor\": \"white\", \"linecolor\": \"white\", \"ticks\": \"\"}}, \"scene\": {\"xaxis\": {\"backgroundcolor\": \"#E5ECF6\", \"gridcolor\": \"white\", \"gridwidth\": 2, \"linecolor\": \"white\", \"showbackground\": true, \"ticks\": \"\", \"zerolinecolor\": \"white\"}, \"yaxis\": {\"backgroundcolor\": \"#E5ECF6\", \"gridcolor\": \"white\", \"gridwidth\": 2, \"linecolor\": \"white\", \"showbackground\": true, \"ticks\": \"\", \"zerolinecolor\": \"white\"}, \"zaxis\": {\"backgroundcolor\": \"#E5ECF6\", \"gridcolor\": \"white\", \"gridwidth\": 2, \"linecolor\": \"white\", \"showbackground\": true, \"ticks\": \"\", \"zerolinecolor\": \"white\"}}, \"shapedefaults\": {\"line\": {\"color\": \"#2a3f5f\"}}, \"ternary\": {\"aaxis\": {\"gridcolor\": \"white\", \"linecolor\": \"white\", \"ticks\": \"\"}, \"baxis\": {\"gridcolor\": \"white\", \"linecolor\": \"white\", \"ticks\": \"\"}, \"bgcolor\": \"#E5ECF6\", \"caxis\": {\"gridcolor\": \"white\", \"linecolor\": \"white\", \"ticks\": \"\"}}, \"title\": {\"x\": 0.05}, \"xaxis\": {\"automargin\": true, \"gridcolor\": \"white\", \"linecolor\": \"white\", \"ticks\": \"\", \"zerolinecolor\": \"white\", \"zerolinewidth\": 2}, \"yaxis\": {\"automargin\": true, \"gridcolor\": \"white\", \"linecolor\": \"white\", \"ticks\": \"\", \"zerolinecolor\": \"white\", \"zerolinewidth\": 2}}}},\n",
       "                        {\"responsive\": true}\n",
       "                    ).then(function(){\n",
       "                            \n",
       "var gd = document.getElementById('0272798d-c489-44c9-b743-be20a0f9cffa');\n",
       "var x = new MutationObserver(function (mutations, observer) {{\n",
       "        var display = window.getComputedStyle(gd).display;\n",
       "        if (!display || display === 'none') {{\n",
       "            console.log([gd, 'removed!']);\n",
       "            Plotly.purge(gd);\n",
       "            observer.disconnect();\n",
       "        }}\n",
       "}});\n",
       "\n",
       "// Listen for the removal of the full notebook cells\n",
       "var notebookContainer = gd.closest('#notebook-container');\n",
       "if (notebookContainer) {{\n",
       "    x.observe(notebookContainer, {childList: true});\n",
       "}}\n",
       "\n",
       "// Listen for the clearing of the current output cell\n",
       "var outputEl = gd.closest('.output');\n",
       "if (outputEl) {{\n",
       "    x.observe(outputEl, {childList: true});\n",
       "}}\n",
       "\n",
       "                        })\n",
       "                };\n",
       "                });\n",
       "            </script>\n",
       "        </div>"
      ]
     },
     "metadata": {},
     "output_type": "display_data"
    }
   ],
   "source": [
    "fig = go.Figure()\n",
    "\n",
    "# Add traces\n",
    "fig.add_trace(go.Scatter(x=df2017.HappinessRank, y=df2017.EconomyGDPperCapita,\n",
    "                    mode='lines+markers',\n",
    "                    name='2017'))\n",
    "fig.add_trace(go.Scatter(x=df2016.HappinessRank, y=df2016[\"Economy(GDPperCapita)\"],\n",
    "                    mode='lines+markers',\n",
    "                    name='2016'))\n",
    "fig.add_trace(go.Scatter(x=df2015.HappinessRank, y=df2015[\"Economy(GDPperCapita)\"],\n",
    "                    mode='lines+markers',\n",
    "                    name='2015'))\n",
    "fig.show()"
   ]
  },
  {
   "cell_type": "markdown",
   "metadata": {},
   "source": [
    "# Plotly - Radar Chart ( Interactive )\n",
    "### Turkey vs Norway values"
   ]
  },
  {
   "cell_type": "code",
   "execution_count": 13,
   "metadata": {},
   "outputs": [
    {
     "data": {
      "application/vnd.plotly.v1+json": {
       "config": {
        "plotlyServerURL": "https://plot.ly"
       },
       "data": [
        {
         "fill": "toself",
         "name": "Turkey",
         "r": [
          0.7297332982838737,
          0.6405261668807726,
          0.05571462333527345,
          0.4568799248069921,
          0.8306064613277099
         ],
         "theta": [
          "HappinessScore",
          "EconomyGDPperCapita",
          "Generosity",
          "Freedom",
          "Family"
         ],
         "type": "scatterpolar"
        },
        {
         "fill": "toself",
         "name": "Norway",
         "r": [
          1.0,
          0.8640650170265683,
          0.43195676732262916,
          0.965323020252491,
          0.9521596355538668
         ],
         "theta": [
          "HappinessScore",
          "EconomyGDPperCapita",
          "Generosity",
          "Freedom",
          "Family"
         ],
         "type": "scatterpolar"
        }
       ],
       "layout": {
        "polar": {
         "radialaxis": {
          "range": [
           0,
           1
          ],
          "visible": true
         }
        },
        "showlegend": false,
        "template": {
         "data": {
          "bar": [
           {
            "error_x": {
             "color": "#2a3f5f"
            },
            "error_y": {
             "color": "#2a3f5f"
            },
            "marker": {
             "line": {
              "color": "#E5ECF6",
              "width": 0.5
             }
            },
            "type": "bar"
           }
          ],
          "barpolar": [
           {
            "marker": {
             "line": {
              "color": "#E5ECF6",
              "width": 0.5
             }
            },
            "type": "barpolar"
           }
          ],
          "carpet": [
           {
            "aaxis": {
             "endlinecolor": "#2a3f5f",
             "gridcolor": "white",
             "linecolor": "white",
             "minorgridcolor": "white",
             "startlinecolor": "#2a3f5f"
            },
            "baxis": {
             "endlinecolor": "#2a3f5f",
             "gridcolor": "white",
             "linecolor": "white",
             "minorgridcolor": "white",
             "startlinecolor": "#2a3f5f"
            },
            "type": "carpet"
           }
          ],
          "choropleth": [
           {
            "colorbar": {
             "outlinewidth": 0,
             "ticks": ""
            },
            "type": "choropleth"
           }
          ],
          "contour": [
           {
            "colorbar": {
             "outlinewidth": 0,
             "ticks": ""
            },
            "colorscale": [
             [
              0.0,
              "#0d0887"
             ],
             [
              0.1111111111111111,
              "#46039f"
             ],
             [
              0.2222222222222222,
              "#7201a8"
             ],
             [
              0.3333333333333333,
              "#9c179e"
             ],
             [
              0.4444444444444444,
              "#bd3786"
             ],
             [
              0.5555555555555556,
              "#d8576b"
             ],
             [
              0.6666666666666666,
              "#ed7953"
             ],
             [
              0.7777777777777778,
              "#fb9f3a"
             ],
             [
              0.8888888888888888,
              "#fdca26"
             ],
             [
              1.0,
              "#f0f921"
             ]
            ],
            "type": "contour"
           }
          ],
          "contourcarpet": [
           {
            "colorbar": {
             "outlinewidth": 0,
             "ticks": ""
            },
            "type": "contourcarpet"
           }
          ],
          "heatmap": [
           {
            "colorbar": {
             "outlinewidth": 0,
             "ticks": ""
            },
            "colorscale": [
             [
              0.0,
              "#0d0887"
             ],
             [
              0.1111111111111111,
              "#46039f"
             ],
             [
              0.2222222222222222,
              "#7201a8"
             ],
             [
              0.3333333333333333,
              "#9c179e"
             ],
             [
              0.4444444444444444,
              "#bd3786"
             ],
             [
              0.5555555555555556,
              "#d8576b"
             ],
             [
              0.6666666666666666,
              "#ed7953"
             ],
             [
              0.7777777777777778,
              "#fb9f3a"
             ],
             [
              0.8888888888888888,
              "#fdca26"
             ],
             [
              1.0,
              "#f0f921"
             ]
            ],
            "type": "heatmap"
           }
          ],
          "heatmapgl": [
           {
            "colorbar": {
             "outlinewidth": 0,
             "ticks": ""
            },
            "colorscale": [
             [
              0.0,
              "#0d0887"
             ],
             [
              0.1111111111111111,
              "#46039f"
             ],
             [
              0.2222222222222222,
              "#7201a8"
             ],
             [
              0.3333333333333333,
              "#9c179e"
             ],
             [
              0.4444444444444444,
              "#bd3786"
             ],
             [
              0.5555555555555556,
              "#d8576b"
             ],
             [
              0.6666666666666666,
              "#ed7953"
             ],
             [
              0.7777777777777778,
              "#fb9f3a"
             ],
             [
              0.8888888888888888,
              "#fdca26"
             ],
             [
              1.0,
              "#f0f921"
             ]
            ],
            "type": "heatmapgl"
           }
          ],
          "histogram": [
           {
            "marker": {
             "colorbar": {
              "outlinewidth": 0,
              "ticks": ""
             }
            },
            "type": "histogram"
           }
          ],
          "histogram2d": [
           {
            "colorbar": {
             "outlinewidth": 0,
             "ticks": ""
            },
            "colorscale": [
             [
              0.0,
              "#0d0887"
             ],
             [
              0.1111111111111111,
              "#46039f"
             ],
             [
              0.2222222222222222,
              "#7201a8"
             ],
             [
              0.3333333333333333,
              "#9c179e"
             ],
             [
              0.4444444444444444,
              "#bd3786"
             ],
             [
              0.5555555555555556,
              "#d8576b"
             ],
             [
              0.6666666666666666,
              "#ed7953"
             ],
             [
              0.7777777777777778,
              "#fb9f3a"
             ],
             [
              0.8888888888888888,
              "#fdca26"
             ],
             [
              1.0,
              "#f0f921"
             ]
            ],
            "type": "histogram2d"
           }
          ],
          "histogram2dcontour": [
           {
            "colorbar": {
             "outlinewidth": 0,
             "ticks": ""
            },
            "colorscale": [
             [
              0.0,
              "#0d0887"
             ],
             [
              0.1111111111111111,
              "#46039f"
             ],
             [
              0.2222222222222222,
              "#7201a8"
             ],
             [
              0.3333333333333333,
              "#9c179e"
             ],
             [
              0.4444444444444444,
              "#bd3786"
             ],
             [
              0.5555555555555556,
              "#d8576b"
             ],
             [
              0.6666666666666666,
              "#ed7953"
             ],
             [
              0.7777777777777778,
              "#fb9f3a"
             ],
             [
              0.8888888888888888,
              "#fdca26"
             ],
             [
              1.0,
              "#f0f921"
             ]
            ],
            "type": "histogram2dcontour"
           }
          ],
          "mesh3d": [
           {
            "colorbar": {
             "outlinewidth": 0,
             "ticks": ""
            },
            "type": "mesh3d"
           }
          ],
          "parcoords": [
           {
            "line": {
             "colorbar": {
              "outlinewidth": 0,
              "ticks": ""
             }
            },
            "type": "parcoords"
           }
          ],
          "scatter": [
           {
            "marker": {
             "colorbar": {
              "outlinewidth": 0,
              "ticks": ""
             }
            },
            "type": "scatter"
           }
          ],
          "scatter3d": [
           {
            "line": {
             "colorbar": {
              "outlinewidth": 0,
              "ticks": ""
             }
            },
            "marker": {
             "colorbar": {
              "outlinewidth": 0,
              "ticks": ""
             }
            },
            "type": "scatter3d"
           }
          ],
          "scattercarpet": [
           {
            "marker": {
             "colorbar": {
              "outlinewidth": 0,
              "ticks": ""
             }
            },
            "type": "scattercarpet"
           }
          ],
          "scattergeo": [
           {
            "marker": {
             "colorbar": {
              "outlinewidth": 0,
              "ticks": ""
             }
            },
            "type": "scattergeo"
           }
          ],
          "scattergl": [
           {
            "marker": {
             "colorbar": {
              "outlinewidth": 0,
              "ticks": ""
             }
            },
            "type": "scattergl"
           }
          ],
          "scattermapbox": [
           {
            "marker": {
             "colorbar": {
              "outlinewidth": 0,
              "ticks": ""
             }
            },
            "type": "scattermapbox"
           }
          ],
          "scatterpolar": [
           {
            "marker": {
             "colorbar": {
              "outlinewidth": 0,
              "ticks": ""
             }
            },
            "type": "scatterpolar"
           }
          ],
          "scatterpolargl": [
           {
            "marker": {
             "colorbar": {
              "outlinewidth": 0,
              "ticks": ""
             }
            },
            "type": "scatterpolargl"
           }
          ],
          "scatterternary": [
           {
            "marker": {
             "colorbar": {
              "outlinewidth": 0,
              "ticks": ""
             }
            },
            "type": "scatterternary"
           }
          ],
          "surface": [
           {
            "colorbar": {
             "outlinewidth": 0,
             "ticks": ""
            },
            "colorscale": [
             [
              0.0,
              "#0d0887"
             ],
             [
              0.1111111111111111,
              "#46039f"
             ],
             [
              0.2222222222222222,
              "#7201a8"
             ],
             [
              0.3333333333333333,
              "#9c179e"
             ],
             [
              0.4444444444444444,
              "#bd3786"
             ],
             [
              0.5555555555555556,
              "#d8576b"
             ],
             [
              0.6666666666666666,
              "#ed7953"
             ],
             [
              0.7777777777777778,
              "#fb9f3a"
             ],
             [
              0.8888888888888888,
              "#fdca26"
             ],
             [
              1.0,
              "#f0f921"
             ]
            ],
            "type": "surface"
           }
          ],
          "table": [
           {
            "cells": {
             "fill": {
              "color": "#EBF0F8"
             },
             "line": {
              "color": "white"
             }
            },
            "header": {
             "fill": {
              "color": "#C8D4E3"
             },
             "line": {
              "color": "white"
             }
            },
            "type": "table"
           }
          ]
         },
         "layout": {
          "annotationdefaults": {
           "arrowcolor": "#2a3f5f",
           "arrowhead": 0,
           "arrowwidth": 1
          },
          "colorscale": {
           "diverging": [
            [
             0,
             "#8e0152"
            ],
            [
             0.1,
             "#c51b7d"
            ],
            [
             0.2,
             "#de77ae"
            ],
            [
             0.3,
             "#f1b6da"
            ],
            [
             0.4,
             "#fde0ef"
            ],
            [
             0.5,
             "#f7f7f7"
            ],
            [
             0.6,
             "#e6f5d0"
            ],
            [
             0.7,
             "#b8e186"
            ],
            [
             0.8,
             "#7fbc41"
            ],
            [
             0.9,
             "#4d9221"
            ],
            [
             1,
             "#276419"
            ]
           ],
           "sequential": [
            [
             0.0,
             "#0d0887"
            ],
            [
             0.1111111111111111,
             "#46039f"
            ],
            [
             0.2222222222222222,
             "#7201a8"
            ],
            [
             0.3333333333333333,
             "#9c179e"
            ],
            [
             0.4444444444444444,
             "#bd3786"
            ],
            [
             0.5555555555555556,
             "#d8576b"
            ],
            [
             0.6666666666666666,
             "#ed7953"
            ],
            [
             0.7777777777777778,
             "#fb9f3a"
            ],
            [
             0.8888888888888888,
             "#fdca26"
            ],
            [
             1.0,
             "#f0f921"
            ]
           ],
           "sequentialminus": [
            [
             0.0,
             "#0d0887"
            ],
            [
             0.1111111111111111,
             "#46039f"
            ],
            [
             0.2222222222222222,
             "#7201a8"
            ],
            [
             0.3333333333333333,
             "#9c179e"
            ],
            [
             0.4444444444444444,
             "#bd3786"
            ],
            [
             0.5555555555555556,
             "#d8576b"
            ],
            [
             0.6666666666666666,
             "#ed7953"
            ],
            [
             0.7777777777777778,
             "#fb9f3a"
            ],
            [
             0.8888888888888888,
             "#fdca26"
            ],
            [
             1.0,
             "#f0f921"
            ]
           ]
          },
          "colorway": [
           "#636efa",
           "#EF553B",
           "#00cc96",
           "#ab63fa",
           "#FFA15A",
           "#19d3f3",
           "#FF6692",
           "#B6E880",
           "#FF97FF",
           "#FECB52"
          ],
          "font": {
           "color": "#2a3f5f"
          },
          "geo": {
           "bgcolor": "white",
           "lakecolor": "white",
           "landcolor": "#E5ECF6",
           "showlakes": true,
           "showland": true,
           "subunitcolor": "white"
          },
          "hoverlabel": {
           "align": "left"
          },
          "hovermode": "closest",
          "mapbox": {
           "style": "light"
          },
          "paper_bgcolor": "white",
          "plot_bgcolor": "#E5ECF6",
          "polar": {
           "angularaxis": {
            "gridcolor": "white",
            "linecolor": "white",
            "ticks": ""
           },
           "bgcolor": "#E5ECF6",
           "radialaxis": {
            "gridcolor": "white",
            "linecolor": "white",
            "ticks": ""
           }
          },
          "scene": {
           "xaxis": {
            "backgroundcolor": "#E5ECF6",
            "gridcolor": "white",
            "gridwidth": 2,
            "linecolor": "white",
            "showbackground": true,
            "ticks": "",
            "zerolinecolor": "white"
           },
           "yaxis": {
            "backgroundcolor": "#E5ECF6",
            "gridcolor": "white",
            "gridwidth": 2,
            "linecolor": "white",
            "showbackground": true,
            "ticks": "",
            "zerolinecolor": "white"
           },
           "zaxis": {
            "backgroundcolor": "#E5ECF6",
            "gridcolor": "white",
            "gridwidth": 2,
            "linecolor": "white",
            "showbackground": true,
            "ticks": "",
            "zerolinecolor": "white"
           }
          },
          "shapedefaults": {
           "line": {
            "color": "#2a3f5f"
           }
          },
          "ternary": {
           "aaxis": {
            "gridcolor": "white",
            "linecolor": "white",
            "ticks": ""
           },
           "baxis": {
            "gridcolor": "white",
            "linecolor": "white",
            "ticks": ""
           },
           "bgcolor": "#E5ECF6",
           "caxis": {
            "gridcolor": "white",
            "linecolor": "white",
            "ticks": ""
           }
          },
          "title": {
           "x": 0.05
          },
          "xaxis": {
           "automargin": true,
           "gridcolor": "white",
           "linecolor": "white",
           "ticks": "",
           "zerolinecolor": "white",
           "zerolinewidth": 2
          },
          "yaxis": {
           "automargin": true,
           "gridcolor": "white",
           "linecolor": "white",
           "ticks": "",
           "zerolinecolor": "white",
           "zerolinewidth": 2
          }
         }
        }
       }
      },
      "text/html": [
       "<div>\n",
       "        \n",
       "        \n",
       "            <div id=\"a5dea6ae-d88e-4cf7-a9cd-ad2abd603810\" class=\"plotly-graph-div\" style=\"height:525px; width:100%;\"></div>\n",
       "            <script type=\"text/javascript\">\n",
       "                require([\"plotly\"], function(Plotly) {\n",
       "                    window.PLOTLYENV=window.PLOTLYENV || {};\n",
       "                    \n",
       "                if (document.getElementById(\"a5dea6ae-d88e-4cf7-a9cd-ad2abd603810\")) {\n",
       "                    Plotly.newPlot(\n",
       "                        'a5dea6ae-d88e-4cf7-a9cd-ad2abd603810',\n",
       "                        [{\"fill\": \"toself\", \"name\": \"Turkey\", \"r\": [0.7297332982838737, 0.6405261668807726, 0.05571462333527345, 0.4568799248069921, 0.8306064613277099], \"theta\": [\"HappinessScore\", \"EconomyGDPperCapita\", \"Generosity\", \"Freedom\", \"Family\"], \"type\": \"scatterpolar\"}, {\"fill\": \"toself\", \"name\": \"Norway\", \"r\": [1.0, 0.8640650170265683, 0.43195676732262916, 0.965323020252491, 0.9521596355538668], \"theta\": [\"HappinessScore\", \"EconomyGDPperCapita\", \"Generosity\", \"Freedom\", \"Family\"], \"type\": \"scatterpolar\"}],\n",
       "                        {\"polar\": {\"radialaxis\": {\"range\": [0, 1], \"visible\": true}}, \"showlegend\": false, \"template\": {\"data\": {\"bar\": [{\"error_x\": {\"color\": \"#2a3f5f\"}, \"error_y\": {\"color\": \"#2a3f5f\"}, \"marker\": {\"line\": {\"color\": \"#E5ECF6\", \"width\": 0.5}}, \"type\": \"bar\"}], \"barpolar\": [{\"marker\": {\"line\": {\"color\": \"#E5ECF6\", \"width\": 0.5}}, \"type\": \"barpolar\"}], \"carpet\": [{\"aaxis\": {\"endlinecolor\": \"#2a3f5f\", \"gridcolor\": \"white\", \"linecolor\": \"white\", \"minorgridcolor\": \"white\", \"startlinecolor\": \"#2a3f5f\"}, \"baxis\": {\"endlinecolor\": \"#2a3f5f\", \"gridcolor\": \"white\", \"linecolor\": \"white\", \"minorgridcolor\": \"white\", \"startlinecolor\": \"#2a3f5f\"}, \"type\": \"carpet\"}], \"choropleth\": [{\"colorbar\": {\"outlinewidth\": 0, \"ticks\": \"\"}, \"type\": \"choropleth\"}], \"contour\": [{\"colorbar\": {\"outlinewidth\": 0, \"ticks\": \"\"}, \"colorscale\": [[0.0, \"#0d0887\"], [0.1111111111111111, \"#46039f\"], [0.2222222222222222, \"#7201a8\"], [0.3333333333333333, \"#9c179e\"], [0.4444444444444444, \"#bd3786\"], [0.5555555555555556, \"#d8576b\"], [0.6666666666666666, \"#ed7953\"], [0.7777777777777778, \"#fb9f3a\"], [0.8888888888888888, \"#fdca26\"], [1.0, \"#f0f921\"]], \"type\": \"contour\"}], \"contourcarpet\": [{\"colorbar\": {\"outlinewidth\": 0, \"ticks\": \"\"}, \"type\": \"contourcarpet\"}], \"heatmap\": [{\"colorbar\": {\"outlinewidth\": 0, \"ticks\": \"\"}, \"colorscale\": [[0.0, \"#0d0887\"], [0.1111111111111111, \"#46039f\"], [0.2222222222222222, \"#7201a8\"], [0.3333333333333333, \"#9c179e\"], [0.4444444444444444, \"#bd3786\"], [0.5555555555555556, \"#d8576b\"], [0.6666666666666666, \"#ed7953\"], [0.7777777777777778, \"#fb9f3a\"], [0.8888888888888888, \"#fdca26\"], [1.0, \"#f0f921\"]], \"type\": \"heatmap\"}], \"heatmapgl\": [{\"colorbar\": {\"outlinewidth\": 0, \"ticks\": \"\"}, \"colorscale\": [[0.0, \"#0d0887\"], [0.1111111111111111, \"#46039f\"], [0.2222222222222222, \"#7201a8\"], [0.3333333333333333, \"#9c179e\"], [0.4444444444444444, \"#bd3786\"], [0.5555555555555556, \"#d8576b\"], [0.6666666666666666, \"#ed7953\"], [0.7777777777777778, \"#fb9f3a\"], [0.8888888888888888, \"#fdca26\"], [1.0, \"#f0f921\"]], \"type\": \"heatmapgl\"}], \"histogram\": [{\"marker\": {\"colorbar\": {\"outlinewidth\": 0, \"ticks\": \"\"}}, \"type\": \"histogram\"}], \"histogram2d\": [{\"colorbar\": {\"outlinewidth\": 0, \"ticks\": \"\"}, \"colorscale\": [[0.0, \"#0d0887\"], [0.1111111111111111, \"#46039f\"], [0.2222222222222222, \"#7201a8\"], [0.3333333333333333, \"#9c179e\"], [0.4444444444444444, \"#bd3786\"], [0.5555555555555556, \"#d8576b\"], [0.6666666666666666, \"#ed7953\"], [0.7777777777777778, \"#fb9f3a\"], [0.8888888888888888, \"#fdca26\"], [1.0, \"#f0f921\"]], \"type\": \"histogram2d\"}], \"histogram2dcontour\": [{\"colorbar\": {\"outlinewidth\": 0, \"ticks\": \"\"}, \"colorscale\": [[0.0, \"#0d0887\"], [0.1111111111111111, \"#46039f\"], [0.2222222222222222, \"#7201a8\"], [0.3333333333333333, \"#9c179e\"], [0.4444444444444444, \"#bd3786\"], [0.5555555555555556, \"#d8576b\"], [0.6666666666666666, \"#ed7953\"], [0.7777777777777778, \"#fb9f3a\"], [0.8888888888888888, \"#fdca26\"], [1.0, \"#f0f921\"]], \"type\": \"histogram2dcontour\"}], \"mesh3d\": [{\"colorbar\": {\"outlinewidth\": 0, \"ticks\": \"\"}, \"type\": \"mesh3d\"}], \"parcoords\": [{\"line\": {\"colorbar\": {\"outlinewidth\": 0, \"ticks\": \"\"}}, \"type\": \"parcoords\"}], \"scatter\": [{\"marker\": {\"colorbar\": {\"outlinewidth\": 0, \"ticks\": \"\"}}, \"type\": \"scatter\"}], \"scatter3d\": [{\"line\": {\"colorbar\": {\"outlinewidth\": 0, \"ticks\": \"\"}}, \"marker\": {\"colorbar\": {\"outlinewidth\": 0, \"ticks\": \"\"}}, \"type\": \"scatter3d\"}], \"scattercarpet\": [{\"marker\": {\"colorbar\": {\"outlinewidth\": 0, \"ticks\": \"\"}}, \"type\": \"scattercarpet\"}], \"scattergeo\": [{\"marker\": {\"colorbar\": {\"outlinewidth\": 0, \"ticks\": \"\"}}, \"type\": \"scattergeo\"}], \"scattergl\": [{\"marker\": {\"colorbar\": {\"outlinewidth\": 0, \"ticks\": \"\"}}, \"type\": \"scattergl\"}], \"scattermapbox\": [{\"marker\": {\"colorbar\": {\"outlinewidth\": 0, \"ticks\": \"\"}}, \"type\": \"scattermapbox\"}], \"scatterpolar\": [{\"marker\": {\"colorbar\": {\"outlinewidth\": 0, \"ticks\": \"\"}}, \"type\": \"scatterpolar\"}], \"scatterpolargl\": [{\"marker\": {\"colorbar\": {\"outlinewidth\": 0, \"ticks\": \"\"}}, \"type\": \"scatterpolargl\"}], \"scatterternary\": [{\"marker\": {\"colorbar\": {\"outlinewidth\": 0, \"ticks\": \"\"}}, \"type\": \"scatterternary\"}], \"surface\": [{\"colorbar\": {\"outlinewidth\": 0, \"ticks\": \"\"}, \"colorscale\": [[0.0, \"#0d0887\"], [0.1111111111111111, \"#46039f\"], [0.2222222222222222, \"#7201a8\"], [0.3333333333333333, \"#9c179e\"], [0.4444444444444444, \"#bd3786\"], [0.5555555555555556, \"#d8576b\"], [0.6666666666666666, \"#ed7953\"], [0.7777777777777778, \"#fb9f3a\"], [0.8888888888888888, \"#fdca26\"], [1.0, \"#f0f921\"]], \"type\": \"surface\"}], \"table\": [{\"cells\": {\"fill\": {\"color\": \"#EBF0F8\"}, \"line\": {\"color\": \"white\"}}, \"header\": {\"fill\": {\"color\": \"#C8D4E3\"}, \"line\": {\"color\": \"white\"}}, \"type\": \"table\"}]}, \"layout\": {\"annotationdefaults\": {\"arrowcolor\": \"#2a3f5f\", \"arrowhead\": 0, \"arrowwidth\": 1}, \"colorscale\": {\"diverging\": [[0, \"#8e0152\"], [0.1, \"#c51b7d\"], [0.2, \"#de77ae\"], [0.3, \"#f1b6da\"], [0.4, \"#fde0ef\"], [0.5, \"#f7f7f7\"], [0.6, \"#e6f5d0\"], [0.7, \"#b8e186\"], [0.8, \"#7fbc41\"], [0.9, \"#4d9221\"], [1, \"#276419\"]], \"sequential\": [[0.0, \"#0d0887\"], [0.1111111111111111, \"#46039f\"], [0.2222222222222222, \"#7201a8\"], [0.3333333333333333, \"#9c179e\"], [0.4444444444444444, \"#bd3786\"], [0.5555555555555556, \"#d8576b\"], [0.6666666666666666, \"#ed7953\"], [0.7777777777777778, \"#fb9f3a\"], [0.8888888888888888, \"#fdca26\"], [1.0, \"#f0f921\"]], \"sequentialminus\": [[0.0, \"#0d0887\"], [0.1111111111111111, \"#46039f\"], [0.2222222222222222, \"#7201a8\"], [0.3333333333333333, \"#9c179e\"], [0.4444444444444444, \"#bd3786\"], [0.5555555555555556, \"#d8576b\"], [0.6666666666666666, \"#ed7953\"], [0.7777777777777778, \"#fb9f3a\"], [0.8888888888888888, \"#fdca26\"], [1.0, \"#f0f921\"]]}, \"colorway\": [\"#636efa\", \"#EF553B\", \"#00cc96\", \"#ab63fa\", \"#FFA15A\", \"#19d3f3\", \"#FF6692\", \"#B6E880\", \"#FF97FF\", \"#FECB52\"], \"font\": {\"color\": \"#2a3f5f\"}, \"geo\": {\"bgcolor\": \"white\", \"lakecolor\": \"white\", \"landcolor\": \"#E5ECF6\", \"showlakes\": true, \"showland\": true, \"subunitcolor\": \"white\"}, \"hoverlabel\": {\"align\": \"left\"}, \"hovermode\": \"closest\", \"mapbox\": {\"style\": \"light\"}, \"paper_bgcolor\": \"white\", \"plot_bgcolor\": \"#E5ECF6\", \"polar\": {\"angularaxis\": {\"gridcolor\": \"white\", \"linecolor\": \"white\", \"ticks\": \"\"}, \"bgcolor\": \"#E5ECF6\", \"radialaxis\": {\"gridcolor\": \"white\", \"linecolor\": \"white\", \"ticks\": \"\"}}, \"scene\": {\"xaxis\": {\"backgroundcolor\": \"#E5ECF6\", \"gridcolor\": \"white\", \"gridwidth\": 2, \"linecolor\": \"white\", \"showbackground\": true, \"ticks\": \"\", \"zerolinecolor\": \"white\"}, \"yaxis\": {\"backgroundcolor\": \"#E5ECF6\", \"gridcolor\": \"white\", \"gridwidth\": 2, \"linecolor\": \"white\", \"showbackground\": true, \"ticks\": \"\", \"zerolinecolor\": \"white\"}, \"zaxis\": {\"backgroundcolor\": \"#E5ECF6\", \"gridcolor\": \"white\", \"gridwidth\": 2, \"linecolor\": \"white\", \"showbackground\": true, \"ticks\": \"\", \"zerolinecolor\": \"white\"}}, \"shapedefaults\": {\"line\": {\"color\": \"#2a3f5f\"}}, \"ternary\": {\"aaxis\": {\"gridcolor\": \"white\", \"linecolor\": \"white\", \"ticks\": \"\"}, \"baxis\": {\"gridcolor\": \"white\", \"linecolor\": \"white\", \"ticks\": \"\"}, \"bgcolor\": \"#E5ECF6\", \"caxis\": {\"gridcolor\": \"white\", \"linecolor\": \"white\", \"ticks\": \"\"}}, \"title\": {\"x\": 0.05}, \"xaxis\": {\"automargin\": true, \"gridcolor\": \"white\", \"linecolor\": \"white\", \"ticks\": \"\", \"zerolinecolor\": \"white\", \"zerolinewidth\": 2}, \"yaxis\": {\"automargin\": true, \"gridcolor\": \"white\", \"linecolor\": \"white\", \"ticks\": \"\", \"zerolinecolor\": \"white\", \"zerolinewidth\": 2}}}},\n",
       "                        {\"responsive\": true}\n",
       "                    ).then(function(){\n",
       "                            \n",
       "var gd = document.getElementById('a5dea6ae-d88e-4cf7-a9cd-ad2abd603810');\n",
       "var x = new MutationObserver(function (mutations, observer) {{\n",
       "        var display = window.getComputedStyle(gd).display;\n",
       "        if (!display || display === 'none') {{\n",
       "            console.log([gd, 'removed!']);\n",
       "            Plotly.purge(gd);\n",
       "            observer.disconnect();\n",
       "        }}\n",
       "}});\n",
       "\n",
       "// Listen for the removal of the full notebook cells\n",
       "var notebookContainer = gd.closest('#notebook-container');\n",
       "if (notebookContainer) {{\n",
       "    x.observe(notebookContainer, {childList: true});\n",
       "}}\n",
       "\n",
       "// Listen for the clearing of the current output cell\n",
       "var outputEl = gd.closest('.output');\n",
       "if (outputEl) {{\n",
       "    x.observe(outputEl, {childList: true});\n",
       "}}\n",
       "\n",
       "                        })\n",
       "                };\n",
       "                });\n",
       "            </script>\n",
       "        </div>"
      ]
     },
     "metadata": {},
     "output_type": "display_data"
    }
   ],
   "source": [
    "categories = ['HappinessScore','EconomyGDPperCapita','Generosity','Freedom', 'Family']\n",
    "r1=[df2017[each][df2017[\"Country\"]==\"Turkey\"].mean()/df2017[each].max()  for each in categories]\n",
    "r2=[df2017[each][df2017[\"Country\"]==\"Norway\"].mean()/df2017[each].max()  for each in categories]\n",
    "\n",
    "fig = go.Figure()\n",
    "\n",
    "fig.add_trace(go.Scatterpolar(\n",
    "      r=r1,\n",
    "      theta=categories,\n",
    "      fill='toself',\n",
    "      name='Turkey'\n",
    "))\n",
    "fig.add_trace(go.Scatterpolar(\n",
    "      r=r2,\n",
    "      theta=categories,\n",
    "      fill='toself',\n",
    "      name='Norway'\n",
    "))\n",
    "\n",
    "fig.update_layout(\n",
    "  polar=dict(\n",
    "    radialaxis=dict(\n",
    "      visible=True,\n",
    "      range=[0, 1]\n",
    "    )),\n",
    "  showlegend=False\n",
    ")\n",
    "\n",
    "fig.show()"
   ]
  },
  {
   "cell_type": "markdown",
   "metadata": {},
   "source": [
    "# Plotly - Box Plot ( Interactive )\n",
    "### 2017, 2016 vs 2015 (min,q1,median,q3,max value)"
   ]
  },
  {
   "cell_type": "code",
   "execution_count": 14,
   "metadata": {},
   "outputs": [
    {
     "data": {
      "application/vnd.plotly.v1+json": {
       "config": {
        "plotlyServerURL": "https://plot.ly"
       },
       "data": [
        {
         "name": "2017",
         "type": "box",
         "x": [
          7.537000179290769,
          7.52199983596802,
          7.50400018692017,
          7.49399995803833,
          7.468999862670901,
          7.3769998550415,
          7.31599998474121,
          7.31400012969971,
          7.28399991989136,
          7.28399991989136,
          7.212999820709231,
          7.0789999961853,
          7.00600004196167,
          6.993000030517581,
          6.9770002365112305,
          6.9510002136230495,
          6.89099979400635,
          6.86299991607666,
          6.71400022506714,
          6.65199995040894,
          6.6479997634887695,
          6.6350002288818395,
          6.60900020599365,
          6.59899997711182,
          6.57800006866455,
          6.57200002670288,
          6.52699995040894,
          6.4539999961853,
          6.4539999961853,
          6.4520001411438,
          6.44199991226196,
          6.4239997863769505,
          6.42199993133545,
          6.40299987792969,
          6.375,
          6.35699987411499,
          6.343999862670901,
          6.1680002212524405,
          6.10500001907349,
          6.09800004959106,
          6.08699989318848,
          6.08400011062622,
          6.07100009918213,
          6.00799989700317,
          6.002999782562259,
          5.97300004959106,
          5.97100019454956,
          5.96400022506714,
          5.962999820709231,
          5.955999851226809,
          5.92000007629395,
          5.90199995040894,
          5.872000217437741,
          5.849999904632571,
          5.837999820709231,
          5.837999820709231,
          5.824999809265139,
          5.82299995422363,
          5.82200002670288,
          5.8189997673034695,
          5.80999994277954,
          5.75799989700317,
          5.71500015258789,
          5.62900018692017,
          5.62099981307983,
          5.61100006103516,
          5.5689997673034695,
          5.525000095367429,
          5.5,
          5.493000030517581,
          5.47200012207031,
          5.42999982833862,
          5.39499998092651,
          5.33599996566772,
          5.32399988174438,
          5.31099987030029,
          5.2930002212524405,
          5.27899980545044,
          5.2729997634887695,
          5.26900005340576,
          5.26200008392334,
          5.25,
          5.23699998855591,
          5.2350001335144,
          5.234000205993651,
          5.230000019073491,
          5.2270002365112305,
          5.22499990463257,
          5.19500017166138,
          5.18200016021729,
          5.1810002326965305,
          5.175000190734861,
          5.151000022888179,
          5.07399988174438,
          5.07399988174438,
          5.04099988937378,
          5.01100015640259,
          5.0040001869201705,
          4.961999893188481,
          4.95499992370605,
          4.8289999961853,
          4.80499982833862,
          4.77500009536743,
          4.7350001335144,
          4.71400022506714,
          4.70900011062622,
          4.69500017166138,
          4.69199991226196,
          4.64400005340576,
          4.60799980163574,
          4.57399988174438,
          4.55299997329712,
          4.550000190734861,
          4.54500007629395,
          4.53499984741211,
          4.513999938964839,
          4.49700021743774,
          4.46500015258789,
          4.46000003814697,
          4.44000005722046,
          4.37599992752075,
          4.31500005722046,
          4.29199981689453,
          4.29099988937378,
          4.28599977493286,
          4.2800002098083505,
          4.19000005722046,
          4.17999982833862,
          4.1680002212524405,
          4.138999938964839,
          4.11999988555908,
          4.09600019454956,
          4.08099985122681,
          4.03200006484985,
          4.02799987792969,
          3.97000002861023,
          3.9360001087188703,
          3.875,
          3.80800008773804,
          3.79500007629395,
          3.7939999103546103,
          3.7660000324249303,
          3.65700006484985,
          3.64400005340576,
          3.6029999256133998,
          3.59299993515015,
          3.5910000801086404,
          3.5329999923706095,
          3.50699996948242,
          3.4949998855590803,
          3.47099995613098,
          3.46199989318848,
          3.34899997711182,
          2.90499997138977,
          2.69300007820129
         ]
        },
        {
         "name": "2016",
         "type": "box",
         "x": [
          7.526,
          7.5089999999999995,
          7.501,
          7.497999999999999,
          7.412999999999999,
          7.404,
          7.3389999999999995,
          7.334,
          7.313,
          7.291,
          7.267,
          7.119,
          7.104,
          7.087000000000001,
          7.039,
          6.994,
          6.952000000000001,
          6.928999999999999,
          6.907,
          6.871,
          6.778,
          6.739,
          6.725,
          6.705,
          6.7010000000000005,
          6.65,
          6.596,
          6.5729999999999995,
          6.545,
          6.4879999999999995,
          6.481,
          6.478,
          6.474,
          6.379,
          6.379,
          6.375,
          6.361000000000001,
          6.355,
          6.324,
          6.269,
          6.239,
          6.218,
          6.167999999999999,
          6.084,
          6.077999999999999,
          6.068,
          6.005,
          5.992000000000001,
          5.987,
          5.977,
          5.976,
          5.956,
          5.921,
          5.919,
          5.897,
          5.856,
          5.835,
          5.835,
          5.822,
          5.813,
          5.8020000000000005,
          5.771,
          5.768,
          5.742999999999999,
          5.6579999999999995,
          5.648,
          5.615,
          5.56,
          5.546,
          5.537999999999999,
          5.528,
          5.517,
          5.51,
          5.4879999999999995,
          5.457999999999999,
          5.44,
          5.401,
          5.388999999999999,
          5.314,
          5.303,
          5.291,
          5.279,
          5.245,
          5.196000000000001,
          5.185,
          5.1770000000000005,
          5.162999999999999,
          5.1610000000000005,
          5.155,
          5.151,
          5.145,
          5.132000000000001,
          5.129,
          5.122999999999999,
          5.121,
          5.061,
          5.0569999999999995,
          5.045,
          5.033,
          4.996,
          4.907,
          4.876,
          4.875,
          4.871,
          4.813,
          4.795,
          4.793,
          4.754,
          4.655,
          4.643,
          4.635,
          4.575,
          4.574,
          4.513,
          4.508,
          4.459,
          4.415,
          4.404,
          4.395,
          4.362,
          4.36,
          4.356,
          4.324,
          4.276,
          4.272,
          4.252,
          4.236000000000001,
          4.218999999999999,
          4.217,
          4.2010000000000005,
          4.1930000000000005,
          4.156000000000001,
          4.138999999999999,
          4.121,
          4.073,
          4.0280000000000005,
          3.9739999999999998,
          3.9560000000000004,
          3.9160000000000004,
          3.907,
          3.866,
          3.8560000000000003,
          3.832,
          3.763,
          3.739,
          3.739,
          3.7239999999999998,
          3.695,
          3.6660000000000004,
          3.622,
          3.6069999999999998,
          3.515,
          3.484,
          3.36,
          3.303,
          3.069,
          2.905
         ]
        },
        {
         "name": "2015",
         "type": "box",
         "x": [
          7.587000000000001,
          7.561,
          7.527,
          7.522,
          7.4270000000000005,
          7.406000000000001,
          7.377999999999999,
          7.364,
          7.2860000000000005,
          7.284,
          7.278,
          7.226,
          7.2,
          7.187,
          7.119,
          6.983,
          6.946000000000001,
          6.94,
          6.937,
          6.901,
          6.867000000000001,
          6.853,
          6.81,
          6.797999999999999,
          6.7860000000000005,
          6.75,
          6.67,
          6.611000000000001,
          6.575,
          6.574,
          6.505,
          6.485,
          6.477,
          6.455,
          6.4110000000000005,
          6.329,
          6.3020000000000005,
          6.297999999999999,
          6.295,
          6.269,
          6.167999999999999,
          6.13,
          6.122999999999999,
          6.002999999999999,
          5.995,
          5.987,
          5.984,
          5.975,
          5.96,
          5.9479999999999995,
          5.89,
          5.888999999999999,
          5.877999999999999,
          5.855,
          5.848,
          5.832999999999999,
          5.827999999999999,
          5.824,
          5.813,
          5.791,
          5.77,
          5.7589999999999995,
          5.754,
          5.716,
          5.709,
          5.695,
          5.689,
          5.605,
          5.5889999999999995,
          5.547999999999999,
          5.477,
          5.474,
          5.428999999999999,
          5.399,
          5.36,
          5.332000000000001,
          5.2860000000000005,
          5.268,
          5.252999999999999,
          5.212000000000001,
          5.194,
          5.192,
          5.192,
          5.14,
          5.129,
          5.124,
          5.122999999999999,
          5.102,
          5.098,
          5.073,
          5.0569999999999995,
          5.013,
          5.007,
          4.971,
          4.959,
          4.949,
          4.898,
          4.885,
          4.876,
          4.874,
          4.867,
          4.857,
          4.8389999999999995,
          4.8,
          4.788,
          4.7860000000000005,
          4.739,
          4.715,
          4.694,
          4.686,
          4.681,
          4.677,
          4.6419999999999995,
          4.633,
          4.61,
          4.571000000000001,
          4.565,
          4.55,
          4.518,
          4.5169999999999995,
          4.513999999999999,
          4.512,
          4.507,
          4.436,
          4.419,
          4.369,
          4.35,
          4.332,
          4.3069999999999995,
          4.297,
          4.292,
          4.271,
          4.252,
          4.218,
          4.194,
          4.077,
          4.033,
          3.995,
          3.989,
          3.9560000000000004,
          3.931,
          3.904,
          3.8960000000000004,
          3.845,
          3.819,
          3.781,
          3.681,
          3.678,
          3.667,
          3.656,
          3.655,
          3.5869999999999997,
          3.575,
          3.465,
          3.34,
          3.0060000000000002,
          2.905,
          2.839
         ]
        }
       ],
       "layout": {
        "template": {
         "data": {
          "bar": [
           {
            "error_x": {
             "color": "#2a3f5f"
            },
            "error_y": {
             "color": "#2a3f5f"
            },
            "marker": {
             "line": {
              "color": "#E5ECF6",
              "width": 0.5
             }
            },
            "type": "bar"
           }
          ],
          "barpolar": [
           {
            "marker": {
             "line": {
              "color": "#E5ECF6",
              "width": 0.5
             }
            },
            "type": "barpolar"
           }
          ],
          "carpet": [
           {
            "aaxis": {
             "endlinecolor": "#2a3f5f",
             "gridcolor": "white",
             "linecolor": "white",
             "minorgridcolor": "white",
             "startlinecolor": "#2a3f5f"
            },
            "baxis": {
             "endlinecolor": "#2a3f5f",
             "gridcolor": "white",
             "linecolor": "white",
             "minorgridcolor": "white",
             "startlinecolor": "#2a3f5f"
            },
            "type": "carpet"
           }
          ],
          "choropleth": [
           {
            "colorbar": {
             "outlinewidth": 0,
             "ticks": ""
            },
            "type": "choropleth"
           }
          ],
          "contour": [
           {
            "colorbar": {
             "outlinewidth": 0,
             "ticks": ""
            },
            "colorscale": [
             [
              0.0,
              "#0d0887"
             ],
             [
              0.1111111111111111,
              "#46039f"
             ],
             [
              0.2222222222222222,
              "#7201a8"
             ],
             [
              0.3333333333333333,
              "#9c179e"
             ],
             [
              0.4444444444444444,
              "#bd3786"
             ],
             [
              0.5555555555555556,
              "#d8576b"
             ],
             [
              0.6666666666666666,
              "#ed7953"
             ],
             [
              0.7777777777777778,
              "#fb9f3a"
             ],
             [
              0.8888888888888888,
              "#fdca26"
             ],
             [
              1.0,
              "#f0f921"
             ]
            ],
            "type": "contour"
           }
          ],
          "contourcarpet": [
           {
            "colorbar": {
             "outlinewidth": 0,
             "ticks": ""
            },
            "type": "contourcarpet"
           }
          ],
          "heatmap": [
           {
            "colorbar": {
             "outlinewidth": 0,
             "ticks": ""
            },
            "colorscale": [
             [
              0.0,
              "#0d0887"
             ],
             [
              0.1111111111111111,
              "#46039f"
             ],
             [
              0.2222222222222222,
              "#7201a8"
             ],
             [
              0.3333333333333333,
              "#9c179e"
             ],
             [
              0.4444444444444444,
              "#bd3786"
             ],
             [
              0.5555555555555556,
              "#d8576b"
             ],
             [
              0.6666666666666666,
              "#ed7953"
             ],
             [
              0.7777777777777778,
              "#fb9f3a"
             ],
             [
              0.8888888888888888,
              "#fdca26"
             ],
             [
              1.0,
              "#f0f921"
             ]
            ],
            "type": "heatmap"
           }
          ],
          "heatmapgl": [
           {
            "colorbar": {
             "outlinewidth": 0,
             "ticks": ""
            },
            "colorscale": [
             [
              0.0,
              "#0d0887"
             ],
             [
              0.1111111111111111,
              "#46039f"
             ],
             [
              0.2222222222222222,
              "#7201a8"
             ],
             [
              0.3333333333333333,
              "#9c179e"
             ],
             [
              0.4444444444444444,
              "#bd3786"
             ],
             [
              0.5555555555555556,
              "#d8576b"
             ],
             [
              0.6666666666666666,
              "#ed7953"
             ],
             [
              0.7777777777777778,
              "#fb9f3a"
             ],
             [
              0.8888888888888888,
              "#fdca26"
             ],
             [
              1.0,
              "#f0f921"
             ]
            ],
            "type": "heatmapgl"
           }
          ],
          "histogram": [
           {
            "marker": {
             "colorbar": {
              "outlinewidth": 0,
              "ticks": ""
             }
            },
            "type": "histogram"
           }
          ],
          "histogram2d": [
           {
            "colorbar": {
             "outlinewidth": 0,
             "ticks": ""
            },
            "colorscale": [
             [
              0.0,
              "#0d0887"
             ],
             [
              0.1111111111111111,
              "#46039f"
             ],
             [
              0.2222222222222222,
              "#7201a8"
             ],
             [
              0.3333333333333333,
              "#9c179e"
             ],
             [
              0.4444444444444444,
              "#bd3786"
             ],
             [
              0.5555555555555556,
              "#d8576b"
             ],
             [
              0.6666666666666666,
              "#ed7953"
             ],
             [
              0.7777777777777778,
              "#fb9f3a"
             ],
             [
              0.8888888888888888,
              "#fdca26"
             ],
             [
              1.0,
              "#f0f921"
             ]
            ],
            "type": "histogram2d"
           }
          ],
          "histogram2dcontour": [
           {
            "colorbar": {
             "outlinewidth": 0,
             "ticks": ""
            },
            "colorscale": [
             [
              0.0,
              "#0d0887"
             ],
             [
              0.1111111111111111,
              "#46039f"
             ],
             [
              0.2222222222222222,
              "#7201a8"
             ],
             [
              0.3333333333333333,
              "#9c179e"
             ],
             [
              0.4444444444444444,
              "#bd3786"
             ],
             [
              0.5555555555555556,
              "#d8576b"
             ],
             [
              0.6666666666666666,
              "#ed7953"
             ],
             [
              0.7777777777777778,
              "#fb9f3a"
             ],
             [
              0.8888888888888888,
              "#fdca26"
             ],
             [
              1.0,
              "#f0f921"
             ]
            ],
            "type": "histogram2dcontour"
           }
          ],
          "mesh3d": [
           {
            "colorbar": {
             "outlinewidth": 0,
             "ticks": ""
            },
            "type": "mesh3d"
           }
          ],
          "parcoords": [
           {
            "line": {
             "colorbar": {
              "outlinewidth": 0,
              "ticks": ""
             }
            },
            "type": "parcoords"
           }
          ],
          "scatter": [
           {
            "marker": {
             "colorbar": {
              "outlinewidth": 0,
              "ticks": ""
             }
            },
            "type": "scatter"
           }
          ],
          "scatter3d": [
           {
            "line": {
             "colorbar": {
              "outlinewidth": 0,
              "ticks": ""
             }
            },
            "marker": {
             "colorbar": {
              "outlinewidth": 0,
              "ticks": ""
             }
            },
            "type": "scatter3d"
           }
          ],
          "scattercarpet": [
           {
            "marker": {
             "colorbar": {
              "outlinewidth": 0,
              "ticks": ""
             }
            },
            "type": "scattercarpet"
           }
          ],
          "scattergeo": [
           {
            "marker": {
             "colorbar": {
              "outlinewidth": 0,
              "ticks": ""
             }
            },
            "type": "scattergeo"
           }
          ],
          "scattergl": [
           {
            "marker": {
             "colorbar": {
              "outlinewidth": 0,
              "ticks": ""
             }
            },
            "type": "scattergl"
           }
          ],
          "scattermapbox": [
           {
            "marker": {
             "colorbar": {
              "outlinewidth": 0,
              "ticks": ""
             }
            },
            "type": "scattermapbox"
           }
          ],
          "scatterpolar": [
           {
            "marker": {
             "colorbar": {
              "outlinewidth": 0,
              "ticks": ""
             }
            },
            "type": "scatterpolar"
           }
          ],
          "scatterpolargl": [
           {
            "marker": {
             "colorbar": {
              "outlinewidth": 0,
              "ticks": ""
             }
            },
            "type": "scatterpolargl"
           }
          ],
          "scatterternary": [
           {
            "marker": {
             "colorbar": {
              "outlinewidth": 0,
              "ticks": ""
             }
            },
            "type": "scatterternary"
           }
          ],
          "surface": [
           {
            "colorbar": {
             "outlinewidth": 0,
             "ticks": ""
            },
            "colorscale": [
             [
              0.0,
              "#0d0887"
             ],
             [
              0.1111111111111111,
              "#46039f"
             ],
             [
              0.2222222222222222,
              "#7201a8"
             ],
             [
              0.3333333333333333,
              "#9c179e"
             ],
             [
              0.4444444444444444,
              "#bd3786"
             ],
             [
              0.5555555555555556,
              "#d8576b"
             ],
             [
              0.6666666666666666,
              "#ed7953"
             ],
             [
              0.7777777777777778,
              "#fb9f3a"
             ],
             [
              0.8888888888888888,
              "#fdca26"
             ],
             [
              1.0,
              "#f0f921"
             ]
            ],
            "type": "surface"
           }
          ],
          "table": [
           {
            "cells": {
             "fill": {
              "color": "#EBF0F8"
             },
             "line": {
              "color": "white"
             }
            },
            "header": {
             "fill": {
              "color": "#C8D4E3"
             },
             "line": {
              "color": "white"
             }
            },
            "type": "table"
           }
          ]
         },
         "layout": {
          "annotationdefaults": {
           "arrowcolor": "#2a3f5f",
           "arrowhead": 0,
           "arrowwidth": 1
          },
          "colorscale": {
           "diverging": [
            [
             0,
             "#8e0152"
            ],
            [
             0.1,
             "#c51b7d"
            ],
            [
             0.2,
             "#de77ae"
            ],
            [
             0.3,
             "#f1b6da"
            ],
            [
             0.4,
             "#fde0ef"
            ],
            [
             0.5,
             "#f7f7f7"
            ],
            [
             0.6,
             "#e6f5d0"
            ],
            [
             0.7,
             "#b8e186"
            ],
            [
             0.8,
             "#7fbc41"
            ],
            [
             0.9,
             "#4d9221"
            ],
            [
             1,
             "#276419"
            ]
           ],
           "sequential": [
            [
             0.0,
             "#0d0887"
            ],
            [
             0.1111111111111111,
             "#46039f"
            ],
            [
             0.2222222222222222,
             "#7201a8"
            ],
            [
             0.3333333333333333,
             "#9c179e"
            ],
            [
             0.4444444444444444,
             "#bd3786"
            ],
            [
             0.5555555555555556,
             "#d8576b"
            ],
            [
             0.6666666666666666,
             "#ed7953"
            ],
            [
             0.7777777777777778,
             "#fb9f3a"
            ],
            [
             0.8888888888888888,
             "#fdca26"
            ],
            [
             1.0,
             "#f0f921"
            ]
           ],
           "sequentialminus": [
            [
             0.0,
             "#0d0887"
            ],
            [
             0.1111111111111111,
             "#46039f"
            ],
            [
             0.2222222222222222,
             "#7201a8"
            ],
            [
             0.3333333333333333,
             "#9c179e"
            ],
            [
             0.4444444444444444,
             "#bd3786"
            ],
            [
             0.5555555555555556,
             "#d8576b"
            ],
            [
             0.6666666666666666,
             "#ed7953"
            ],
            [
             0.7777777777777778,
             "#fb9f3a"
            ],
            [
             0.8888888888888888,
             "#fdca26"
            ],
            [
             1.0,
             "#f0f921"
            ]
           ]
          },
          "colorway": [
           "#636efa",
           "#EF553B",
           "#00cc96",
           "#ab63fa",
           "#FFA15A",
           "#19d3f3",
           "#FF6692",
           "#B6E880",
           "#FF97FF",
           "#FECB52"
          ],
          "font": {
           "color": "#2a3f5f"
          },
          "geo": {
           "bgcolor": "white",
           "lakecolor": "white",
           "landcolor": "#E5ECF6",
           "showlakes": true,
           "showland": true,
           "subunitcolor": "white"
          },
          "hoverlabel": {
           "align": "left"
          },
          "hovermode": "closest",
          "mapbox": {
           "style": "light"
          },
          "paper_bgcolor": "white",
          "plot_bgcolor": "#E5ECF6",
          "polar": {
           "angularaxis": {
            "gridcolor": "white",
            "linecolor": "white",
            "ticks": ""
           },
           "bgcolor": "#E5ECF6",
           "radialaxis": {
            "gridcolor": "white",
            "linecolor": "white",
            "ticks": ""
           }
          },
          "scene": {
           "xaxis": {
            "backgroundcolor": "#E5ECF6",
            "gridcolor": "white",
            "gridwidth": 2,
            "linecolor": "white",
            "showbackground": true,
            "ticks": "",
            "zerolinecolor": "white"
           },
           "yaxis": {
            "backgroundcolor": "#E5ECF6",
            "gridcolor": "white",
            "gridwidth": 2,
            "linecolor": "white",
            "showbackground": true,
            "ticks": "",
            "zerolinecolor": "white"
           },
           "zaxis": {
            "backgroundcolor": "#E5ECF6",
            "gridcolor": "white",
            "gridwidth": 2,
            "linecolor": "white",
            "showbackground": true,
            "ticks": "",
            "zerolinecolor": "white"
           }
          },
          "shapedefaults": {
           "line": {
            "color": "#2a3f5f"
           }
          },
          "ternary": {
           "aaxis": {
            "gridcolor": "white",
            "linecolor": "white",
            "ticks": ""
           },
           "baxis": {
            "gridcolor": "white",
            "linecolor": "white",
            "ticks": ""
           },
           "bgcolor": "#E5ECF6",
           "caxis": {
            "gridcolor": "white",
            "linecolor": "white",
            "ticks": ""
           }
          },
          "title": {
           "x": 0.05
          },
          "xaxis": {
           "automargin": true,
           "gridcolor": "white",
           "linecolor": "white",
           "ticks": "",
           "zerolinecolor": "white",
           "zerolinewidth": 2
          },
          "yaxis": {
           "automargin": true,
           "gridcolor": "white",
           "linecolor": "white",
           "ticks": "",
           "zerolinecolor": "white",
           "zerolinewidth": 2
          }
         }
        }
       }
      },
      "text/html": [
       "<div>\n",
       "        \n",
       "        \n",
       "            <div id=\"660316ec-e154-4581-a2c0-9fcc8afff42a\" class=\"plotly-graph-div\" style=\"height:525px; width:100%;\"></div>\n",
       "            <script type=\"text/javascript\">\n",
       "                require([\"plotly\"], function(Plotly) {\n",
       "                    window.PLOTLYENV=window.PLOTLYENV || {};\n",
       "                    \n",
       "                if (document.getElementById(\"660316ec-e154-4581-a2c0-9fcc8afff42a\")) {\n",
       "                    Plotly.newPlot(\n",
       "                        '660316ec-e154-4581-a2c0-9fcc8afff42a',\n",
       "                        [{\"name\": \"2017\", \"type\": \"box\", \"x\": [7.537000179290769, 7.52199983596802, 7.50400018692017, 7.49399995803833, 7.468999862670901, 7.3769998550415, 7.31599998474121, 7.31400012969971, 7.28399991989136, 7.28399991989136, 7.212999820709231, 7.0789999961853, 7.00600004196167, 6.993000030517581, 6.9770002365112305, 6.9510002136230495, 6.89099979400635, 6.86299991607666, 6.71400022506714, 6.65199995040894, 6.6479997634887695, 6.6350002288818395, 6.60900020599365, 6.59899997711182, 6.57800006866455, 6.57200002670288, 6.52699995040894, 6.4539999961853, 6.4539999961853, 6.4520001411438, 6.44199991226196, 6.4239997863769505, 6.42199993133545, 6.40299987792969, 6.375, 6.35699987411499, 6.343999862670901, 6.1680002212524405, 6.10500001907349, 6.09800004959106, 6.08699989318848, 6.08400011062622, 6.07100009918213, 6.00799989700317, 6.002999782562259, 5.97300004959106, 5.97100019454956, 5.96400022506714, 5.962999820709231, 5.955999851226809, 5.92000007629395, 5.90199995040894, 5.872000217437741, 5.849999904632571, 5.837999820709231, 5.837999820709231, 5.824999809265139, 5.82299995422363, 5.82200002670288, 5.8189997673034695, 5.80999994277954, 5.75799989700317, 5.71500015258789, 5.62900018692017, 5.62099981307983, 5.61100006103516, 5.5689997673034695, 5.525000095367429, 5.5, 5.493000030517581, 5.47200012207031, 5.42999982833862, 5.39499998092651, 5.33599996566772, 5.32399988174438, 5.31099987030029, 5.2930002212524405, 5.27899980545044, 5.2729997634887695, 5.26900005340576, 5.26200008392334, 5.25, 5.23699998855591, 5.2350001335144, 5.234000205993651, 5.230000019073491, 5.2270002365112305, 5.22499990463257, 5.19500017166138, 5.18200016021729, 5.1810002326965305, 5.175000190734861, 5.151000022888179, 5.07399988174438, 5.07399988174438, 5.04099988937378, 5.01100015640259, 5.0040001869201705, 4.961999893188481, 4.95499992370605, 4.8289999961853, 4.80499982833862, 4.77500009536743, 4.7350001335144, 4.71400022506714, 4.70900011062622, 4.69500017166138, 4.69199991226196, 4.64400005340576, 4.60799980163574, 4.57399988174438, 4.55299997329712, 4.550000190734861, 4.54500007629395, 4.53499984741211, 4.513999938964839, 4.49700021743774, 4.46500015258789, 4.46000003814697, 4.44000005722046, 4.37599992752075, 4.31500005722046, 4.29199981689453, 4.29099988937378, 4.28599977493286, 4.2800002098083505, 4.19000005722046, 4.17999982833862, 4.1680002212524405, 4.138999938964839, 4.11999988555908, 4.09600019454956, 4.08099985122681, 4.03200006484985, 4.02799987792969, 3.97000002861023, 3.9360001087188703, 3.875, 3.80800008773804, 3.79500007629395, 3.7939999103546103, 3.7660000324249303, 3.65700006484985, 3.64400005340576, 3.6029999256133998, 3.59299993515015, 3.5910000801086404, 3.5329999923706095, 3.50699996948242, 3.4949998855590803, 3.47099995613098, 3.46199989318848, 3.34899997711182, 2.90499997138977, 2.69300007820129]}, {\"name\": \"2016\", \"type\": \"box\", \"x\": [7.526, 7.5089999999999995, 7.501, 7.497999999999999, 7.412999999999999, 7.404, 7.3389999999999995, 7.334, 7.313, 7.291, 7.267, 7.119, 7.104, 7.087000000000001, 7.039, 6.994, 6.952000000000001, 6.928999999999999, 6.907, 6.871, 6.778, 6.739, 6.725, 6.705, 6.7010000000000005, 6.65, 6.596, 6.5729999999999995, 6.545, 6.4879999999999995, 6.481, 6.478, 6.474, 6.379, 6.379, 6.375, 6.361000000000001, 6.355, 6.324, 6.269, 6.239, 6.218, 6.167999999999999, 6.084, 6.077999999999999, 6.068, 6.005, 5.992000000000001, 5.987, 5.977, 5.976, 5.956, 5.921, 5.919, 5.897, 5.856, 5.835, 5.835, 5.822, 5.813, 5.8020000000000005, 5.771, 5.768, 5.742999999999999, 5.6579999999999995, 5.648, 5.615, 5.56, 5.546, 5.537999999999999, 5.528, 5.517, 5.51, 5.4879999999999995, 5.457999999999999, 5.44, 5.401, 5.388999999999999, 5.314, 5.303, 5.291, 5.279, 5.245, 5.196000000000001, 5.185, 5.1770000000000005, 5.162999999999999, 5.1610000000000005, 5.155, 5.151, 5.145, 5.132000000000001, 5.129, 5.122999999999999, 5.121, 5.061, 5.0569999999999995, 5.045, 5.033, 4.996, 4.907, 4.876, 4.875, 4.871, 4.813, 4.795, 4.793, 4.754, 4.655, 4.643, 4.635, 4.575, 4.574, 4.513, 4.508, 4.459, 4.415, 4.404, 4.395, 4.362, 4.36, 4.356, 4.324, 4.276, 4.272, 4.252, 4.236000000000001, 4.218999999999999, 4.217, 4.2010000000000005, 4.1930000000000005, 4.156000000000001, 4.138999999999999, 4.121, 4.073, 4.0280000000000005, 3.9739999999999998, 3.9560000000000004, 3.9160000000000004, 3.907, 3.866, 3.8560000000000003, 3.832, 3.763, 3.739, 3.739, 3.7239999999999998, 3.695, 3.6660000000000004, 3.622, 3.6069999999999998, 3.515, 3.484, 3.36, 3.303, 3.069, 2.905]}, {\"name\": \"2015\", \"type\": \"box\", \"x\": [7.587000000000001, 7.561, 7.527, 7.522, 7.4270000000000005, 7.406000000000001, 7.377999999999999, 7.364, 7.2860000000000005, 7.284, 7.278, 7.226, 7.2, 7.187, 7.119, 6.983, 6.946000000000001, 6.94, 6.937, 6.901, 6.867000000000001, 6.853, 6.81, 6.797999999999999, 6.7860000000000005, 6.75, 6.67, 6.611000000000001, 6.575, 6.574, 6.505, 6.485, 6.477, 6.455, 6.4110000000000005, 6.329, 6.3020000000000005, 6.297999999999999, 6.295, 6.269, 6.167999999999999, 6.13, 6.122999999999999, 6.002999999999999, 5.995, 5.987, 5.984, 5.975, 5.96, 5.9479999999999995, 5.89, 5.888999999999999, 5.877999999999999, 5.855, 5.848, 5.832999999999999, 5.827999999999999, 5.824, 5.813, 5.791, 5.77, 5.7589999999999995, 5.754, 5.716, 5.709, 5.695, 5.689, 5.605, 5.5889999999999995, 5.547999999999999, 5.477, 5.474, 5.428999999999999, 5.399, 5.36, 5.332000000000001, 5.2860000000000005, 5.268, 5.252999999999999, 5.212000000000001, 5.194, 5.192, 5.192, 5.14, 5.129, 5.124, 5.122999999999999, 5.102, 5.098, 5.073, 5.0569999999999995, 5.013, 5.007, 4.971, 4.959, 4.949, 4.898, 4.885, 4.876, 4.874, 4.867, 4.857, 4.8389999999999995, 4.8, 4.788, 4.7860000000000005, 4.739, 4.715, 4.694, 4.686, 4.681, 4.677, 4.6419999999999995, 4.633, 4.61, 4.571000000000001, 4.565, 4.55, 4.518, 4.5169999999999995, 4.513999999999999, 4.512, 4.507, 4.436, 4.419, 4.369, 4.35, 4.332, 4.3069999999999995, 4.297, 4.292, 4.271, 4.252, 4.218, 4.194, 4.077, 4.033, 3.995, 3.989, 3.9560000000000004, 3.931, 3.904, 3.8960000000000004, 3.845, 3.819, 3.781, 3.681, 3.678, 3.667, 3.656, 3.655, 3.5869999999999997, 3.575, 3.465, 3.34, 3.0060000000000002, 2.905, 2.839]}],\n",
       "                        {\"template\": {\"data\": {\"bar\": [{\"error_x\": {\"color\": \"#2a3f5f\"}, \"error_y\": {\"color\": \"#2a3f5f\"}, \"marker\": {\"line\": {\"color\": \"#E5ECF6\", \"width\": 0.5}}, \"type\": \"bar\"}], \"barpolar\": [{\"marker\": {\"line\": {\"color\": \"#E5ECF6\", \"width\": 0.5}}, \"type\": \"barpolar\"}], \"carpet\": [{\"aaxis\": {\"endlinecolor\": \"#2a3f5f\", \"gridcolor\": \"white\", \"linecolor\": \"white\", \"minorgridcolor\": \"white\", \"startlinecolor\": \"#2a3f5f\"}, \"baxis\": {\"endlinecolor\": \"#2a3f5f\", \"gridcolor\": \"white\", \"linecolor\": \"white\", \"minorgridcolor\": \"white\", \"startlinecolor\": \"#2a3f5f\"}, \"type\": \"carpet\"}], \"choropleth\": [{\"colorbar\": {\"outlinewidth\": 0, \"ticks\": \"\"}, \"type\": \"choropleth\"}], \"contour\": [{\"colorbar\": {\"outlinewidth\": 0, \"ticks\": \"\"}, \"colorscale\": [[0.0, \"#0d0887\"], [0.1111111111111111, \"#46039f\"], [0.2222222222222222, \"#7201a8\"], [0.3333333333333333, \"#9c179e\"], [0.4444444444444444, \"#bd3786\"], [0.5555555555555556, \"#d8576b\"], [0.6666666666666666, \"#ed7953\"], [0.7777777777777778, \"#fb9f3a\"], [0.8888888888888888, \"#fdca26\"], [1.0, \"#f0f921\"]], \"type\": \"contour\"}], \"contourcarpet\": [{\"colorbar\": {\"outlinewidth\": 0, \"ticks\": \"\"}, \"type\": \"contourcarpet\"}], \"heatmap\": [{\"colorbar\": {\"outlinewidth\": 0, \"ticks\": \"\"}, \"colorscale\": [[0.0, \"#0d0887\"], [0.1111111111111111, \"#46039f\"], [0.2222222222222222, \"#7201a8\"], [0.3333333333333333, \"#9c179e\"], [0.4444444444444444, \"#bd3786\"], [0.5555555555555556, \"#d8576b\"], [0.6666666666666666, \"#ed7953\"], [0.7777777777777778, \"#fb9f3a\"], [0.8888888888888888, \"#fdca26\"], [1.0, \"#f0f921\"]], \"type\": \"heatmap\"}], \"heatmapgl\": [{\"colorbar\": {\"outlinewidth\": 0, \"ticks\": \"\"}, \"colorscale\": [[0.0, \"#0d0887\"], [0.1111111111111111, \"#46039f\"], [0.2222222222222222, \"#7201a8\"], [0.3333333333333333, \"#9c179e\"], [0.4444444444444444, \"#bd3786\"], [0.5555555555555556, \"#d8576b\"], [0.6666666666666666, \"#ed7953\"], [0.7777777777777778, \"#fb9f3a\"], [0.8888888888888888, \"#fdca26\"], [1.0, \"#f0f921\"]], \"type\": \"heatmapgl\"}], \"histogram\": [{\"marker\": {\"colorbar\": {\"outlinewidth\": 0, \"ticks\": \"\"}}, \"type\": \"histogram\"}], \"histogram2d\": [{\"colorbar\": {\"outlinewidth\": 0, \"ticks\": \"\"}, \"colorscale\": [[0.0, \"#0d0887\"], [0.1111111111111111, \"#46039f\"], [0.2222222222222222, \"#7201a8\"], [0.3333333333333333, \"#9c179e\"], [0.4444444444444444, \"#bd3786\"], [0.5555555555555556, \"#d8576b\"], [0.6666666666666666, \"#ed7953\"], [0.7777777777777778, \"#fb9f3a\"], [0.8888888888888888, \"#fdca26\"], [1.0, \"#f0f921\"]], \"type\": \"histogram2d\"}], \"histogram2dcontour\": [{\"colorbar\": {\"outlinewidth\": 0, \"ticks\": \"\"}, \"colorscale\": [[0.0, \"#0d0887\"], [0.1111111111111111, \"#46039f\"], [0.2222222222222222, \"#7201a8\"], [0.3333333333333333, \"#9c179e\"], [0.4444444444444444, \"#bd3786\"], [0.5555555555555556, \"#d8576b\"], [0.6666666666666666, \"#ed7953\"], [0.7777777777777778, \"#fb9f3a\"], [0.8888888888888888, \"#fdca26\"], [1.0, \"#f0f921\"]], \"type\": \"histogram2dcontour\"}], \"mesh3d\": [{\"colorbar\": {\"outlinewidth\": 0, \"ticks\": \"\"}, \"type\": \"mesh3d\"}], \"parcoords\": [{\"line\": {\"colorbar\": {\"outlinewidth\": 0, \"ticks\": \"\"}}, \"type\": \"parcoords\"}], \"scatter\": [{\"marker\": {\"colorbar\": {\"outlinewidth\": 0, \"ticks\": \"\"}}, \"type\": \"scatter\"}], \"scatter3d\": [{\"line\": {\"colorbar\": {\"outlinewidth\": 0, \"ticks\": \"\"}}, \"marker\": {\"colorbar\": {\"outlinewidth\": 0, \"ticks\": \"\"}}, \"type\": \"scatter3d\"}], \"scattercarpet\": [{\"marker\": {\"colorbar\": {\"outlinewidth\": 0, \"ticks\": \"\"}}, \"type\": \"scattercarpet\"}], \"scattergeo\": [{\"marker\": {\"colorbar\": {\"outlinewidth\": 0, \"ticks\": \"\"}}, \"type\": \"scattergeo\"}], \"scattergl\": [{\"marker\": {\"colorbar\": {\"outlinewidth\": 0, \"ticks\": \"\"}}, \"type\": \"scattergl\"}], \"scattermapbox\": [{\"marker\": {\"colorbar\": {\"outlinewidth\": 0, \"ticks\": \"\"}}, \"type\": \"scattermapbox\"}], \"scatterpolar\": [{\"marker\": {\"colorbar\": {\"outlinewidth\": 0, \"ticks\": \"\"}}, \"type\": \"scatterpolar\"}], \"scatterpolargl\": [{\"marker\": {\"colorbar\": {\"outlinewidth\": 0, \"ticks\": \"\"}}, \"type\": \"scatterpolargl\"}], \"scatterternary\": [{\"marker\": {\"colorbar\": {\"outlinewidth\": 0, \"ticks\": \"\"}}, \"type\": \"scatterternary\"}], \"surface\": [{\"colorbar\": {\"outlinewidth\": 0, \"ticks\": \"\"}, \"colorscale\": [[0.0, \"#0d0887\"], [0.1111111111111111, \"#46039f\"], [0.2222222222222222, \"#7201a8\"], [0.3333333333333333, \"#9c179e\"], [0.4444444444444444, \"#bd3786\"], [0.5555555555555556, \"#d8576b\"], [0.6666666666666666, \"#ed7953\"], [0.7777777777777778, \"#fb9f3a\"], [0.8888888888888888, \"#fdca26\"], [1.0, \"#f0f921\"]], \"type\": \"surface\"}], \"table\": [{\"cells\": {\"fill\": {\"color\": \"#EBF0F8\"}, \"line\": {\"color\": \"white\"}}, \"header\": {\"fill\": {\"color\": \"#C8D4E3\"}, \"line\": {\"color\": \"white\"}}, \"type\": \"table\"}]}, \"layout\": {\"annotationdefaults\": {\"arrowcolor\": \"#2a3f5f\", \"arrowhead\": 0, \"arrowwidth\": 1}, \"colorscale\": {\"diverging\": [[0, \"#8e0152\"], [0.1, \"#c51b7d\"], [0.2, \"#de77ae\"], [0.3, \"#f1b6da\"], [0.4, \"#fde0ef\"], [0.5, \"#f7f7f7\"], [0.6, \"#e6f5d0\"], [0.7, \"#b8e186\"], [0.8, \"#7fbc41\"], [0.9, \"#4d9221\"], [1, \"#276419\"]], \"sequential\": [[0.0, \"#0d0887\"], [0.1111111111111111, \"#46039f\"], [0.2222222222222222, \"#7201a8\"], [0.3333333333333333, \"#9c179e\"], [0.4444444444444444, \"#bd3786\"], [0.5555555555555556, \"#d8576b\"], [0.6666666666666666, \"#ed7953\"], [0.7777777777777778, \"#fb9f3a\"], [0.8888888888888888, \"#fdca26\"], [1.0, \"#f0f921\"]], \"sequentialminus\": [[0.0, \"#0d0887\"], [0.1111111111111111, \"#46039f\"], [0.2222222222222222, \"#7201a8\"], [0.3333333333333333, \"#9c179e\"], [0.4444444444444444, \"#bd3786\"], [0.5555555555555556, \"#d8576b\"], [0.6666666666666666, \"#ed7953\"], [0.7777777777777778, \"#fb9f3a\"], [0.8888888888888888, \"#fdca26\"], [1.0, \"#f0f921\"]]}, \"colorway\": [\"#636efa\", \"#EF553B\", \"#00cc96\", \"#ab63fa\", \"#FFA15A\", \"#19d3f3\", \"#FF6692\", \"#B6E880\", \"#FF97FF\", \"#FECB52\"], \"font\": {\"color\": \"#2a3f5f\"}, \"geo\": {\"bgcolor\": \"white\", \"lakecolor\": \"white\", \"landcolor\": \"#E5ECF6\", \"showlakes\": true, \"showland\": true, \"subunitcolor\": \"white\"}, \"hoverlabel\": {\"align\": \"left\"}, \"hovermode\": \"closest\", \"mapbox\": {\"style\": \"light\"}, \"paper_bgcolor\": \"white\", \"plot_bgcolor\": \"#E5ECF6\", \"polar\": {\"angularaxis\": {\"gridcolor\": \"white\", \"linecolor\": \"white\", \"ticks\": \"\"}, \"bgcolor\": \"#E5ECF6\", \"radialaxis\": {\"gridcolor\": \"white\", \"linecolor\": \"white\", \"ticks\": \"\"}}, \"scene\": {\"xaxis\": {\"backgroundcolor\": \"#E5ECF6\", \"gridcolor\": \"white\", \"gridwidth\": 2, \"linecolor\": \"white\", \"showbackground\": true, \"ticks\": \"\", \"zerolinecolor\": \"white\"}, \"yaxis\": {\"backgroundcolor\": \"#E5ECF6\", \"gridcolor\": \"white\", \"gridwidth\": 2, \"linecolor\": \"white\", \"showbackground\": true, \"ticks\": \"\", \"zerolinecolor\": \"white\"}, \"zaxis\": {\"backgroundcolor\": \"#E5ECF6\", \"gridcolor\": \"white\", \"gridwidth\": 2, \"linecolor\": \"white\", \"showbackground\": true, \"ticks\": \"\", \"zerolinecolor\": \"white\"}}, \"shapedefaults\": {\"line\": {\"color\": \"#2a3f5f\"}}, \"ternary\": {\"aaxis\": {\"gridcolor\": \"white\", \"linecolor\": \"white\", \"ticks\": \"\"}, \"baxis\": {\"gridcolor\": \"white\", \"linecolor\": \"white\", \"ticks\": \"\"}, \"bgcolor\": \"#E5ECF6\", \"caxis\": {\"gridcolor\": \"white\", \"linecolor\": \"white\", \"ticks\": \"\"}}, \"title\": {\"x\": 0.05}, \"xaxis\": {\"automargin\": true, \"gridcolor\": \"white\", \"linecolor\": \"white\", \"ticks\": \"\", \"zerolinecolor\": \"white\", \"zerolinewidth\": 2}, \"yaxis\": {\"automargin\": true, \"gridcolor\": \"white\", \"linecolor\": \"white\", \"ticks\": \"\", \"zerolinecolor\": \"white\", \"zerolinewidth\": 2}}}},\n",
       "                        {\"responsive\": true}\n",
       "                    ).then(function(){\n",
       "                            \n",
       "var gd = document.getElementById('660316ec-e154-4581-a2c0-9fcc8afff42a');\n",
       "var x = new MutationObserver(function (mutations, observer) {{\n",
       "        var display = window.getComputedStyle(gd).display;\n",
       "        if (!display || display === 'none') {{\n",
       "            console.log([gd, 'removed!']);\n",
       "            Plotly.purge(gd);\n",
       "            observer.disconnect();\n",
       "        }}\n",
       "}});\n",
       "\n",
       "// Listen for the removal of the full notebook cells\n",
       "var notebookContainer = gd.closest('#notebook-container');\n",
       "if (notebookContainer) {{\n",
       "    x.observe(notebookContainer, {childList: true});\n",
       "}}\n",
       "\n",
       "// Listen for the clearing of the current output cell\n",
       "var outputEl = gd.closest('.output');\n",
       "if (outputEl) {{\n",
       "    x.observe(outputEl, {childList: true});\n",
       "}}\n",
       "\n",
       "                        })\n",
       "                };\n",
       "                });\n",
       "            </script>\n",
       "        </div>"
      ]
     },
     "metadata": {},
     "output_type": "display_data"
    }
   ],
   "source": [
    "fig = go.Figure()\n",
    "# Use x instead of y argument for horizontal plot\n",
    "fig.add_trace(go.Box(x=df2017.HappinessScore, name='2017'))\n",
    "fig.add_trace(go.Box(x=df2016.HappinessScore, name='2016'))\n",
    "fig.add_trace(go.Box(x=df2015.HappinessScore, name='2015'))\n",
    "\n",
    "fig.show()"
   ]
  },
  {
   "cell_type": "markdown",
   "metadata": {},
   "source": [
    "# Plotly - 3D Scatter Plot ( Interactive )\n",
    "* X = Economy GDP per Capita\n",
    "* Y = Health Life Expectancy\n",
    "* Z = Family"
   ]
  },
  {
   "cell_type": "code",
   "execution_count": 15,
   "metadata": {},
   "outputs": [
    {
     "data": {
      "application/vnd.plotly.v1+json": {
       "config": {
        "linkText": "Export to plot.ly",
        "plotlyServerURL": "https://plot.ly",
        "showLink": false
       },
       "data": [
        {
         "marker": {
          "color": "rgb(217, 100, 100)",
          "line": {
           "color": "rgb(255, 255, 255)",
           "width": 0.1
          },
          "size": 12
         },
         "mode": "markers",
         "name": "2017",
         "type": "scatter3d",
         "x": [
          1.6164631843566901,
          1.48238301277161,
          1.480633020401,
          1.5649795532226598,
          1.44357192516327,
          1.50394463539124,
          1.47920441627502,
          1.40570604801178,
          1.49438726902008,
          1.4844149351120002,
          1.3753824234008798,
          1.10970628261566,
          1.4870972633361799,
          1.54625928401947,
          1.5357066392898602,
          1.48792338371277,
          1.4637807607650801,
          1.74194359779358,
          1.44163393974304,
          1.25278460979462,
          1.6263433694839498,
          1.1073532104492199,
          1.35268235206604,
          1.18529546260834,
          1.1531838178634601,
          1.69227766990662,
          1.34327983856201,
          1.2175596952438401,
          0.872001945972443,
          1.23374843597412,
          1.43092346191406,
          1.12786877155304,
          1.4336265325546298,
          1.38439786434174,
          1.8707656860351598,
          1.07062232494354,
          1.53062355518341,
          1.36135590076447,
          1.63295245170593,
          1.32539355754852,
          1.4884122610092199,
          1.29121541976929,
          0.737299203872681,
          1.00082039833069,
          0.9097844958305359,
          1.29178786277771,
          0.786441087722778,
          1.3950666189193701,
          1.28177809715271,
          0.907975316047668,
          1.41691517829895,
          1.3145823478698702,
          1.09186446666718,
          1.26074862480164,
          1.40167844295502,
          0.7288706302642819,
          1.21768391132355,
          0.833756566047668,
          1.1307767629623402,
          1.2845562696456898,
          1.3469113111496,
          1.3412059545516999,
          1.0352252721786501,
          1.1893955469131499,
          1.3559380769729599,
          1.3208793401718102,
          1.15655755996704,
          1.1018030643463101,
          1.1982743740081798,
          0.932537317276001,
          1.55167484283447,
          0.85769921541214,
          1.06931757926941,
          0.9910123944282528,
          1.2860119342803997,
          0.925579309463501,
          1.22255623340607,
          0.951484382152557,
          1.08116579055786,
          0.7268835306167599,
          0.995538592338562,
          1.12843120098114,
          1.12112903594971,
          0.8781145811080929,
          1.1536017656326298,
          1.07937383651733,
          1.28948748111725,
          1.07498753070831,
          1.3151752948761002,
          0.982409417629242,
          0.730573117733002,
          1.06457793712616,
          0.0226431842893362,
          0.7885475754737851,
          0.783756256103516,
          0.524713635444641,
          0.885416388511658,
          0.5962200760841371,
          0.479820191860199,
          1.0272358655929599,
          1.05469870567322,
          1.00726580619812,
          0.716249227523804,
          0.989701807498932,
          1.1614590883255,
          0.36842092871666,
          0.564305365085602,
          1.15687310695648,
          0.996192753314972,
          0.586682975292206,
          0.964434325695038,
          0.560479462146759,
          0.23430564999580397,
          0.36711055040359497,
          0.479309022426605,
          0.6364067792892459,
          1.1027104854583702,
          1.1982102394104,
          0.339233845472336,
          1.00985014438629,
          0.900596737861633,
          0.7922212481498722,
          0.6484572887420649,
          0.8089642524719242,
          0.950612664222717,
          0.0921023488044739,
          0.476180493831635,
          0.6030489206314089,
          0.6017650961875921,
          0.6595166921615601,
          0.667224824428558,
          0.89465194940567,
          0.381430715322495,
          0.35022771358490007,
          0.16192533075809498,
          0.233442038297653,
          0.43801298737525896,
          0.37584653496742204,
          0.521021246910095,
          0.8584281802177429,
          0.401477217674255,
          1.12209415435791,
          0.43108540773391707,
          0.305808693170547,
          0.368610262870789,
          0.5916834473609921,
          0.39724862575531,
          0.11904179304838199,
          0.24454993009567302,
          0.30544471740722695,
          0.368745893239975,
          0.777153134346008,
          0.511135876178741,
          0.09162256866693501,
          0.0
         ],
         "y": [
          0.796666502952576,
          0.7925655245780941,
          0.8335521221160892,
          0.858131289482117,
          0.80915766954422,
          0.8106961250305179,
          0.83455765247345,
          0.816759705543518,
          0.830875158309937,
          0.84388679265976,
          0.83840399980545,
          0.7595092654228209,
          0.8153284192085269,
          0.7742866277694699,
          0.8097826242446899,
          0.798950731754303,
          0.8180918693542479,
          0.845089495182037,
          0.805335938930511,
          0.8194797039031979,
          0.726798236370087,
          0.6165523529052729,
          0.754444003105164,
          0.695137083530426,
          0.709978997707367,
          0.9494923949241642,
          0.821944236755371,
          0.719216823577881,
          0.540239989757538,
          0.706156134605408,
          0.8444658517837521,
          0.647239029407501,
          0.793984234333038,
          0.888960599899292,
          0.7100980877876278,
          0.595027923583984,
          0.590148329734802,
          0.5199832916259771,
          0.6321057081222529,
          0.712732911109924,
          0.653133034706116,
          0.618784427642822,
          0.6530959606170649,
          0.685636222362518,
          0.596018552780151,
          0.699475347995758,
          0.498272627592087,
          0.8531443476676941,
          0.547349333763123,
          0.45019176602363603,
          0.9134758710861209,
          0.62894994020462,
          0.6175846457481379,
          0.638566970825195,
          0.900214076042175,
          0.5894652009010309,
          0.6851583123207089,
          0.47363024950027505,
          0.437726080417633,
          0.6060415506362921,
          0.834647238254547,
          0.7908282279968258,
          0.6301661133766171,
          0.6380074620246889,
          0.84471470117569,
          0.695168316364288,
          0.6377142667770389,
          0.520169019699097,
          0.6376056075096129,
          0.579250693321228,
          0.943062424659729,
          0.46800905466079706,
          0.65078467130661,
          0.6045900583267211,
          0.6877634525299069,
          0.6410223841667181,
          0.701288521289825,
          0.541452050209045,
          0.741415500640869,
          0.40204778313636796,
          0.49234572052955605,
          0.617144227027893,
          0.6674646735191351,
          0.59771066904068,
          0.5407757759094239,
          0.574873745441437,
          0.8101989030838009,
          0.7350810766220089,
          0.795843541622162,
          0.705186307430267,
          0.582569479942322,
          0.644948184490204,
          0.11398913711309401,
          0.6521689891815191,
          0.0569157302379608,
          0.5292351245880129,
          0.495879292488098,
          0.553457796573639,
          0.504130780696869,
          0.557783484458923,
          0.18708007037639604,
          0.613212049007416,
          0.565666973590851,
          0.520187258720398,
          0.708217680454254,
          0.005564753897488121,
          0.132892116904259,
          0.639333188533783,
          0.731159746646881,
          0.533241033554077,
          0.33861181139946,
          0.30998834967613204,
          0.10665443539619399,
          0.397522568702698,
          0.409362852573395,
          0.25783589482307395,
          0.501180469989777,
          0.35657858848571794,
          0.35340970754623396,
          0.625130832195282,
          0.637524425983429,
          0.455427616834641,
          0.285349279642105,
          0.28995743393898,
          0.649546980857849,
          0.191407024860382,
          0.16936567425727803,
          0.0486421696841717,
          0.429783403873444,
          0.290920823812485,
          0.29563772678375205,
          0.575903952121735,
          0.21763260662555703,
          0.21584425866603896,
          0.26850500702858,
          0.315089583396912,
          0.0411347150802612,
          0.19676375389099102,
          0.0,
          0.0498686656355858,
          0.18074677884578697,
          0.34175550937652605,
          0.20993021130561804,
          0.375223308801651,
          0.277321130037308,
          0.310080915689468,
          0.163486003875732,
          0.229918196797371,
          0.194129139184952,
          0.247105568647385,
          0.326424807310104,
          0.5005333423614501,
          0.364509284496307,
          0.151610791683197,
          0.0187726859003305
         ],
         "z": [
          1.53352355957031,
          1.55112159252167,
          1.6105740070343,
          1.51691174507141,
          1.5402467250824,
          1.42893922328949,
          1.48134899139404,
          1.54819512367249,
          1.47816216945648,
          1.5100419521331798,
          1.37628996372223,
          1.4164036512374898,
          1.4599449634552,
          1.4199205636978103,
          1.5582311153411899,
          1.47252035140991,
          1.4623126983642598,
          1.45758366584778,
          1.4964600801467902,
          1.28402495384216,
          1.2664102315902699,
          1.43130600452423,
          1.4338852167129499,
          1.44045114517212,
          1.2108621597290001,
          1.35381436347961,
          1.48841166496277,
          1.4122278690338101,
          1.25558519363403,
          1.3731925487518302,
          1.38777685165405,
          1.4257924556732198,
          1.38456535339355,
          1.53209090232849,
          1.27429687976837,
          1.4021829366683998,
          1.28667759895325,
          1.3802285194397,
          1.25969874858856,
          1.5050592422485398,
          1.3231104612350502,
          1.28464603424072,
          1.28721570968628,
          1.2861688137054401,
          1.1821250915527302,
          1.44571197032928,
          1.5489691495895401,
          1.44492328166962,
          1.46928238868713,
          1.0814177989959701,
          1.43633782863617,
          1.47351610660553,
          1.1462174654007,
          1.40471494197845,
          1.1282744407653797,
          1.25182557106018,
          1.15009129047394,
          1.2276190519332901,
          1.49314916133881,
          1.3843690156936599,
          1.18630337715149,
          1.4525188207626298,
          1.21877038478851,
          1.20956099033356,
          1.13136327266693,
          1.47667109966278,
          1.4449452161788898,
          1.3575643301010099,
          1.33775317668915,
          1.50728487968445,
          1.26279091835022,
          1.25391757488251,
          1.2581897974014298,
          1.2390888929367099,
          1.34313309192657,
          1.3682180643081698,
          0.9679830074310299,
          1.1378535032272301,
          1.16083741188049,
          0.6726906895637509,
          1.2744446992874099,
          1.43133759498596,
          1.23837649822235,
          0.774864435195923,
          1.15240025520325,
          1.4024167060852097,
          1.23941457271576,
          1.1296242475509601,
          1.36704301834106,
          1.0693359375,
          1.14394497871399,
          1.20789301395416,
          0.7211513519287109,
          1.27749133110046,
          1.21577048301697,
          1.27146327495575,
          1.3401265144348102,
          1.39423859119415,
          1.17928326129913,
          1.4930112361908001,
          1.38478863239288,
          0.8683514595031742,
          1.1556471586227401,
          0.997471392154694,
          1.4343794584274299,
          0.984136044979095,
          0.946018218994141,
          0.7115512490272521,
          0.8036852478981021,
          0.735131740570068,
          1.0984708070755,
          1.0679507255554201,
          0.870701014995575,
          1.12323594093323,
          1.17969191074371,
          1.00318729877472,
          0.978613197803497,
          1.1556202173233001,
          0.8646692037582401,
          1.25997638702393,
          1.00748372077942,
          0.754372596740723,
          1.2720308303833001,
          0.8320443630218509,
          0.57061493396759,
          1.22902345657349,
          1.2814733982086202,
          0.904780030250549,
          1.00623834133148,
          1.21400856971741,
          0.873664736747742,
          1.39453756809235,
          1.12982773780823,
          1.04328000545502,
          0.993025004863739,
          0.5125688314437871,
          0.953855872154236,
          1.08309590816498,
          1.19009518623352,
          1.1044119596481299,
          0.581543326377869,
          1.2215549945831299,
          0.43529984354972795,
          0.9130203723907471,
          0.640449821949005,
          0.93538224697113,
          0.601323127746582,
          0.8721179366111759,
          0.7912446856498722,
          0.4318825304508211,
          0.945707023143768,
          0.396102607250214,
          1.04198980331421,
          0.629793584346771,
          0.0
         ]
        },
        {
         "marker": {
          "color": "rgb(54, 170, 127)",
          "line": {
           "color": "rgb(204, 204, 204)",
           "width": 0.1
          },
          "size": 12
         },
         "mode": "markers",
         "name": "2016",
         "type": "scatter3d",
         "x": [
          1.4417799999999998,
          1.5273299999999999,
          1.42666,
          1.57744,
          1.40598,
          1.44015,
          1.46468,
          1.36066,
          1.4444299999999999,
          1.45181,
          1.33766,
          1.45038,
          1.50796,
          1.06879,
          1.35943,
          1.44787,
          1.08754,
          1.42539,
          1.4834100000000001,
          1.6975200000000001,
          1.1150799999999998,
          1.64555,
          1.40283,
          1.2167,
          1.18306,
          1.15137,
          1.30915,
          1.57352,
          1.18157,
          1.30782,
          1.0303200000000001,
          1.39488,
          1.0893,
          1.48953,
          1.39729,
          1.82427,
          1.34253,
          1.05266,
          0.83454,
          1.09686,
          1.61714,
          1.44024,
          1.32572,
          1.1336700000000002,
          1.27973,
          0.8737,
          1.25142,
          0.69384,
          0.7359100000000001,
          1.35495,
          0.97306,
          0.87616,
          1.3800700000000001,
          1.22943,
          0.69177,
          1.2322799999999998,
          1.24585,
          1.35948,
          0.79422,
          1.2692,
          1.1306200000000002,
          1.31141,
          1.2994700000000001,
          0.9960200000000001,
          1.08017,
          1.14372,
          1.0668799999999998,
          1.2178799999999999,
          1.31857,
          0.8937299999999999,
          1.1697,
          1.2796399999999999,
          0.89333,
          1.18649,
          1.5107,
          0.0,
          0.90145,
          1.1649200000000002,
          0.95104,
          0.9967299999999999,
          1.12373,
          0.81217,
          1.0278,
          0.8527,
          0.5604399999999999,
          1.03437,
          0.9338299999999999,
          1.07838,
          1.02787,
          0.8405799999999999,
          1.24142,
          0.68816,
          1.12268,
          1.27607,
          1.0193,
          0.74037,
          0.25558000000000003,
          0.97724,
          1.24886,
          0.48835,
          0.9885299999999999,
          0.68042,
          0.75216,
          0.69429,
          1.11758,
          0.61202,
          0.44626000000000005,
          0.67024,
          0.9553,
          0.54177,
          0.36485,
          1.07474,
          0.9328700000000001,
          0.5249699999999999,
          0.29283000000000003,
          1.02416,
          0.9731799999999999,
          0.74036,
          0.34112,
          0.95395,
          0.8608600000000001,
          0.52267,
          0.87287,
          0.63107,
          0.05661,
          0.8379200000000001,
          0.7710899999999999,
          0.44314,
          1.11306,
          0.6139100000000001,
          0.35041,
          0.08709,
          0.63069,
          1.15851,
          0.31292,
          0.34097,
          1.09426,
          0.27509,
          0.55507,
          0.55604,
          0.84731,
          0.1327,
          0.39394,
          0.42213999999999996,
          0.31995,
          0.34719,
          0.57939,
          0.27954,
          0.47155,
          0.10705999999999999,
          0.22415,
          0.32846,
          0.39499,
          0.38227,
          0.28123000000000004,
          0.7471899999999999,
          0.06831
         ],
         "y": [
          0.79504,
          0.86303,
          0.8673299999999999,
          0.79579,
          0.81091,
          0.8276,
          0.8123100000000001,
          0.83096,
          0.8512,
          0.83121,
          0.8491700000000001,
          0.80565,
          0.779,
          0.76146,
          0.77758,
          0.81487,
          0.61415,
          0.8195899999999999,
          0.81455,
          0.8454200000000001,
          0.71143,
          0.94719,
          0.80991,
          0.8188300000000001,
          0.70835,
          0.69711,
          0.76376,
          0.72993,
          0.72183,
          0.80315,
          0.59659,
          0.83795,
          0.64915,
          0.59267,
          0.79565,
          0.71723,
          0.8789600000000001,
          0.6180399999999999,
          0.5403899999999999,
          0.5093300000000001,
          0.63569,
          0.65696,
          0.52608,
          0.6190399999999999,
          0.70367,
          0.596,
          0.62366,
          0.65213,
          0.50163,
          0.8510200000000001,
          0.68613,
          0.45569,
          0.91491,
          0.57386,
          0.5230899999999999,
          0.58991,
          0.69058,
          0.88645,
          0.4697,
          0.64674,
          0.6310399999999999,
          0.8414200000000001,
          0.79151,
          0.6299399999999999,
          0.44006000000000006,
          0.66189,
          0.52304,
          0.63952,
          0.8488,
          0.58295,
          0.67602,
          0.68098,
          0.5946899999999999,
          0.70524,
          0.9527700000000001,
          0.11465999999999998,
          0.54,
          0.64718,
          0.49373999999999996,
          0.60712,
          0.54504,
          0.47036000000000006,
          0.73561,
          0.49759,
          0.5544899999999999,
          0.6458,
          0.7076600000000001,
          0.6353300000000001,
          0.5766899999999999,
          0.5947100000000001,
          0.67608,
          0.40306,
          0.76171,
          0.7936300000000001,
          0.6473800000000001,
          0.66157,
          0.33108000000000004,
          0.59577,
          0.80029,
          0.5311899999999999,
          0.55469,
          0.38291,
          0.05108,
          0.5838300000000001,
          0.64232,
          0.23573000000000002,
          0.50073,
          0.56844,
          0.73007,
          0.52989,
          0.0,
          0.51076,
          0.34745,
          0.12697999999999998,
          0.34578000000000003,
          0.18611,
          0.62007,
          0.45091000000000003,
          0.3988,
          0.5211600000000001,
          0.64083,
          0.30146999999999996,
          0.58628,
          0.29681,
          0.188,
          0.64035,
          0.28212,
          0.40457,
          0.67806,
          0.28639000000000003,
          0.1595,
          0.29364,
          0.29759,
          0.3494,
          0.16347,
          0.27494,
          0.34752,
          0.29980999999999997,
          0.04476,
          0.42494,
          0.04991,
          0.26161999999999996,
          0.15780999999999998,
          0.038239999999999996,
          0.21297,
          0.19625,
          0.31048000000000003,
          0.37109000000000003,
          0.35700000000000004,
          0.23165,
          0.18829,
          0.31865,
          0.21028000000000002,
          0.17344,
          0.24811,
          0.6299399999999999,
          0.15747
         ],
         "z": [
          1.16374,
          1.14524,
          1.18326,
          1.1269,
          1.1346399999999999,
          1.0961,
          1.02912,
          1.17278,
          1.10476,
          1.08764,
          0.9953700000000001,
          1.0838299999999998,
          1.04782,
          1.02152,
          1.08113,
          1.09774,
          1.03938,
          1.05249,
          1.16157,
          1.03999,
          0.7146,
          0.8675799999999999,
          1.0867200000000001,
          0.9058700000000001,
          0.9891200000000001,
          1.0661200000000002,
          1.00793,
          0.8711399999999999,
          1.0314299999999998,
          1.09879,
          1.02169,
          1.00508,
          1.04477,
          0.84829,
          0.92624,
          0.87964,
          1.12945,
          0.83309,
          0.8711899999999999,
          0.77866,
          0.8775799999999999,
          0.9439700000000001,
          0.98569,
          1.03302,
          1.0826799999999999,
          0.80975,
          0.88025,
          0.8952100000000001,
          1.1681,
          1.04167,
          0.85974,
          0.68655,
          1.06054,
          0.95544,
          0.8313200000000001,
          1.05261,
          1.04685,
          0.7219399999999999,
          0.8377899999999999,
          1.0641100000000001,
          1.04993,
          0.81826,
          1.05613,
          0.81255,
          1.03817,
          0.75695,
          0.95076,
          0.95025,
          0.70697,
          1.11111,
          0.7280300000000001,
          1.0516299999999998,
          0.96372,
          0.6080899999999999,
          0.87021,
          0.33613000000000004,
          0.66062,
          0.8771700000000001,
          0.87625,
          0.86216,
          0.76042,
          0.87877,
          0.79381,
          0.9083600000000001,
          0.95434,
          0.81329,
          0.64367,
          0.74173,
          0.9949600000000001,
          0.38595,
          0.9316399999999999,
          0.26135,
          0.64184,
          0.9436700000000001,
          0.78236,
          0.7911699999999999,
          0.75862,
          0.43165,
          0.75473,
          0.75602,
          1.0898299999999999,
          0.5497,
          0.64498,
          0.7559600000000001,
          0.38856999999999997,
          0.6376,
          0.69699,
          0.71629,
          0.50163,
          0.24749000000000002,
          0.628,
          0.59205,
          0.70362,
          0.62542,
          0.37932,
          0.9605299999999999,
          0.84783,
          0.29247,
          0.69981,
          0.49813,
          0.6247699999999999,
          0.7624,
          1.01413,
          0.49353,
          0.80676,
          0.19249000000000002,
          0.47798999999999997,
          0.7741600000000001,
          0.92542,
          0.8414200000000001,
          0.71478,
          0.147,
          0.8192799999999999,
          0.72368,
          0.8633299999999999,
          0.29561,
          0.89186,
          0.60323,
          0.57576,
          0.5375,
          0.66366,
          0.6053,
          0.18519000000000002,
          0.63178,
          0.63054,
          0.90981,
          0.47493,
          0.46115,
          0.77623,
          0.50353,
          0.3109,
          0.6158600000000001,
          0.10419,
          0.11037000000000001,
          0.0,
          0.14866,
          0.23442
         ]
        },
        {
         "marker": {
          "color": "rgb(150, 170, 25)",
          "line": {
           "color": "rgb(204, 204, 204)",
           "width": 0.1
          },
          "size": 12
         },
         "mode": "markers",
         "name": "2015",
         "type": "scatter3d",
         "x": [
          1.3965100000000001,
          1.3023200000000001,
          1.32548,
          1.459,
          1.32629,
          1.29025,
          1.32944,
          1.33171,
          1.2501799999999998,
          1.33358,
          1.2285700000000002,
          0.95578,
          1.33723,
          1.02054,
          1.3945100000000001,
          0.98124,
          1.5639100000000001,
          1.33596,
          1.30782,
          1.42727,
          1.26637,
          1.36011,
          1.04424,
          1.52186,
          1.0635299999999999,
          1.32792,
          1.10715,
          1.69042,
          1.27778,
          1.05351,
          1.17898,
          1.06166,
          0.91861,
          0.9669,
          1.39541,
          1.23011,
          1.2074,
          1.29098,
          1.5542200000000002,
          0.99534,
          1.21183,
          0.76454,
          0.74553,
          0.63244,
          1.1689100000000001,
          1.27074,
          1.24461,
          0.8640200000000001,
          1.32376,
          1.25114,
          0.68133,
          0.59448,
          0.75985,
          1.1225399999999999,
          1.18498,
          1.14723,
          0.59325,
          0.9001899999999999,
          1.0319200000000002,
          1.12555,
          1.12486,
          1.08254,
          1.13145,
          1.13764,
          0.81038,
          1.2080600000000001,
          1.20813,
          0.93929,
          0.80148,
          0.95847,
          1.0076100000000001,
          1.38604,
          1.15174,
          0.8282700000000001,
          0.63216,
          1.06098,
          0.47428000000000003,
          0.65435,
          0.77042,
          1.02389,
          0.59543,
          0.9019799999999999,
          0.9743799999999999,
          0.89012,
          0.47038,
          1.04345,
          0.92053,
          1.15991,
          1.11312,
          0.70532,
          0.18847,
          0.7347899999999999,
          0.91851,
          0.08308,
          0.8786700000000001,
          0.8322299999999999,
          0.37545,
          0.8953700000000001,
          0.5906600000000001,
          0.82819,
          0.71206,
          1.15406,
          1.0256399999999999,
          1.12094,
          0.59532,
          0.39047,
          0.88113,
          0.59867,
          0.39753,
          1.0088,
          0.79907,
          0.98549,
          0.9204899999999999,
          0.5455800000000001,
          0.271,
          0.0712,
          0.64499,
          0.52107,
          0.26673,
          0.0,
          0.35996999999999996,
          0.19072999999999998,
          0.33024000000000003,
          0.45407,
          0.36471,
          0.44025,
          0.7682100000000001,
          0.99355,
          0.27108000000000004,
          0.7419,
          0.016040000000000002,
          0.83524,
          0.4225,
          1.01216,
          0.8818,
          0.5464899999999999,
          0.75778,
          0.26074,
          0.67866,
          0.23906,
          0.21101999999999999,
          0.36498,
          1.06024,
          0.0694,
          0.46038,
          0.2852,
          0.20824,
          0.0785,
          0.34193,
          0.17417,
          0.46534,
          0.25811999999999996,
          0.31982,
          0.22208000000000003,
          0.28665,
          0.6632,
          0.0153,
          0.20868
         ],
         "y": [
          0.9414299999999999,
          0.94784,
          0.87464,
          0.88521,
          0.9056299999999999,
          0.8891100000000001,
          0.89284,
          0.9108700000000001,
          0.9083700000000001,
          0.93156,
          0.9138700000000001,
          0.8602700000000001,
          0.8904200000000001,
          0.8144399999999999,
          0.86179,
          0.69702,
          0.91894,
          0.89533,
          0.8966700000000001,
          0.80925,
          0.90943,
          0.76276,
          0.7205199999999999,
          1.02525,
          0.79661,
          0.89186,
          0.85857,
          0.79733,
          0.9457899999999999,
          0.78723,
          0.84483,
          0.8116,
          0.69077,
          0.7385,
          0.72025,
          0.95562,
          0.88721,
          0.8753,
          0.72492,
          0.6082,
          0.61483,
          0.67737,
          0.64425,
          0.59772,
          0.7890199999999999,
          0.99111,
          0.9653799999999999,
          0.79075,
          0.74716,
          0.9544600000000001,
          0.5392,
          0.61826,
          0.66098,
          0.64368,
          0.8733700000000001,
          0.73128,
          0.7431399999999999,
          0.73017,
          0.7360800000000001,
          0.77903,
          0.7239399999999999,
          0.78805,
          0.7038,
          0.6692600000000001,
          0.6874100000000001,
          0.92356,
          0.92356,
          0.61766,
          0.63132,
          0.53886,
          0.7095,
          1.01328,
          0.77361,
          0.63793,
          0.7467600000000001,
          0.73172,
          0.65088,
          0.16007000000000002,
          0.57407,
          0.64045,
          0.51466,
          0.69639,
          0.72521,
          0.81658,
          0.29924,
          0.7689,
          0.74836,
          0.8751899999999999,
          0.72437,
          0.58114,
          0.43873,
          0.60954,
          0.73545,
          0.09131,
          0.81325,
          0.79081,
          0.07612000000000001,
          0.66825,
          0.54909,
          0.60268,
          0.07566,
          0.88213,
          0.83947,
          0.75905,
          0.6951,
          0.5737899999999999,
          0.73793,
          0.66015,
          0.60164,
          0.69805,
          0.6739,
          0.60237,
          0.27688,
          0.40131999999999995,
          0.33475,
          0.34201,
          0.5152899999999999,
          0.36878,
          0.38847,
          0.09806000000000001,
          0.5687399999999999,
          0.44055,
          0.0,
          0.35874,
          0.41435,
          0.36291,
          0.7299,
          0.047760000000000004,
          0.48246000000000006,
          0.72926,
          0.22562,
          0.70806,
          0.23401999999999998,
          0.76649,
          0.61712,
          0.40064,
          0.16683,
          0.20583,
          0.31051,
          0.36315,
          0.33860999999999997,
          0.4354,
          0.43372,
          0.29707,
          0.61114,
          0.38215,
          0.46721,
          0.06699,
          0.1501,
          0.24009,
          0.15185,
          0.27125,
          0.30335,
          0.42863999999999997,
          0.3191,
          0.7219300000000001,
          0.22396,
          0.28443
         ],
         "z": [
          1.34951,
          1.4022299999999999,
          1.36058,
          1.33095,
          1.32261,
          1.31826,
          1.28017,
          1.2890700000000002,
          1.3196700000000001,
          1.30923,
          1.22393,
          1.2378799999999999,
          1.29704,
          0.91451,
          1.24711,
          1.2328700000000001,
          1.21963,
          1.36948,
          1.28566,
          1.12575,
          1.28548,
          1.08182,
          1.25596,
          1.02,
          1.1985,
          1.2993700000000001,
          1.12447,
          1.0786,
          1.2603799999999998,
          1.24823,
          1.20643,
          1.2089,
          1.2401799999999998,
          1.26504,
          1.0839299999999998,
          1.31379,
          1.30203,
          1.07617,
          1.16594,
          0.972,
          1.18354,
          1.0250700000000001,
          1.04356,
          1.34043,
          1.26999,
          1.25712,
          0.9577399999999999,
          0.99903,
          1.21624,
          1.19777,
          0.97841,
          1.01528,
          1.30477,
          1.1224100000000001,
          1.27385,
          1.25745,
          1.14184,
          0.97459,
          1.23289,
          1.27948,
          1.07023,
          0.79624,
          1.1186200000000002,
          1.23617,
          1.1510200000000002,
          1.07008,
          0.89318,
          1.07772,
          0.81198,
          1.22668,
          0.98521,
          1.05818,
          1.22791,
          1.0870799999999998,
          0.9122600000000001,
          0.94632,
          1.15115,
          0.9043200000000001,
          1.10395,
          0.9379299999999999,
          0.41411000000000003,
          1.05392,
          0.9055700000000001,
          0.94675,
          0.91612,
          0.8858799999999999,
          1.0096399999999999,
          1.13935,
          1.09562,
          1.03516,
          0.95152,
          0.64095,
          1.00232,
          1.02626,
          0.8043399999999999,
          0.9191600000000001,
          1.04103,
          1.17202,
          0.73803,
          1.3006,
          1.07284,
          0.9293299999999999,
          0.80001,
          1.20215,
          0.9534799999999999,
          0.8556299999999999,
          0.60429,
          0.92558,
          0.43106000000000005,
          0.54447,
          1.20278,
          0.81889,
          1.18468,
          0.6795399999999999,
          1.0327600000000001,
          0.78968,
          0.38174,
          1.01404,
          0.74302,
          1.0012,
          0.86449,
          0.60406,
          0.9557100000000001,
          0.86908,
          0.99876,
          0.59207,
          0.7771100000000001,
          1.10464,
          0.70905,
          0.38561999999999996,
          0.41134,
          1.01905,
          0.8876700000000001,
          1.10614,
          0.747,
          0.68093,
          0.8604,
          1.03526,
          0.6629,
          0.79273,
          1.13299,
          0.97619,
          0.90528,
          0.77265,
          0.62736,
          1.00268,
          0.66801,
          0.0,
          0.76062,
          0.46475,
          0.77115,
          0.85188,
          0.30285,
          0.7737,
          0.35386,
          0.47489,
          0.41586999999999996,
          0.13995
         ]
        }
       ],
       "layout": {
        "margin": {
         "b": 0,
         "l": 0,
         "r": 0,
         "t": 0
        },
        "template": {
         "data": {
          "bar": [
           {
            "error_x": {
             "color": "#2a3f5f"
            },
            "error_y": {
             "color": "#2a3f5f"
            },
            "marker": {
             "line": {
              "color": "#E5ECF6",
              "width": 0.5
             }
            },
            "type": "bar"
           }
          ],
          "barpolar": [
           {
            "marker": {
             "line": {
              "color": "#E5ECF6",
              "width": 0.5
             }
            },
            "type": "barpolar"
           }
          ],
          "carpet": [
           {
            "aaxis": {
             "endlinecolor": "#2a3f5f",
             "gridcolor": "white",
             "linecolor": "white",
             "minorgridcolor": "white",
             "startlinecolor": "#2a3f5f"
            },
            "baxis": {
             "endlinecolor": "#2a3f5f",
             "gridcolor": "white",
             "linecolor": "white",
             "minorgridcolor": "white",
             "startlinecolor": "#2a3f5f"
            },
            "type": "carpet"
           }
          ],
          "choropleth": [
           {
            "colorbar": {
             "outlinewidth": 0,
             "ticks": ""
            },
            "type": "choropleth"
           }
          ],
          "contour": [
           {
            "colorbar": {
             "outlinewidth": 0,
             "ticks": ""
            },
            "colorscale": [
             [
              0.0,
              "#0d0887"
             ],
             [
              0.1111111111111111,
              "#46039f"
             ],
             [
              0.2222222222222222,
              "#7201a8"
             ],
             [
              0.3333333333333333,
              "#9c179e"
             ],
             [
              0.4444444444444444,
              "#bd3786"
             ],
             [
              0.5555555555555556,
              "#d8576b"
             ],
             [
              0.6666666666666666,
              "#ed7953"
             ],
             [
              0.7777777777777778,
              "#fb9f3a"
             ],
             [
              0.8888888888888888,
              "#fdca26"
             ],
             [
              1.0,
              "#f0f921"
             ]
            ],
            "type": "contour"
           }
          ],
          "contourcarpet": [
           {
            "colorbar": {
             "outlinewidth": 0,
             "ticks": ""
            },
            "type": "contourcarpet"
           }
          ],
          "heatmap": [
           {
            "colorbar": {
             "outlinewidth": 0,
             "ticks": ""
            },
            "colorscale": [
             [
              0.0,
              "#0d0887"
             ],
             [
              0.1111111111111111,
              "#46039f"
             ],
             [
              0.2222222222222222,
              "#7201a8"
             ],
             [
              0.3333333333333333,
              "#9c179e"
             ],
             [
              0.4444444444444444,
              "#bd3786"
             ],
             [
              0.5555555555555556,
              "#d8576b"
             ],
             [
              0.6666666666666666,
              "#ed7953"
             ],
             [
              0.7777777777777778,
              "#fb9f3a"
             ],
             [
              0.8888888888888888,
              "#fdca26"
             ],
             [
              1.0,
              "#f0f921"
             ]
            ],
            "type": "heatmap"
           }
          ],
          "heatmapgl": [
           {
            "colorbar": {
             "outlinewidth": 0,
             "ticks": ""
            },
            "colorscale": [
             [
              0.0,
              "#0d0887"
             ],
             [
              0.1111111111111111,
              "#46039f"
             ],
             [
              0.2222222222222222,
              "#7201a8"
             ],
             [
              0.3333333333333333,
              "#9c179e"
             ],
             [
              0.4444444444444444,
              "#bd3786"
             ],
             [
              0.5555555555555556,
              "#d8576b"
             ],
             [
              0.6666666666666666,
              "#ed7953"
             ],
             [
              0.7777777777777778,
              "#fb9f3a"
             ],
             [
              0.8888888888888888,
              "#fdca26"
             ],
             [
              1.0,
              "#f0f921"
             ]
            ],
            "type": "heatmapgl"
           }
          ],
          "histogram": [
           {
            "marker": {
             "colorbar": {
              "outlinewidth": 0,
              "ticks": ""
             }
            },
            "type": "histogram"
           }
          ],
          "histogram2d": [
           {
            "colorbar": {
             "outlinewidth": 0,
             "ticks": ""
            },
            "colorscale": [
             [
              0.0,
              "#0d0887"
             ],
             [
              0.1111111111111111,
              "#46039f"
             ],
             [
              0.2222222222222222,
              "#7201a8"
             ],
             [
              0.3333333333333333,
              "#9c179e"
             ],
             [
              0.4444444444444444,
              "#bd3786"
             ],
             [
              0.5555555555555556,
              "#d8576b"
             ],
             [
              0.6666666666666666,
              "#ed7953"
             ],
             [
              0.7777777777777778,
              "#fb9f3a"
             ],
             [
              0.8888888888888888,
              "#fdca26"
             ],
             [
              1.0,
              "#f0f921"
             ]
            ],
            "type": "histogram2d"
           }
          ],
          "histogram2dcontour": [
           {
            "colorbar": {
             "outlinewidth": 0,
             "ticks": ""
            },
            "colorscale": [
             [
              0.0,
              "#0d0887"
             ],
             [
              0.1111111111111111,
              "#46039f"
             ],
             [
              0.2222222222222222,
              "#7201a8"
             ],
             [
              0.3333333333333333,
              "#9c179e"
             ],
             [
              0.4444444444444444,
              "#bd3786"
             ],
             [
              0.5555555555555556,
              "#d8576b"
             ],
             [
              0.6666666666666666,
              "#ed7953"
             ],
             [
              0.7777777777777778,
              "#fb9f3a"
             ],
             [
              0.8888888888888888,
              "#fdca26"
             ],
             [
              1.0,
              "#f0f921"
             ]
            ],
            "type": "histogram2dcontour"
           }
          ],
          "mesh3d": [
           {
            "colorbar": {
             "outlinewidth": 0,
             "ticks": ""
            },
            "type": "mesh3d"
           }
          ],
          "parcoords": [
           {
            "line": {
             "colorbar": {
              "outlinewidth": 0,
              "ticks": ""
             }
            },
            "type": "parcoords"
           }
          ],
          "scatter": [
           {
            "marker": {
             "colorbar": {
              "outlinewidth": 0,
              "ticks": ""
             }
            },
            "type": "scatter"
           }
          ],
          "scatter3d": [
           {
            "line": {
             "colorbar": {
              "outlinewidth": 0,
              "ticks": ""
             }
            },
            "marker": {
             "colorbar": {
              "outlinewidth": 0,
              "ticks": ""
             }
            },
            "type": "scatter3d"
           }
          ],
          "scattercarpet": [
           {
            "marker": {
             "colorbar": {
              "outlinewidth": 0,
              "ticks": ""
             }
            },
            "type": "scattercarpet"
           }
          ],
          "scattergeo": [
           {
            "marker": {
             "colorbar": {
              "outlinewidth": 0,
              "ticks": ""
             }
            },
            "type": "scattergeo"
           }
          ],
          "scattergl": [
           {
            "marker": {
             "colorbar": {
              "outlinewidth": 0,
              "ticks": ""
             }
            },
            "type": "scattergl"
           }
          ],
          "scattermapbox": [
           {
            "marker": {
             "colorbar": {
              "outlinewidth": 0,
              "ticks": ""
             }
            },
            "type": "scattermapbox"
           }
          ],
          "scatterpolar": [
           {
            "marker": {
             "colorbar": {
              "outlinewidth": 0,
              "ticks": ""
             }
            },
            "type": "scatterpolar"
           }
          ],
          "scatterpolargl": [
           {
            "marker": {
             "colorbar": {
              "outlinewidth": 0,
              "ticks": ""
             }
            },
            "type": "scatterpolargl"
           }
          ],
          "scatterternary": [
           {
            "marker": {
             "colorbar": {
              "outlinewidth": 0,
              "ticks": ""
             }
            },
            "type": "scatterternary"
           }
          ],
          "surface": [
           {
            "colorbar": {
             "outlinewidth": 0,
             "ticks": ""
            },
            "colorscale": [
             [
              0.0,
              "#0d0887"
             ],
             [
              0.1111111111111111,
              "#46039f"
             ],
             [
              0.2222222222222222,
              "#7201a8"
             ],
             [
              0.3333333333333333,
              "#9c179e"
             ],
             [
              0.4444444444444444,
              "#bd3786"
             ],
             [
              0.5555555555555556,
              "#d8576b"
             ],
             [
              0.6666666666666666,
              "#ed7953"
             ],
             [
              0.7777777777777778,
              "#fb9f3a"
             ],
             [
              0.8888888888888888,
              "#fdca26"
             ],
             [
              1.0,
              "#f0f921"
             ]
            ],
            "type": "surface"
           }
          ],
          "table": [
           {
            "cells": {
             "fill": {
              "color": "#EBF0F8"
             },
             "line": {
              "color": "white"
             }
            },
            "header": {
             "fill": {
              "color": "#C8D4E3"
             },
             "line": {
              "color": "white"
             }
            },
            "type": "table"
           }
          ]
         },
         "layout": {
          "annotationdefaults": {
           "arrowcolor": "#2a3f5f",
           "arrowhead": 0,
           "arrowwidth": 1
          },
          "colorscale": {
           "diverging": [
            [
             0,
             "#8e0152"
            ],
            [
             0.1,
             "#c51b7d"
            ],
            [
             0.2,
             "#de77ae"
            ],
            [
             0.3,
             "#f1b6da"
            ],
            [
             0.4,
             "#fde0ef"
            ],
            [
             0.5,
             "#f7f7f7"
            ],
            [
             0.6,
             "#e6f5d0"
            ],
            [
             0.7,
             "#b8e186"
            ],
            [
             0.8,
             "#7fbc41"
            ],
            [
             0.9,
             "#4d9221"
            ],
            [
             1,
             "#276419"
            ]
           ],
           "sequential": [
            [
             0.0,
             "#0d0887"
            ],
            [
             0.1111111111111111,
             "#46039f"
            ],
            [
             0.2222222222222222,
             "#7201a8"
            ],
            [
             0.3333333333333333,
             "#9c179e"
            ],
            [
             0.4444444444444444,
             "#bd3786"
            ],
            [
             0.5555555555555556,
             "#d8576b"
            ],
            [
             0.6666666666666666,
             "#ed7953"
            ],
            [
             0.7777777777777778,
             "#fb9f3a"
            ],
            [
             0.8888888888888888,
             "#fdca26"
            ],
            [
             1.0,
             "#f0f921"
            ]
           ],
           "sequentialminus": [
            [
             0.0,
             "#0d0887"
            ],
            [
             0.1111111111111111,
             "#46039f"
            ],
            [
             0.2222222222222222,
             "#7201a8"
            ],
            [
             0.3333333333333333,
             "#9c179e"
            ],
            [
             0.4444444444444444,
             "#bd3786"
            ],
            [
             0.5555555555555556,
             "#d8576b"
            ],
            [
             0.6666666666666666,
             "#ed7953"
            ],
            [
             0.7777777777777778,
             "#fb9f3a"
            ],
            [
             0.8888888888888888,
             "#fdca26"
            ],
            [
             1.0,
             "#f0f921"
            ]
           ]
          },
          "colorway": [
           "#636efa",
           "#EF553B",
           "#00cc96",
           "#ab63fa",
           "#FFA15A",
           "#19d3f3",
           "#FF6692",
           "#B6E880",
           "#FF97FF",
           "#FECB52"
          ],
          "font": {
           "color": "#2a3f5f"
          },
          "geo": {
           "bgcolor": "white",
           "lakecolor": "white",
           "landcolor": "#E5ECF6",
           "showlakes": true,
           "showland": true,
           "subunitcolor": "white"
          },
          "hoverlabel": {
           "align": "left"
          },
          "hovermode": "closest",
          "mapbox": {
           "style": "light"
          },
          "paper_bgcolor": "white",
          "plot_bgcolor": "#E5ECF6",
          "polar": {
           "angularaxis": {
            "gridcolor": "white",
            "linecolor": "white",
            "ticks": ""
           },
           "bgcolor": "#E5ECF6",
           "radialaxis": {
            "gridcolor": "white",
            "linecolor": "white",
            "ticks": ""
           }
          },
          "scene": {
           "xaxis": {
            "backgroundcolor": "#E5ECF6",
            "gridcolor": "white",
            "gridwidth": 2,
            "linecolor": "white",
            "showbackground": true,
            "ticks": "",
            "zerolinecolor": "white"
           },
           "yaxis": {
            "backgroundcolor": "#E5ECF6",
            "gridcolor": "white",
            "gridwidth": 2,
            "linecolor": "white",
            "showbackground": true,
            "ticks": "",
            "zerolinecolor": "white"
           },
           "zaxis": {
            "backgroundcolor": "#E5ECF6",
            "gridcolor": "white",
            "gridwidth": 2,
            "linecolor": "white",
            "showbackground": true,
            "ticks": "",
            "zerolinecolor": "white"
           }
          },
          "shapedefaults": {
           "line": {
            "color": "#2a3f5f"
           }
          },
          "ternary": {
           "aaxis": {
            "gridcolor": "white",
            "linecolor": "white",
            "ticks": ""
           },
           "baxis": {
            "gridcolor": "white",
            "linecolor": "white",
            "ticks": ""
           },
           "bgcolor": "#E5ECF6",
           "caxis": {
            "gridcolor": "white",
            "linecolor": "white",
            "ticks": ""
           }
          },
          "title": {
           "x": 0.05
          },
          "xaxis": {
           "automargin": true,
           "gridcolor": "white",
           "linecolor": "white",
           "ticks": "",
           "zerolinecolor": "white",
           "zerolinewidth": 2
          },
          "yaxis": {
           "automargin": true,
           "gridcolor": "white",
           "linecolor": "white",
           "ticks": "",
           "zerolinecolor": "white",
           "zerolinewidth": 2
          }
         }
        },
        "title": {
         "text": "2015 , 2016 and 2017 values"
        }
       }
      },
      "text/html": [
       "<div>\n",
       "        \n",
       "        \n",
       "            <div id=\"8292ba57-b4bc-4727-8293-5002e550c1fb\" class=\"plotly-graph-div\" style=\"height:525px; width:100%;\"></div>\n",
       "            <script type=\"text/javascript\">\n",
       "                require([\"plotly\"], function(Plotly) {\n",
       "                    window.PLOTLYENV=window.PLOTLYENV || {};\n",
       "                    \n",
       "                if (document.getElementById(\"8292ba57-b4bc-4727-8293-5002e550c1fb\")) {\n",
       "                    Plotly.newPlot(\n",
       "                        '8292ba57-b4bc-4727-8293-5002e550c1fb',\n",
       "                        [{\"marker\": {\"color\": \"rgb(217, 100, 100)\", \"line\": {\"color\": \"rgb(255, 255, 255)\", \"width\": 0.1}, \"size\": 12}, \"mode\": \"markers\", \"name\": \"2017\", \"type\": \"scatter3d\", \"x\": [1.6164631843566901, 1.48238301277161, 1.480633020401, 1.5649795532226598, 1.44357192516327, 1.50394463539124, 1.47920441627502, 1.40570604801178, 1.49438726902008, 1.4844149351120002, 1.3753824234008798, 1.10970628261566, 1.4870972633361799, 1.54625928401947, 1.5357066392898602, 1.48792338371277, 1.4637807607650801, 1.74194359779358, 1.44163393974304, 1.25278460979462, 1.6263433694839498, 1.1073532104492199, 1.35268235206604, 1.18529546260834, 1.1531838178634601, 1.69227766990662, 1.34327983856201, 1.2175596952438401, 0.872001945972443, 1.23374843597412, 1.43092346191406, 1.12786877155304, 1.4336265325546298, 1.38439786434174, 1.8707656860351598, 1.07062232494354, 1.53062355518341, 1.36135590076447, 1.63295245170593, 1.32539355754852, 1.4884122610092199, 1.29121541976929, 0.737299203872681, 1.00082039833069, 0.9097844958305359, 1.29178786277771, 0.786441087722778, 1.3950666189193701, 1.28177809715271, 0.907975316047668, 1.41691517829895, 1.3145823478698702, 1.09186446666718, 1.26074862480164, 1.40167844295502, 0.7288706302642819, 1.21768391132355, 0.833756566047668, 1.1307767629623402, 1.2845562696456898, 1.3469113111496, 1.3412059545516999, 1.0352252721786501, 1.1893955469131499, 1.3559380769729599, 1.3208793401718102, 1.15655755996704, 1.1018030643463101, 1.1982743740081798, 0.932537317276001, 1.55167484283447, 0.85769921541214, 1.06931757926941, 0.9910123944282528, 1.2860119342803997, 0.925579309463501, 1.22255623340607, 0.951484382152557, 1.08116579055786, 0.7268835306167599, 0.995538592338562, 1.12843120098114, 1.12112903594971, 0.8781145811080929, 1.1536017656326298, 1.07937383651733, 1.28948748111725, 1.07498753070831, 1.3151752948761002, 0.982409417629242, 0.730573117733002, 1.06457793712616, 0.0226431842893362, 0.7885475754737851, 0.783756256103516, 0.524713635444641, 0.885416388511658, 0.5962200760841371, 0.479820191860199, 1.0272358655929599, 1.05469870567322, 1.00726580619812, 0.716249227523804, 0.989701807498932, 1.1614590883255, 0.36842092871666, 0.564305365085602, 1.15687310695648, 0.996192753314972, 0.586682975292206, 0.964434325695038, 0.560479462146759, 0.23430564999580397, 0.36711055040359497, 0.479309022426605, 0.6364067792892459, 1.1027104854583702, 1.1982102394104, 0.339233845472336, 1.00985014438629, 0.900596737861633, 0.7922212481498722, 0.6484572887420649, 0.8089642524719242, 0.950612664222717, 0.0921023488044739, 0.476180493831635, 0.6030489206314089, 0.6017650961875921, 0.6595166921615601, 0.667224824428558, 0.89465194940567, 0.381430715322495, 0.35022771358490007, 0.16192533075809498, 0.233442038297653, 0.43801298737525896, 0.37584653496742204, 0.521021246910095, 0.8584281802177429, 0.401477217674255, 1.12209415435791, 0.43108540773391707, 0.305808693170547, 0.368610262870789, 0.5916834473609921, 0.39724862575531, 0.11904179304838199, 0.24454993009567302, 0.30544471740722695, 0.368745893239975, 0.777153134346008, 0.511135876178741, 0.09162256866693501, 0.0], \"y\": [0.796666502952576, 0.7925655245780941, 0.8335521221160892, 0.858131289482117, 0.80915766954422, 0.8106961250305179, 0.83455765247345, 0.816759705543518, 0.830875158309937, 0.84388679265976, 0.83840399980545, 0.7595092654228209, 0.8153284192085269, 0.7742866277694699, 0.8097826242446899, 0.798950731754303, 0.8180918693542479, 0.845089495182037, 0.805335938930511, 0.8194797039031979, 0.726798236370087, 0.6165523529052729, 0.754444003105164, 0.695137083530426, 0.709978997707367, 0.9494923949241642, 0.821944236755371, 0.719216823577881, 0.540239989757538, 0.706156134605408, 0.8444658517837521, 0.647239029407501, 0.793984234333038, 0.888960599899292, 0.7100980877876278, 0.595027923583984, 0.590148329734802, 0.5199832916259771, 0.6321057081222529, 0.712732911109924, 0.653133034706116, 0.618784427642822, 0.6530959606170649, 0.685636222362518, 0.596018552780151, 0.699475347995758, 0.498272627592087, 0.8531443476676941, 0.547349333763123, 0.45019176602363603, 0.9134758710861209, 0.62894994020462, 0.6175846457481379, 0.638566970825195, 0.900214076042175, 0.5894652009010309, 0.6851583123207089, 0.47363024950027505, 0.437726080417633, 0.6060415506362921, 0.834647238254547, 0.7908282279968258, 0.6301661133766171, 0.6380074620246889, 0.84471470117569, 0.695168316364288, 0.6377142667770389, 0.520169019699097, 0.6376056075096129, 0.579250693321228, 0.943062424659729, 0.46800905466079706, 0.65078467130661, 0.6045900583267211, 0.6877634525299069, 0.6410223841667181, 0.701288521289825, 0.541452050209045, 0.741415500640869, 0.40204778313636796, 0.49234572052955605, 0.617144227027893, 0.6674646735191351, 0.59771066904068, 0.5407757759094239, 0.574873745441437, 0.8101989030838009, 0.7350810766220089, 0.795843541622162, 0.705186307430267, 0.582569479942322, 0.644948184490204, 0.11398913711309401, 0.6521689891815191, 0.0569157302379608, 0.5292351245880129, 0.495879292488098, 0.553457796573639, 0.504130780696869, 0.557783484458923, 0.18708007037639604, 0.613212049007416, 0.565666973590851, 0.520187258720398, 0.708217680454254, 0.005564753897488121, 0.132892116904259, 0.639333188533783, 0.731159746646881, 0.533241033554077, 0.33861181139946, 0.30998834967613204, 0.10665443539619399, 0.397522568702698, 0.409362852573395, 0.25783589482307395, 0.501180469989777, 0.35657858848571794, 0.35340970754623396, 0.625130832195282, 0.637524425983429, 0.455427616834641, 0.285349279642105, 0.28995743393898, 0.649546980857849, 0.191407024860382, 0.16936567425727803, 0.0486421696841717, 0.429783403873444, 0.290920823812485, 0.29563772678375205, 0.575903952121735, 0.21763260662555703, 0.21584425866603896, 0.26850500702858, 0.315089583396912, 0.0411347150802612, 0.19676375389099102, 0.0, 0.0498686656355858, 0.18074677884578697, 0.34175550937652605, 0.20993021130561804, 0.375223308801651, 0.277321130037308, 0.310080915689468, 0.163486003875732, 0.229918196797371, 0.194129139184952, 0.247105568647385, 0.326424807310104, 0.5005333423614501, 0.364509284496307, 0.151610791683197, 0.0187726859003305], \"z\": [1.53352355957031, 1.55112159252167, 1.6105740070343, 1.51691174507141, 1.5402467250824, 1.42893922328949, 1.48134899139404, 1.54819512367249, 1.47816216945648, 1.5100419521331798, 1.37628996372223, 1.4164036512374898, 1.4599449634552, 1.4199205636978103, 1.5582311153411899, 1.47252035140991, 1.4623126983642598, 1.45758366584778, 1.4964600801467902, 1.28402495384216, 1.2664102315902699, 1.43130600452423, 1.4338852167129499, 1.44045114517212, 1.2108621597290001, 1.35381436347961, 1.48841166496277, 1.4122278690338101, 1.25558519363403, 1.3731925487518302, 1.38777685165405, 1.4257924556732198, 1.38456535339355, 1.53209090232849, 1.27429687976837, 1.4021829366683998, 1.28667759895325, 1.3802285194397, 1.25969874858856, 1.5050592422485398, 1.3231104612350502, 1.28464603424072, 1.28721570968628, 1.2861688137054401, 1.1821250915527302, 1.44571197032928, 1.5489691495895401, 1.44492328166962, 1.46928238868713, 1.0814177989959701, 1.43633782863617, 1.47351610660553, 1.1462174654007, 1.40471494197845, 1.1282744407653797, 1.25182557106018, 1.15009129047394, 1.2276190519332901, 1.49314916133881, 1.3843690156936599, 1.18630337715149, 1.4525188207626298, 1.21877038478851, 1.20956099033356, 1.13136327266693, 1.47667109966278, 1.4449452161788898, 1.3575643301010099, 1.33775317668915, 1.50728487968445, 1.26279091835022, 1.25391757488251, 1.2581897974014298, 1.2390888929367099, 1.34313309192657, 1.3682180643081698, 0.9679830074310299, 1.1378535032272301, 1.16083741188049, 0.6726906895637509, 1.2744446992874099, 1.43133759498596, 1.23837649822235, 0.774864435195923, 1.15240025520325, 1.4024167060852097, 1.23941457271576, 1.1296242475509601, 1.36704301834106, 1.0693359375, 1.14394497871399, 1.20789301395416, 0.7211513519287109, 1.27749133110046, 1.21577048301697, 1.27146327495575, 1.3401265144348102, 1.39423859119415, 1.17928326129913, 1.4930112361908001, 1.38478863239288, 0.8683514595031742, 1.1556471586227401, 0.997471392154694, 1.4343794584274299, 0.984136044979095, 0.946018218994141, 0.7115512490272521, 0.8036852478981021, 0.735131740570068, 1.0984708070755, 1.0679507255554201, 0.870701014995575, 1.12323594093323, 1.17969191074371, 1.00318729877472, 0.978613197803497, 1.1556202173233001, 0.8646692037582401, 1.25997638702393, 1.00748372077942, 0.754372596740723, 1.2720308303833001, 0.8320443630218509, 0.57061493396759, 1.22902345657349, 1.2814733982086202, 0.904780030250549, 1.00623834133148, 1.21400856971741, 0.873664736747742, 1.39453756809235, 1.12982773780823, 1.04328000545502, 0.993025004863739, 0.5125688314437871, 0.953855872154236, 1.08309590816498, 1.19009518623352, 1.1044119596481299, 0.581543326377869, 1.2215549945831299, 0.43529984354972795, 0.9130203723907471, 0.640449821949005, 0.93538224697113, 0.601323127746582, 0.8721179366111759, 0.7912446856498722, 0.4318825304508211, 0.945707023143768, 0.396102607250214, 1.04198980331421, 0.629793584346771, 0.0]}, {\"marker\": {\"color\": \"rgb(54, 170, 127)\", \"line\": {\"color\": \"rgb(204, 204, 204)\", \"width\": 0.1}, \"size\": 12}, \"mode\": \"markers\", \"name\": \"2016\", \"type\": \"scatter3d\", \"x\": [1.4417799999999998, 1.5273299999999999, 1.42666, 1.57744, 1.40598, 1.44015, 1.46468, 1.36066, 1.4444299999999999, 1.45181, 1.33766, 1.45038, 1.50796, 1.06879, 1.35943, 1.44787, 1.08754, 1.42539, 1.4834100000000001, 1.6975200000000001, 1.1150799999999998, 1.64555, 1.40283, 1.2167, 1.18306, 1.15137, 1.30915, 1.57352, 1.18157, 1.30782, 1.0303200000000001, 1.39488, 1.0893, 1.48953, 1.39729, 1.82427, 1.34253, 1.05266, 0.83454, 1.09686, 1.61714, 1.44024, 1.32572, 1.1336700000000002, 1.27973, 0.8737, 1.25142, 0.69384, 0.7359100000000001, 1.35495, 0.97306, 0.87616, 1.3800700000000001, 1.22943, 0.69177, 1.2322799999999998, 1.24585, 1.35948, 0.79422, 1.2692, 1.1306200000000002, 1.31141, 1.2994700000000001, 0.9960200000000001, 1.08017, 1.14372, 1.0668799999999998, 1.2178799999999999, 1.31857, 0.8937299999999999, 1.1697, 1.2796399999999999, 0.89333, 1.18649, 1.5107, 0.0, 0.90145, 1.1649200000000002, 0.95104, 0.9967299999999999, 1.12373, 0.81217, 1.0278, 0.8527, 0.5604399999999999, 1.03437, 0.9338299999999999, 1.07838, 1.02787, 0.8405799999999999, 1.24142, 0.68816, 1.12268, 1.27607, 1.0193, 0.74037, 0.25558000000000003, 0.97724, 1.24886, 0.48835, 0.9885299999999999, 0.68042, 0.75216, 0.69429, 1.11758, 0.61202, 0.44626000000000005, 0.67024, 0.9553, 0.54177, 0.36485, 1.07474, 0.9328700000000001, 0.5249699999999999, 0.29283000000000003, 1.02416, 0.9731799999999999, 0.74036, 0.34112, 0.95395, 0.8608600000000001, 0.52267, 0.87287, 0.63107, 0.05661, 0.8379200000000001, 0.7710899999999999, 0.44314, 1.11306, 0.6139100000000001, 0.35041, 0.08709, 0.63069, 1.15851, 0.31292, 0.34097, 1.09426, 0.27509, 0.55507, 0.55604, 0.84731, 0.1327, 0.39394, 0.42213999999999996, 0.31995, 0.34719, 0.57939, 0.27954, 0.47155, 0.10705999999999999, 0.22415, 0.32846, 0.39499, 0.38227, 0.28123000000000004, 0.7471899999999999, 0.06831], \"y\": [0.79504, 0.86303, 0.8673299999999999, 0.79579, 0.81091, 0.8276, 0.8123100000000001, 0.83096, 0.8512, 0.83121, 0.8491700000000001, 0.80565, 0.779, 0.76146, 0.77758, 0.81487, 0.61415, 0.8195899999999999, 0.81455, 0.8454200000000001, 0.71143, 0.94719, 0.80991, 0.8188300000000001, 0.70835, 0.69711, 0.76376, 0.72993, 0.72183, 0.80315, 0.59659, 0.83795, 0.64915, 0.59267, 0.79565, 0.71723, 0.8789600000000001, 0.6180399999999999, 0.5403899999999999, 0.5093300000000001, 0.63569, 0.65696, 0.52608, 0.6190399999999999, 0.70367, 0.596, 0.62366, 0.65213, 0.50163, 0.8510200000000001, 0.68613, 0.45569, 0.91491, 0.57386, 0.5230899999999999, 0.58991, 0.69058, 0.88645, 0.4697, 0.64674, 0.6310399999999999, 0.8414200000000001, 0.79151, 0.6299399999999999, 0.44006000000000006, 0.66189, 0.52304, 0.63952, 0.8488, 0.58295, 0.67602, 0.68098, 0.5946899999999999, 0.70524, 0.9527700000000001, 0.11465999999999998, 0.54, 0.64718, 0.49373999999999996, 0.60712, 0.54504, 0.47036000000000006, 0.73561, 0.49759, 0.5544899999999999, 0.6458, 0.7076600000000001, 0.6353300000000001, 0.5766899999999999, 0.5947100000000001, 0.67608, 0.40306, 0.76171, 0.7936300000000001, 0.6473800000000001, 0.66157, 0.33108000000000004, 0.59577, 0.80029, 0.5311899999999999, 0.55469, 0.38291, 0.05108, 0.5838300000000001, 0.64232, 0.23573000000000002, 0.50073, 0.56844, 0.73007, 0.52989, 0.0, 0.51076, 0.34745, 0.12697999999999998, 0.34578000000000003, 0.18611, 0.62007, 0.45091000000000003, 0.3988, 0.5211600000000001, 0.64083, 0.30146999999999996, 0.58628, 0.29681, 0.188, 0.64035, 0.28212, 0.40457, 0.67806, 0.28639000000000003, 0.1595, 0.29364, 0.29759, 0.3494, 0.16347, 0.27494, 0.34752, 0.29980999999999997, 0.04476, 0.42494, 0.04991, 0.26161999999999996, 0.15780999999999998, 0.038239999999999996, 0.21297, 0.19625, 0.31048000000000003, 0.37109000000000003, 0.35700000000000004, 0.23165, 0.18829, 0.31865, 0.21028000000000002, 0.17344, 0.24811, 0.6299399999999999, 0.15747], \"z\": [1.16374, 1.14524, 1.18326, 1.1269, 1.1346399999999999, 1.0961, 1.02912, 1.17278, 1.10476, 1.08764, 0.9953700000000001, 1.0838299999999998, 1.04782, 1.02152, 1.08113, 1.09774, 1.03938, 1.05249, 1.16157, 1.03999, 0.7146, 0.8675799999999999, 1.0867200000000001, 0.9058700000000001, 0.9891200000000001, 1.0661200000000002, 1.00793, 0.8711399999999999, 1.0314299999999998, 1.09879, 1.02169, 1.00508, 1.04477, 0.84829, 0.92624, 0.87964, 1.12945, 0.83309, 0.8711899999999999, 0.77866, 0.8775799999999999, 0.9439700000000001, 0.98569, 1.03302, 1.0826799999999999, 0.80975, 0.88025, 0.8952100000000001, 1.1681, 1.04167, 0.85974, 0.68655, 1.06054, 0.95544, 0.8313200000000001, 1.05261, 1.04685, 0.7219399999999999, 0.8377899999999999, 1.0641100000000001, 1.04993, 0.81826, 1.05613, 0.81255, 1.03817, 0.75695, 0.95076, 0.95025, 0.70697, 1.11111, 0.7280300000000001, 1.0516299999999998, 0.96372, 0.6080899999999999, 0.87021, 0.33613000000000004, 0.66062, 0.8771700000000001, 0.87625, 0.86216, 0.76042, 0.87877, 0.79381, 0.9083600000000001, 0.95434, 0.81329, 0.64367, 0.74173, 0.9949600000000001, 0.38595, 0.9316399999999999, 0.26135, 0.64184, 0.9436700000000001, 0.78236, 0.7911699999999999, 0.75862, 0.43165, 0.75473, 0.75602, 1.0898299999999999, 0.5497, 0.64498, 0.7559600000000001, 0.38856999999999997, 0.6376, 0.69699, 0.71629, 0.50163, 0.24749000000000002, 0.628, 0.59205, 0.70362, 0.62542, 0.37932, 0.9605299999999999, 0.84783, 0.29247, 0.69981, 0.49813, 0.6247699999999999, 0.7624, 1.01413, 0.49353, 0.80676, 0.19249000000000002, 0.47798999999999997, 0.7741600000000001, 0.92542, 0.8414200000000001, 0.71478, 0.147, 0.8192799999999999, 0.72368, 0.8633299999999999, 0.29561, 0.89186, 0.60323, 0.57576, 0.5375, 0.66366, 0.6053, 0.18519000000000002, 0.63178, 0.63054, 0.90981, 0.47493, 0.46115, 0.77623, 0.50353, 0.3109, 0.6158600000000001, 0.10419, 0.11037000000000001, 0.0, 0.14866, 0.23442]}, {\"marker\": {\"color\": \"rgb(150, 170, 25)\", \"line\": {\"color\": \"rgb(204, 204, 204)\", \"width\": 0.1}, \"size\": 12}, \"mode\": \"markers\", \"name\": \"2015\", \"type\": \"scatter3d\", \"x\": [1.3965100000000001, 1.3023200000000001, 1.32548, 1.459, 1.32629, 1.29025, 1.32944, 1.33171, 1.2501799999999998, 1.33358, 1.2285700000000002, 0.95578, 1.33723, 1.02054, 1.3945100000000001, 0.98124, 1.5639100000000001, 1.33596, 1.30782, 1.42727, 1.26637, 1.36011, 1.04424, 1.52186, 1.0635299999999999, 1.32792, 1.10715, 1.69042, 1.27778, 1.05351, 1.17898, 1.06166, 0.91861, 0.9669, 1.39541, 1.23011, 1.2074, 1.29098, 1.5542200000000002, 0.99534, 1.21183, 0.76454, 0.74553, 0.63244, 1.1689100000000001, 1.27074, 1.24461, 0.8640200000000001, 1.32376, 1.25114, 0.68133, 0.59448, 0.75985, 1.1225399999999999, 1.18498, 1.14723, 0.59325, 0.9001899999999999, 1.0319200000000002, 1.12555, 1.12486, 1.08254, 1.13145, 1.13764, 0.81038, 1.2080600000000001, 1.20813, 0.93929, 0.80148, 0.95847, 1.0076100000000001, 1.38604, 1.15174, 0.8282700000000001, 0.63216, 1.06098, 0.47428000000000003, 0.65435, 0.77042, 1.02389, 0.59543, 0.9019799999999999, 0.9743799999999999, 0.89012, 0.47038, 1.04345, 0.92053, 1.15991, 1.11312, 0.70532, 0.18847, 0.7347899999999999, 0.91851, 0.08308, 0.8786700000000001, 0.8322299999999999, 0.37545, 0.8953700000000001, 0.5906600000000001, 0.82819, 0.71206, 1.15406, 1.0256399999999999, 1.12094, 0.59532, 0.39047, 0.88113, 0.59867, 0.39753, 1.0088, 0.79907, 0.98549, 0.9204899999999999, 0.5455800000000001, 0.271, 0.0712, 0.64499, 0.52107, 0.26673, 0.0, 0.35996999999999996, 0.19072999999999998, 0.33024000000000003, 0.45407, 0.36471, 0.44025, 0.7682100000000001, 0.99355, 0.27108000000000004, 0.7419, 0.016040000000000002, 0.83524, 0.4225, 1.01216, 0.8818, 0.5464899999999999, 0.75778, 0.26074, 0.67866, 0.23906, 0.21101999999999999, 0.36498, 1.06024, 0.0694, 0.46038, 0.2852, 0.20824, 0.0785, 0.34193, 0.17417, 0.46534, 0.25811999999999996, 0.31982, 0.22208000000000003, 0.28665, 0.6632, 0.0153, 0.20868], \"y\": [0.9414299999999999, 0.94784, 0.87464, 0.88521, 0.9056299999999999, 0.8891100000000001, 0.89284, 0.9108700000000001, 0.9083700000000001, 0.93156, 0.9138700000000001, 0.8602700000000001, 0.8904200000000001, 0.8144399999999999, 0.86179, 0.69702, 0.91894, 0.89533, 0.8966700000000001, 0.80925, 0.90943, 0.76276, 0.7205199999999999, 1.02525, 0.79661, 0.89186, 0.85857, 0.79733, 0.9457899999999999, 0.78723, 0.84483, 0.8116, 0.69077, 0.7385, 0.72025, 0.95562, 0.88721, 0.8753, 0.72492, 0.6082, 0.61483, 0.67737, 0.64425, 0.59772, 0.7890199999999999, 0.99111, 0.9653799999999999, 0.79075, 0.74716, 0.9544600000000001, 0.5392, 0.61826, 0.66098, 0.64368, 0.8733700000000001, 0.73128, 0.7431399999999999, 0.73017, 0.7360800000000001, 0.77903, 0.7239399999999999, 0.78805, 0.7038, 0.6692600000000001, 0.6874100000000001, 0.92356, 0.92356, 0.61766, 0.63132, 0.53886, 0.7095, 1.01328, 0.77361, 0.63793, 0.7467600000000001, 0.73172, 0.65088, 0.16007000000000002, 0.57407, 0.64045, 0.51466, 0.69639, 0.72521, 0.81658, 0.29924, 0.7689, 0.74836, 0.8751899999999999, 0.72437, 0.58114, 0.43873, 0.60954, 0.73545, 0.09131, 0.81325, 0.79081, 0.07612000000000001, 0.66825, 0.54909, 0.60268, 0.07566, 0.88213, 0.83947, 0.75905, 0.6951, 0.5737899999999999, 0.73793, 0.66015, 0.60164, 0.69805, 0.6739, 0.60237, 0.27688, 0.40131999999999995, 0.33475, 0.34201, 0.5152899999999999, 0.36878, 0.38847, 0.09806000000000001, 0.5687399999999999, 0.44055, 0.0, 0.35874, 0.41435, 0.36291, 0.7299, 0.047760000000000004, 0.48246000000000006, 0.72926, 0.22562, 0.70806, 0.23401999999999998, 0.76649, 0.61712, 0.40064, 0.16683, 0.20583, 0.31051, 0.36315, 0.33860999999999997, 0.4354, 0.43372, 0.29707, 0.61114, 0.38215, 0.46721, 0.06699, 0.1501, 0.24009, 0.15185, 0.27125, 0.30335, 0.42863999999999997, 0.3191, 0.7219300000000001, 0.22396, 0.28443], \"z\": [1.34951, 1.4022299999999999, 1.36058, 1.33095, 1.32261, 1.31826, 1.28017, 1.2890700000000002, 1.3196700000000001, 1.30923, 1.22393, 1.2378799999999999, 1.29704, 0.91451, 1.24711, 1.2328700000000001, 1.21963, 1.36948, 1.28566, 1.12575, 1.28548, 1.08182, 1.25596, 1.02, 1.1985, 1.2993700000000001, 1.12447, 1.0786, 1.2603799999999998, 1.24823, 1.20643, 1.2089, 1.2401799999999998, 1.26504, 1.0839299999999998, 1.31379, 1.30203, 1.07617, 1.16594, 0.972, 1.18354, 1.0250700000000001, 1.04356, 1.34043, 1.26999, 1.25712, 0.9577399999999999, 0.99903, 1.21624, 1.19777, 0.97841, 1.01528, 1.30477, 1.1224100000000001, 1.27385, 1.25745, 1.14184, 0.97459, 1.23289, 1.27948, 1.07023, 0.79624, 1.1186200000000002, 1.23617, 1.1510200000000002, 1.07008, 0.89318, 1.07772, 0.81198, 1.22668, 0.98521, 1.05818, 1.22791, 1.0870799999999998, 0.9122600000000001, 0.94632, 1.15115, 0.9043200000000001, 1.10395, 0.9379299999999999, 0.41411000000000003, 1.05392, 0.9055700000000001, 0.94675, 0.91612, 0.8858799999999999, 1.0096399999999999, 1.13935, 1.09562, 1.03516, 0.95152, 0.64095, 1.00232, 1.02626, 0.8043399999999999, 0.9191600000000001, 1.04103, 1.17202, 0.73803, 1.3006, 1.07284, 0.9293299999999999, 0.80001, 1.20215, 0.9534799999999999, 0.8556299999999999, 0.60429, 0.92558, 0.43106000000000005, 0.54447, 1.20278, 0.81889, 1.18468, 0.6795399999999999, 1.0327600000000001, 0.78968, 0.38174, 1.01404, 0.74302, 1.0012, 0.86449, 0.60406, 0.9557100000000001, 0.86908, 0.99876, 0.59207, 0.7771100000000001, 1.10464, 0.70905, 0.38561999999999996, 0.41134, 1.01905, 0.8876700000000001, 1.10614, 0.747, 0.68093, 0.8604, 1.03526, 0.6629, 0.79273, 1.13299, 0.97619, 0.90528, 0.77265, 0.62736, 1.00268, 0.66801, 0.0, 0.76062, 0.46475, 0.77115, 0.85188, 0.30285, 0.7737, 0.35386, 0.47489, 0.41586999999999996, 0.13995]}],\n",
       "                        {\"margin\": {\"b\": 0, \"l\": 0, \"r\": 0, \"t\": 0}, \"template\": {\"data\": {\"bar\": [{\"error_x\": {\"color\": \"#2a3f5f\"}, \"error_y\": {\"color\": \"#2a3f5f\"}, \"marker\": {\"line\": {\"color\": \"#E5ECF6\", \"width\": 0.5}}, \"type\": \"bar\"}], \"barpolar\": [{\"marker\": {\"line\": {\"color\": \"#E5ECF6\", \"width\": 0.5}}, \"type\": \"barpolar\"}], \"carpet\": [{\"aaxis\": {\"endlinecolor\": \"#2a3f5f\", \"gridcolor\": \"white\", \"linecolor\": \"white\", \"minorgridcolor\": \"white\", \"startlinecolor\": \"#2a3f5f\"}, \"baxis\": {\"endlinecolor\": \"#2a3f5f\", \"gridcolor\": \"white\", \"linecolor\": \"white\", \"minorgridcolor\": \"white\", \"startlinecolor\": \"#2a3f5f\"}, \"type\": \"carpet\"}], \"choropleth\": [{\"colorbar\": {\"outlinewidth\": 0, \"ticks\": \"\"}, \"type\": \"choropleth\"}], \"contour\": [{\"colorbar\": {\"outlinewidth\": 0, \"ticks\": \"\"}, \"colorscale\": [[0.0, \"#0d0887\"], [0.1111111111111111, \"#46039f\"], [0.2222222222222222, \"#7201a8\"], [0.3333333333333333, \"#9c179e\"], [0.4444444444444444, \"#bd3786\"], [0.5555555555555556, \"#d8576b\"], [0.6666666666666666, \"#ed7953\"], [0.7777777777777778, \"#fb9f3a\"], [0.8888888888888888, \"#fdca26\"], [1.0, \"#f0f921\"]], \"type\": \"contour\"}], \"contourcarpet\": [{\"colorbar\": {\"outlinewidth\": 0, \"ticks\": \"\"}, \"type\": \"contourcarpet\"}], \"heatmap\": [{\"colorbar\": {\"outlinewidth\": 0, \"ticks\": \"\"}, \"colorscale\": [[0.0, \"#0d0887\"], [0.1111111111111111, \"#46039f\"], [0.2222222222222222, \"#7201a8\"], [0.3333333333333333, \"#9c179e\"], [0.4444444444444444, \"#bd3786\"], [0.5555555555555556, \"#d8576b\"], [0.6666666666666666, \"#ed7953\"], [0.7777777777777778, \"#fb9f3a\"], [0.8888888888888888, \"#fdca26\"], [1.0, \"#f0f921\"]], \"type\": \"heatmap\"}], \"heatmapgl\": [{\"colorbar\": {\"outlinewidth\": 0, \"ticks\": \"\"}, \"colorscale\": [[0.0, \"#0d0887\"], [0.1111111111111111, \"#46039f\"], [0.2222222222222222, \"#7201a8\"], [0.3333333333333333, \"#9c179e\"], [0.4444444444444444, \"#bd3786\"], [0.5555555555555556, \"#d8576b\"], [0.6666666666666666, \"#ed7953\"], [0.7777777777777778, \"#fb9f3a\"], [0.8888888888888888, \"#fdca26\"], [1.0, \"#f0f921\"]], \"type\": \"heatmapgl\"}], \"histogram\": [{\"marker\": {\"colorbar\": {\"outlinewidth\": 0, \"ticks\": \"\"}}, \"type\": \"histogram\"}], \"histogram2d\": [{\"colorbar\": {\"outlinewidth\": 0, \"ticks\": \"\"}, \"colorscale\": [[0.0, \"#0d0887\"], [0.1111111111111111, \"#46039f\"], [0.2222222222222222, \"#7201a8\"], [0.3333333333333333, \"#9c179e\"], [0.4444444444444444, \"#bd3786\"], [0.5555555555555556, \"#d8576b\"], [0.6666666666666666, \"#ed7953\"], [0.7777777777777778, \"#fb9f3a\"], [0.8888888888888888, \"#fdca26\"], [1.0, \"#f0f921\"]], \"type\": \"histogram2d\"}], \"histogram2dcontour\": [{\"colorbar\": {\"outlinewidth\": 0, \"ticks\": \"\"}, \"colorscale\": [[0.0, \"#0d0887\"], [0.1111111111111111, \"#46039f\"], [0.2222222222222222, \"#7201a8\"], [0.3333333333333333, \"#9c179e\"], [0.4444444444444444, \"#bd3786\"], [0.5555555555555556, \"#d8576b\"], [0.6666666666666666, \"#ed7953\"], [0.7777777777777778, \"#fb9f3a\"], [0.8888888888888888, \"#fdca26\"], [1.0, \"#f0f921\"]], \"type\": \"histogram2dcontour\"}], \"mesh3d\": [{\"colorbar\": {\"outlinewidth\": 0, \"ticks\": \"\"}, \"type\": \"mesh3d\"}], \"parcoords\": [{\"line\": {\"colorbar\": {\"outlinewidth\": 0, \"ticks\": \"\"}}, \"type\": \"parcoords\"}], \"scatter\": [{\"marker\": {\"colorbar\": {\"outlinewidth\": 0, \"ticks\": \"\"}}, \"type\": \"scatter\"}], \"scatter3d\": [{\"line\": {\"colorbar\": {\"outlinewidth\": 0, \"ticks\": \"\"}}, \"marker\": {\"colorbar\": {\"outlinewidth\": 0, \"ticks\": \"\"}}, \"type\": \"scatter3d\"}], \"scattercarpet\": [{\"marker\": {\"colorbar\": {\"outlinewidth\": 0, \"ticks\": \"\"}}, \"type\": \"scattercarpet\"}], \"scattergeo\": [{\"marker\": {\"colorbar\": {\"outlinewidth\": 0, \"ticks\": \"\"}}, \"type\": \"scattergeo\"}], \"scattergl\": [{\"marker\": {\"colorbar\": {\"outlinewidth\": 0, \"ticks\": \"\"}}, \"type\": \"scattergl\"}], \"scattermapbox\": [{\"marker\": {\"colorbar\": {\"outlinewidth\": 0, \"ticks\": \"\"}}, \"type\": \"scattermapbox\"}], \"scatterpolar\": [{\"marker\": {\"colorbar\": {\"outlinewidth\": 0, \"ticks\": \"\"}}, \"type\": \"scatterpolar\"}], \"scatterpolargl\": [{\"marker\": {\"colorbar\": {\"outlinewidth\": 0, \"ticks\": \"\"}}, \"type\": \"scatterpolargl\"}], \"scatterternary\": [{\"marker\": {\"colorbar\": {\"outlinewidth\": 0, \"ticks\": \"\"}}, \"type\": \"scatterternary\"}], \"surface\": [{\"colorbar\": {\"outlinewidth\": 0, \"ticks\": \"\"}, \"colorscale\": [[0.0, \"#0d0887\"], [0.1111111111111111, \"#46039f\"], [0.2222222222222222, \"#7201a8\"], [0.3333333333333333, \"#9c179e\"], [0.4444444444444444, \"#bd3786\"], [0.5555555555555556, \"#d8576b\"], [0.6666666666666666, \"#ed7953\"], [0.7777777777777778, \"#fb9f3a\"], [0.8888888888888888, \"#fdca26\"], [1.0, \"#f0f921\"]], \"type\": \"surface\"}], \"table\": [{\"cells\": {\"fill\": {\"color\": \"#EBF0F8\"}, \"line\": {\"color\": \"white\"}}, \"header\": {\"fill\": {\"color\": \"#C8D4E3\"}, \"line\": {\"color\": \"white\"}}, \"type\": \"table\"}]}, \"layout\": {\"annotationdefaults\": {\"arrowcolor\": \"#2a3f5f\", \"arrowhead\": 0, \"arrowwidth\": 1}, \"colorscale\": {\"diverging\": [[0, \"#8e0152\"], [0.1, \"#c51b7d\"], [0.2, \"#de77ae\"], [0.3, \"#f1b6da\"], [0.4, \"#fde0ef\"], [0.5, \"#f7f7f7\"], [0.6, \"#e6f5d0\"], [0.7, \"#b8e186\"], [0.8, \"#7fbc41\"], [0.9, \"#4d9221\"], [1, \"#276419\"]], \"sequential\": [[0.0, \"#0d0887\"], [0.1111111111111111, \"#46039f\"], [0.2222222222222222, \"#7201a8\"], [0.3333333333333333, \"#9c179e\"], [0.4444444444444444, \"#bd3786\"], [0.5555555555555556, \"#d8576b\"], [0.6666666666666666, \"#ed7953\"], [0.7777777777777778, \"#fb9f3a\"], [0.8888888888888888, \"#fdca26\"], [1.0, \"#f0f921\"]], \"sequentialminus\": [[0.0, \"#0d0887\"], [0.1111111111111111, \"#46039f\"], [0.2222222222222222, \"#7201a8\"], [0.3333333333333333, \"#9c179e\"], [0.4444444444444444, \"#bd3786\"], [0.5555555555555556, \"#d8576b\"], [0.6666666666666666, \"#ed7953\"], [0.7777777777777778, \"#fb9f3a\"], [0.8888888888888888, \"#fdca26\"], [1.0, \"#f0f921\"]]}, \"colorway\": [\"#636efa\", \"#EF553B\", \"#00cc96\", \"#ab63fa\", \"#FFA15A\", \"#19d3f3\", \"#FF6692\", \"#B6E880\", \"#FF97FF\", \"#FECB52\"], \"font\": {\"color\": \"#2a3f5f\"}, \"geo\": {\"bgcolor\": \"white\", \"lakecolor\": \"white\", \"landcolor\": \"#E5ECF6\", \"showlakes\": true, \"showland\": true, \"subunitcolor\": \"white\"}, \"hoverlabel\": {\"align\": \"left\"}, \"hovermode\": \"closest\", \"mapbox\": {\"style\": \"light\"}, \"paper_bgcolor\": \"white\", \"plot_bgcolor\": \"#E5ECF6\", \"polar\": {\"angularaxis\": {\"gridcolor\": \"white\", \"linecolor\": \"white\", \"ticks\": \"\"}, \"bgcolor\": \"#E5ECF6\", \"radialaxis\": {\"gridcolor\": \"white\", \"linecolor\": \"white\", \"ticks\": \"\"}}, \"scene\": {\"xaxis\": {\"backgroundcolor\": \"#E5ECF6\", \"gridcolor\": \"white\", \"gridwidth\": 2, \"linecolor\": \"white\", \"showbackground\": true, \"ticks\": \"\", \"zerolinecolor\": \"white\"}, \"yaxis\": {\"backgroundcolor\": \"#E5ECF6\", \"gridcolor\": \"white\", \"gridwidth\": 2, \"linecolor\": \"white\", \"showbackground\": true, \"ticks\": \"\", \"zerolinecolor\": \"white\"}, \"zaxis\": {\"backgroundcolor\": \"#E5ECF6\", \"gridcolor\": \"white\", \"gridwidth\": 2, \"linecolor\": \"white\", \"showbackground\": true, \"ticks\": \"\", \"zerolinecolor\": \"white\"}}, \"shapedefaults\": {\"line\": {\"color\": \"#2a3f5f\"}}, \"ternary\": {\"aaxis\": {\"gridcolor\": \"white\", \"linecolor\": \"white\", \"ticks\": \"\"}, \"baxis\": {\"gridcolor\": \"white\", \"linecolor\": \"white\", \"ticks\": \"\"}, \"bgcolor\": \"#E5ECF6\", \"caxis\": {\"gridcolor\": \"white\", \"linecolor\": \"white\", \"ticks\": \"\"}}, \"title\": {\"x\": 0.05}, \"xaxis\": {\"automargin\": true, \"gridcolor\": \"white\", \"linecolor\": \"white\", \"ticks\": \"\", \"zerolinecolor\": \"white\", \"zerolinewidth\": 2}, \"yaxis\": {\"automargin\": true, \"gridcolor\": \"white\", \"linecolor\": \"white\", \"ticks\": \"\", \"zerolinecolor\": \"white\", \"zerolinewidth\": 2}}}, \"title\": {\"text\": \"2015 , 2016 and 2017 values\"}},\n",
       "                        {\"responsive\": true}\n",
       "                    ).then(function(){\n",
       "                            \n",
       "var gd = document.getElementById('8292ba57-b4bc-4727-8293-5002e550c1fb');\n",
       "var x = new MutationObserver(function (mutations, observer) {{\n",
       "        var display = window.getComputedStyle(gd).display;\n",
       "        if (!display || display === 'none') {{\n",
       "            console.log([gd, 'removed!']);\n",
       "            Plotly.purge(gd);\n",
       "            observer.disconnect();\n",
       "        }}\n",
       "}});\n",
       "\n",
       "// Listen for the removal of the full notebook cells\n",
       "var notebookContainer = gd.closest('#notebook-container');\n",
       "if (notebookContainer) {{\n",
       "    x.observe(notebookContainer, {childList: true});\n",
       "}}\n",
       "\n",
       "// Listen for the clearing of the current output cell\n",
       "var outputEl = gd.closest('.output');\n",
       "if (outputEl) {{\n",
       "    x.observe(outputEl, {childList: true});\n",
       "}}\n",
       "\n",
       "                        })\n",
       "                };\n",
       "                });\n",
       "            </script>\n",
       "        </div>"
      ]
     },
     "metadata": {},
     "output_type": "display_data"
    }
   ],
   "source": [
    "# trace1\n",
    "trace1 = go.Scatter3d(\n",
    "    x=df2017.EconomyGDPperCapita,\n",
    "    y=df2017.HealthLifeExpectancy,\n",
    "    z=df2017.Family,\n",
    "    mode='markers',\n",
    "    name = \"2017\",\n",
    "    marker=dict(\n",
    "        color='rgb(217, 100, 100)',\n",
    "        size=12,\n",
    "        line=dict(\n",
    "            color='rgb(255, 255, 255)',\n",
    "            width=0.1\n",
    "        )\n",
    "    )\n",
    ")\n",
    "# trace2\n",
    "trace2 = go.Scatter3d(\n",
    "    x=df2016[\"Economy(GDPperCapita)\"],\n",
    "    y=df2016[\"Health(LifeExpectancy)\"],\n",
    "    z=df2016.Family,\n",
    "    mode='markers',\n",
    "    name = \"2016\",\n",
    "    marker=dict(\n",
    "        color='rgb(54, 170, 127)',\n",
    "        size=12,\n",
    "        line=dict(\n",
    "            color='rgb(204, 204, 204)',\n",
    "            width=0.1\n",
    "        )\n",
    "    )\n",
    ")\n",
    "# trace3\n",
    "trace3 = go.Scatter3d(\n",
    "    x=df2015[\"Economy(GDPperCapita)\"],\n",
    "    y=df2015[\"Health(LifeExpectancy)\"],\n",
    "    z=df2015.Family,\n",
    "    mode='markers',\n",
    "    name = \"2015\",\n",
    "    marker=dict(\n",
    "        color='rgb(150, 170, 25)',\n",
    "        size=12,\n",
    "        line=dict(\n",
    "            color='rgb(204, 204, 204)',\n",
    "            width=0.1\n",
    "        )\n",
    "    )\n",
    ")\n",
    "data = [trace1, trace2, trace3]\n",
    "layout = go.Layout(\n",
    "    title = '2015 , 2016 and 2017 values',\n",
    "    margin=dict(\n",
    "        l=0,\n",
    "        r=0,\n",
    "        b=0,\n",
    "        t=0\n",
    "    )\n",
    ")\n",
    "fig = go.Figure(data=data, layout=layout)\n",
    "iplot(fig)"
   ]
  },
  {
   "cell_type": "markdown",
   "metadata": {},
   "source": [
    "# Thank You\n",
    "\n",
    "If you have any suggestion or advice or feedback, I will be very appreciated to hear them.\n",
    "### Also there are other visualization kernels\n",
    "* [FİFA 19 Player Data Analysis and Visualization EDA](https://www.kaggle.com/ismailsefa/f-fa-19-player-data-analysis-and-visualization-eda)\n",
    "* [Crimes Data Analysis and Visualzation (EDA)](https://www.kaggle.com/ismailsefa/crimes-data-analysis-and-visualzation-eda#Crimes-Data-Analysis-and-Visualzation-(EDA)\n",
    "* [Google Play Store Apps Data Analysis (EDA)](https://www.kaggle.com/ismailsefa/google-play-store-apps-data-analysis-eda/notebook)"
   ]
  }
 ],
 "metadata": {
  "kernelspec": {
   "display_name": "Python 3",
   "language": "python",
   "name": "python3"
  },
  "language_info": {
   "codemirror_mode": {
    "name": "ipython",
    "version": 3
   },
   "file_extension": ".py",
   "mimetype": "text/x-python",
   "name": "python",
   "nbconvert_exporter": "python",
   "pygments_lexer": "ipython3",
   "version": "3.6.6"
  }
 },
 "nbformat": 4,
 "nbformat_minor": 1
}
